{
 "cells": [
  {
   "cell_type": "code",
   "execution_count": 3,
   "metadata": {},
   "outputs": [],
   "source": [
    "import sys\n",
    "sys.path.append(r'E:\\0code')"
   ]
  },
  {
   "cell_type": "code",
   "execution_count": 56,
   "metadata": {},
   "outputs": [],
   "source": [
    "import pyml\n",
    "import pandas as pd\n",
    "import numpy as np\n",
    "from pyml.neighbors.regression import KNeighborsRegressor"
   ]
  },
  {
   "cell_type": "markdown",
   "metadata": {},
   "source": [
    "# 读取数据文件"
   ]
  },
  {
   "cell_type": "code",
   "execution_count": 48,
   "metadata": {},
   "outputs": [],
   "source": [
    "train = pd.read_excel('./data/train.xlsx')\n",
    "test = pd.read_excel('./data/testStudent.xlsx')"
   ]
  },
  {
   "cell_type": "code",
   "execution_count": 11,
   "metadata": {},
   "outputs": [
    {
     "data": {
      "text/html": [
       "<div>\n",
       "<style scoped>\n",
       "    .dataframe tbody tr th:only-of-type {\n",
       "        vertical-align: middle;\n",
       "    }\n",
       "\n",
       "    .dataframe tbody tr th {\n",
       "        vertical-align: top;\n",
       "    }\n",
       "\n",
       "    .dataframe thead th {\n",
       "        text-align: right;\n",
       "    }\n",
       "</style>\n",
       "<table border=\"1\" class=\"dataframe\">\n",
       "  <thead>\n",
       "    <tr style=\"text-align: right;\">\n",
       "      <th></th>\n",
       "      <th>Additional_Number_of_Scoring</th>\n",
       "      <th>Average_Score</th>\n",
       "      <th>Review_Total_Negative_Word_Counts</th>\n",
       "      <th>Total_Number_of_Reviews</th>\n",
       "      <th>Review_Total_Positive_Word_Counts</th>\n",
       "      <th>Total_Number_of_Reviews_Reviewer_Has_Given</th>\n",
       "      <th>Tags</th>\n",
       "      <th>Reviewer_Score</th>\n",
       "    </tr>\n",
       "  </thead>\n",
       "  <tbody>\n",
       "    <tr>\n",
       "      <th>0</th>\n",
       "      <td>255</td>\n",
       "      <td>8.1</td>\n",
       "      <td>57</td>\n",
       "      <td>1290</td>\n",
       "      <td>10</td>\n",
       "      <td>1</td>\n",
       "      <td>[' Family with young children ', ' Standard Qu...</td>\n",
       "      <td>6.3</td>\n",
       "    </tr>\n",
       "    <tr>\n",
       "      <th>1</th>\n",
       "      <td>211</td>\n",
       "      <td>8.6</td>\n",
       "      <td>0</td>\n",
       "      <td>2923</td>\n",
       "      <td>19</td>\n",
       "      <td>12</td>\n",
       "      <td>[' Leisure trip ', ' Family with young childre...</td>\n",
       "      <td>10.0</td>\n",
       "    </tr>\n",
       "    <tr>\n",
       "      <th>2</th>\n",
       "      <td>189</td>\n",
       "      <td>9.2</td>\n",
       "      <td>27</td>\n",
       "      <td>781</td>\n",
       "      <td>29</td>\n",
       "      <td>24</td>\n",
       "      <td>[' Business trip ', ' Couple ', ' Superior Roo...</td>\n",
       "      <td>10.0</td>\n",
       "    </tr>\n",
       "    <tr>\n",
       "      <th>3</th>\n",
       "      <td>1258</td>\n",
       "      <td>9.4</td>\n",
       "      <td>20</td>\n",
       "      <td>4204</td>\n",
       "      <td>31</td>\n",
       "      <td>3</td>\n",
       "      <td>[' Leisure trip ', ' Couple ', ' Deluxe King R...</td>\n",
       "      <td>9.2</td>\n",
       "    </tr>\n",
       "    <tr>\n",
       "      <th>4</th>\n",
       "      <td>289</td>\n",
       "      <td>8.8</td>\n",
       "      <td>0</td>\n",
       "      <td>1519</td>\n",
       "      <td>3</td>\n",
       "      <td>9</td>\n",
       "      <td>[' Leisure trip ', ' Solo traveler ', ' Deluxe...</td>\n",
       "      <td>10.0</td>\n",
       "    </tr>\n",
       "  </tbody>\n",
       "</table>\n",
       "</div>"
      ],
      "text/plain": [
       "   Additional_Number_of_Scoring  Average_Score  \\\n",
       "0                           255            8.1   \n",
       "1                           211            8.6   \n",
       "2                           189            9.2   \n",
       "3                          1258            9.4   \n",
       "4                           289            8.8   \n",
       "\n",
       "   Review_Total_Negative_Word_Counts  Total_Number_of_Reviews  \\\n",
       "0                                 57                     1290   \n",
       "1                                  0                     2923   \n",
       "2                                 27                      781   \n",
       "3                                 20                     4204   \n",
       "4                                  0                     1519   \n",
       "\n",
       "   Review_Total_Positive_Word_Counts  \\\n",
       "0                                 10   \n",
       "1                                 19   \n",
       "2                                 29   \n",
       "3                                 31   \n",
       "4                                  3   \n",
       "\n",
       "   Total_Number_of_Reviews_Reviewer_Has_Given  \\\n",
       "0                                           1   \n",
       "1                                          12   \n",
       "2                                          24   \n",
       "3                                           3   \n",
       "4                                           9   \n",
       "\n",
       "                                                Tags  Reviewer_Score  \n",
       "0  [' Family with young children ', ' Standard Qu...             6.3  \n",
       "1  [' Leisure trip ', ' Family with young childre...            10.0  \n",
       "2  [' Business trip ', ' Couple ', ' Superior Roo...            10.0  \n",
       "3  [' Leisure trip ', ' Couple ', ' Deluxe King R...             9.2  \n",
       "4  [' Leisure trip ', ' Solo traveler ', ' Deluxe...            10.0  "
      ]
     },
     "execution_count": 11,
     "metadata": {},
     "output_type": "execute_result"
    }
   ],
   "source": [
    "train.head()"
   ]
  },
  {
   "cell_type": "code",
   "execution_count": 14,
   "metadata": {},
   "outputs": [
    {
     "data": {
      "text/plain": [
       "Additional_Number_of_Scoring                    int64\n",
       "Average_Score                                 float64\n",
       "Review_Total_Negative_Word_Counts               int64\n",
       "Total_Number_of_Reviews                         int64\n",
       "Review_Total_Positive_Word_Counts               int64\n",
       "Total_Number_of_Reviews_Reviewer_Has_Given      int64\n",
       "Tags                                           object\n",
       "Reviewer_Score                                float64\n",
       "dtype: object"
      ]
     },
     "execution_count": 14,
     "metadata": {},
     "output_type": "execute_result"
    }
   ],
   "source": [
    "train.dtypes"
   ]
  },
  {
   "cell_type": "code",
   "execution_count": 27,
   "metadata": {},
   "outputs": [
    {
     "data": {
      "text/plain": [
       "[' Family with young children ', '  Standard Queen Room ', '  Stayed 1 night ']"
      ]
     },
     "execution_count": 27,
     "metadata": {},
     "output_type": "execute_result"
    }
   ],
   "source": [
    "train.Tags[0].strip(\"[]\").replace(\"'\",'').split(',')"
   ]
  },
  {
   "cell_type": "code",
   "execution_count": null,
   "metadata": {},
   "outputs": [],
   "source": [
    "def preprocessing_data(df):\n",
    "    pass"
   ]
  },
  {
   "cell_type": "markdown",
   "metadata": {},
   "source": [
    "# 定义特征构建函数\n",
    "\n",
    "https://github.com/ShawnyXiao/2017-CCF-BDCI-Enterprise 该师兄的分析我觉得蛮有道理的\n",
    "\n",
    "\n",
    "1. 基础特征\n",
    "2. 偏离值特征\n",
    "3. 交叉特征\n",
    "4. 想象力特征hhh"
   ]
  },
  {
   "cell_type": "markdown",
   "metadata": {},
   "source": [
    "观察数据，发现\n",
    "1. 通过比值构建新特征：构造积极、消极、评论员评论占比特征"
   ]
  },
  {
   "cell_type": "code",
   "execution_count": 51,
   "metadata": {},
   "outputs": [],
   "source": [
    "def get_proportion_feature(df):\n",
    "    df = df.copy()\n",
    "    \n",
    "    base_features = ['Total_Number_of_Reviews']\n",
    "    gap_features = ['Review_Total_Negative_Word_Counts', 'Review_Total_Positive_Word_Counts','Total_Number_of_Reviews_Reviewer_Has_Given']\n",
    "    for base_feature in base_features:\n",
    "        for gap_feature in gap_features:\n",
    "            df[gap_feature+'_radio_'+base_feature] = df[gap_feature]/df[base_feature] * 10\n",
    "            # 数字太小了，乘上一个10\n",
    "            df = df.drop(gap_feature, axis=1)\n",
    "    return df"
   ]
  },
  {
   "cell_type": "markdown",
   "metadata": {},
   "source": [
    "# 调用函数 构建特征"
   ]
  },
  {
   "cell_type": "code",
   "execution_count": 52,
   "metadata": {},
   "outputs": [],
   "source": [
    "train_feat = get_proportion_feature(train)\n",
    "test_feat = get_proportion_feature(test)"
   ]
  },
  {
   "cell_type": "code",
   "execution_count": 53,
   "metadata": {},
   "outputs": [
    {
     "data": {
      "text/plain": [
       "Index(['Additional_Number_of_Scoring', 'Average_Score',\n",
       "       'Total_Number_of_Reviews', 'Tags', 'Reviewer_Score',\n",
       "       'Review_Total_Negative_Word_Counts_radio_Total_Number_of_Reviews',\n",
       "       'Review_Total_Positive_Word_Counts_radio_Total_Number_of_Reviews',\n",
       "       'Total_Number_of_Reviews_Reviewer_Has_Given_radio_Total_Number_of_Reviews'],\n",
       "      dtype='object')"
      ]
     },
     "execution_count": 53,
     "metadata": {},
     "output_type": "execute_result"
    }
   ],
   "source": [
    "train_feat.columns"
   ]
  },
  {
   "cell_type": "markdown",
   "metadata": {},
   "source": [
    "# 构建训练集与测试集"
   ]
  },
  {
   "cell_type": "code",
   "execution_count": 54,
   "metadata": {},
   "outputs": [],
   "source": [
    "train_feat = train_feat.drop(labels=['Tags'], axis=1)\n",
    "test_feat = test_feat.drop(labels=['Tags'], axis=1)"
   ]
  },
  {
   "cell_type": "code",
   "execution_count": 60,
   "metadata": {},
   "outputs": [],
   "source": [
    "train_label = train_feat['Reviewer_Score']\n",
    "train_feat = train_feat.drop('Reviewer_Score', axis=1)"
   ]
  },
  {
   "cell_type": "code",
   "execution_count": 61,
   "metadata": {},
   "outputs": [
    {
     "data": {
      "text/plain": [
       "Index(['Additional_Number_of_Scoring', 'Average_Score',\n",
       "       'Total_Number_of_Reviews',\n",
       "       'Review_Total_Negative_Word_Counts_radio_Total_Number_of_Reviews',\n",
       "       'Review_Total_Positive_Word_Counts_radio_Total_Number_of_Reviews',\n",
       "       'Total_Number_of_Reviews_Reviewer_Has_Given_radio_Total_Number_of_Reviews'],\n",
       "      dtype='object')"
      ]
     },
     "execution_count": 61,
     "metadata": {},
     "output_type": "execute_result"
    }
   ],
   "source": [
    "train_feat.columns"
   ]
  },
  {
   "cell_type": "code",
   "execution_count": 62,
   "metadata": {},
   "outputs": [
    {
     "data": {
      "text/plain": [
       "Index(['Additional_Number_of_Scoring', 'Average_Score',\n",
       "       'Total_Number_of_Reviews',\n",
       "       'Review_Total_Negative_Word_Counts_radio_Total_Number_of_Reviews',\n",
       "       'Review_Total_Positive_Word_Counts_radio_Total_Number_of_Reviews',\n",
       "       'Total_Number_of_Reviews_Reviewer_Has_Given_radio_Total_Number_of_Reviews'],\n",
       "      dtype='object')"
      ]
     },
     "execution_count": 62,
     "metadata": {},
     "output_type": "execute_result"
    }
   ],
   "source": [
    "test_feat.columns"
   ]
  },
  {
   "cell_type": "markdown",
   "metadata": {},
   "source": [
    "# 导入模型与训练"
   ]
  },
  {
   "cell_type": "code",
   "execution_count": 57,
   "metadata": {},
   "outputs": [],
   "source": [
    "kreg = KNeighborsRegressor()"
   ]
  },
  {
   "cell_type": "code",
   "execution_count": 65,
   "metadata": {},
   "outputs": [],
   "source": [
    "kreg.fit(train_feat.values, train_label.values.reshape(-1,1))"
   ]
  },
  {
   "cell_type": "code",
   "execution_count": null,
   "metadata": {},
   "outputs": [],
   "source": [
    "y_pred = kreg.predict(test_feat.values)"
   ]
  },
  {
   "cell_type": "code",
   "execution_count": null,
   "metadata": {},
   "outputs": [],
   "source": []
  },
  {
   "cell_type": "markdown",
   "metadata": {},
   "source": [
    "# 结果文件的写出"
   ]
  },
  {
   "cell_type": "code",
   "execution_count": null,
   "metadata": {},
   "outputs": [],
   "source": [
    "sub = pd.DataFrame(y_pred)\n",
    "sub.to_csv('./results/'+ str(datetime.datetime.now().strftime(\"%Y-%m-%d-%H-%M\")) + \".csv\", index=0, header=None, index_label=None)"
   ]
  }
 ],
 "metadata": {
  "kernelspec": {
   "display_name": "Python 3",
   "language": "python",
   "name": "python3"
  },
  "language_info": {
   "codemirror_mode": {
    "name": "ipython",
    "version": 3
   },
   "file_extension": ".py",
   "mimetype": "text/x-python",
   "name": "python",
   "nbconvert_exporter": "python",
   "pygments_lexer": "ipython3",
   "version": "3.6.6"
  },
  "toc": {
   "base_numbering": 1,
   "nav_menu": {},
   "number_sections": true,
   "sideBar": true,
   "skip_h1_title": false,
   "title_cell": "Table of Contents",
   "title_sidebar": "Contents",
   "toc_cell": false,
   "toc_position": {},
   "toc_section_display": true,
   "toc_window_display": false
  }
 },
 "nbformat": 4,
 "nbformat_minor": 2
}
