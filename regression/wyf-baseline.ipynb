{
 "cells": [
  {
   "cell_type": "code",
   "execution_count": 2,
   "metadata": {},
   "outputs": [],
   "source": [
    "import sys\n",
    "# sys.path.append(r'/home/wyf/0code')\n",
    "sys.path.append(r'E:/0code')"
   ]
  },
  {
   "cell_type": "code",
   "execution_count": 3,
   "metadata": {},
   "outputs": [],
   "source": [
    "import pyml\n",
    "import pandas as pd\n",
    "import numpy as np\n",
    "from pyml.neighbors.regression import KNeighborsRegressor\n",
    "from pyml.preprocessing import z_score"
   ]
  },
  {
   "cell_type": "markdown",
   "metadata": {},
   "source": [
    "# 读取数据文件"
   ]
  },
  {
   "cell_type": "code",
   "execution_count": 4,
   "metadata": {},
   "outputs": [],
   "source": [
    "train = pd.read_excel('./data/train.xlsx')\n",
    "test = pd.read_excel('./data/testStudent.xlsx')"
   ]
  },
  {
   "cell_type": "code",
   "execution_count": 5,
   "metadata": {},
   "outputs": [
    {
     "data": {
      "text/plain": [
       "Additional_Number_of_Scoring                    int64\n",
       "Average_Score                                 float64\n",
       "Review_Total_Negative_Word_Counts               int64\n",
       "Total_Number_of_Reviews                         int64\n",
       "Review_Total_Positive_Word_Counts               int64\n",
       "Total_Number_of_Reviews_Reviewer_Has_Given      int64\n",
       "Tags                                           object\n",
       "Reviewer_Score                                float64\n",
       "dtype: object"
      ]
     },
     "execution_count": 5,
     "metadata": {},
     "output_type": "execute_result"
    }
   ],
   "source": [
    "train.dtypes # 检查有没有数据类型错误的，比如原本是int的变成str，说明里面可能有nan值等奇怪的数据"
   ]
  },
  {
   "cell_type": "code",
   "execution_count": 6,
   "metadata": {},
   "outputs": [
    {
     "data": {
      "text/plain": [
       "[' Family with young children ', '  Standard Queen Room ', '  Stayed 1 night ']"
      ]
     },
     "execution_count": 6,
     "metadata": {},
     "output_type": "execute_result"
    }
   ],
   "source": [
    "train.Tags[0].strip(\"[]\").replace(\"'\",'').split(',')"
   ]
  },
  {
   "cell_type": "code",
   "execution_count": 7,
   "metadata": {},
   "outputs": [],
   "source": [
    "def preprocessing_data(df):\n",
    "    pass"
   ]
  },
  {
   "cell_type": "markdown",
   "metadata": {},
   "source": [
    "# 构建训练集与测试集"
   ]
  },
  {
   "cell_type": "code",
   "execution_count": 8,
   "metadata": {},
   "outputs": [],
   "source": [
    "train_label = train['Reviewer_Score']\n",
    "train_feat = train.drop('Reviewer_Score', axis=1)\n",
    "test_feat = test"
   ]
  },
  {
   "cell_type": "markdown",
   "metadata": {},
   "source": [
    "# 定义特征构建函数\n",
    "\n",
    "https://github.com/ShawnyXiao/2017-CCF-BDCI-Enterprise 该师兄的分析我觉得蛮有道理的\n",
    "\n",
    "\n",
    "1. 基础特征\n",
    "2. 偏离值特征\n",
    "3. 交叉特征\n",
    "4. 想象力特征hhh"
   ]
  },
  {
   "cell_type": "markdown",
   "metadata": {},
   "source": [
    "观察数据，发现\n",
    "1. 通过比值构建新特征：构造积极、消极、评论员评论占比特征"
   ]
  },
  {
   "cell_type": "code",
   "execution_count": 10,
   "metadata": {},
   "outputs": [],
   "source": [
    "def get_proportion_feature(df):\n",
    "    df = df.copy()\n",
    "    \n",
    "    base_features = ['Total_Number_of_Reviews']\n",
    "    gap_features = ['Review_Total_Negative_Word_Counts', 'Review_Total_Positive_Word_Counts','Total_Number_of_Reviews_Reviewer_Has_Given']\n",
    "    for base_feature in base_features:\n",
    "        for gap_feature in gap_features:\n",
    "            df[gap_feature+'_radio_'+base_feature] = df[gap_feature]/df[base_feature] * 10\n",
    "            # 数字太小了，乘上一个10\n",
    "            df = df.drop(gap_feature, axis=1)\n",
    "    return df"
   ]
  },
  {
   "cell_type": "code",
   "execution_count": 11,
   "metadata": {},
   "outputs": [],
   "source": [
    "def normalized_df(df):\n",
    "    # 将数据归一化\n",
    "    return (df - df.min()) / (df.max() - df.min())"
   ]
  },
  {
   "cell_type": "markdown",
   "metadata": {},
   "source": [
    "# 调用函数 构建特征"
   ]
  },
  {
   "cell_type": "code",
   "execution_count": 12,
   "metadata": {},
   "outputs": [],
   "source": [
    "# 暂时不处理tags数据，就将其丢弃\n",
    "train_feat = train_feat.drop(labels=['Tags'], axis=1)\n",
    "test_feat = test_feat.drop(labels=['Tags'], axis=1)"
   ]
  },
  {
   "cell_type": "code",
   "execution_count": 13,
   "metadata": {},
   "outputs": [],
   "source": [
    "train_feat = get_proportion_feature(train_feat)\n",
    "test_feat = get_proportion_feature(test_feat)"
   ]
  },
  {
   "cell_type": "code",
   "execution_count": 14,
   "metadata": {},
   "outputs": [],
   "source": [
    "train_feat = normalized_df(train_feat)\n",
    "test_feat = normalized_df(test_feat)"
   ]
  },
  {
   "cell_type": "markdown",
   "metadata": {},
   "source": [
    "# 导入模型与训练"
   ]
  },
  {
   "cell_type": "code",
   "execution_count": 20,
   "metadata": {},
   "outputs": [],
   "source": [
    "kreg = KNeighborsRegressor()"
   ]
  },
  {
   "cell_type": "code",
   "execution_count": 21,
   "metadata": {},
   "outputs": [],
   "source": [
    "kreg.fit(train_feat.values, train_label.values.reshape(-1,1))"
   ]
  },
  {
   "cell_type": "code",
   "execution_count": null,
   "metadata": {},
   "outputs": [
    {
     "name": "stdout",
     "output_type": "stream",
     "text": [
      "[8.08190717]\n",
      "[8.09952379]\n",
      "[8.35757885]\n",
      "[9.43691947]\n",
      "[7.41920796]\n",
      "[7.33975009]\n",
      "[6.3501725]\n",
      "[8.4949593]\n",
      "[8.76331567]\n",
      "[7.52586242]\n",
      "current status: 10/30000\n",
      "[9.05845951]\n",
      "[7.51877912]\n",
      "[8.86847326]\n",
      "[7.02870151]\n",
      "[7.58043562]\n",
      "[9.59877051]\n",
      "[7.52685215]\n",
      "[9.52073691]\n",
      "[7.33953568]\n",
      "[7.16006795]\n",
      "current status: 20/30000\n",
      "[8.50892888]\n",
      "[7.2595419]\n",
      "[8.76151751]\n",
      "[9.25990055]\n",
      "[7.31097397]\n",
      "[8.5194791]\n",
      "[9.50226637]\n",
      "[8.59963714]\n",
      "[9.10144231]\n",
      "[7.50209619]\n",
      "current status: 30/30000\n",
      "[9.02092371]\n",
      "[8.59789441]\n",
      "[7.93972279]\n",
      "[6.43025767]\n",
      "[8.08145068]\n",
      "[9.33109512]\n",
      "[8.93939431]\n",
      "[8.48267988]\n",
      "[9.0031418]\n",
      "[8.41554493]\n",
      "current status: 40/30000\n",
      "[5.3477349]\n",
      "[6.52162438]\n",
      "[7.32335839]\n",
      "[9.26026842]\n",
      "[3.86092044]\n",
      "[6.08409463]\n",
      "[9.59996216]\n",
      "[8.77622275]\n",
      "[9.29172089]\n",
      "[8.31749509]\n",
      "current status: 50/30000\n",
      "[7.00111618]\n",
      "[8.92090378]\n",
      "[9.6799782]\n",
      "[5.89991577]\n",
      "[8.50249428]\n",
      "[8.85306728]\n",
      "[9.10001844]\n",
      "[8.18128715]\n"
     ]
    }
   ],
   "source": [
    "y_pred = kreg.predict(test_feat.values, watch=True)"
   ]
  },
  {
   "cell_type": "code",
   "execution_count": null,
   "metadata": {},
   "outputs": [],
   "source": []
  },
  {
   "cell_type": "markdown",
   "metadata": {},
   "source": [
    "# 结果文件的写出"
   ]
  },
  {
   "cell_type": "code",
   "execution_count": null,
   "metadata": {},
   "outputs": [],
   "source": [
    "sub = pd.DataFrame(y_pred)\n",
    "sub.to_csv('./results/'+ str(datetime.datetime.now().strftime(\"%Y-%m-%d-%H-%M\")) + \".csv\", index=0, header=None, index_label=None)"
   ]
  }
 ],
 "metadata": {
  "kernelspec": {
   "display_name": "Python 3",
   "language": "python",
   "name": "python3"
  },
  "language_info": {
   "codemirror_mode": {
    "name": "ipython",
    "version": 3
   },
   "file_extension": ".py",
   "mimetype": "text/x-python",
   "name": "python",
   "nbconvert_exporter": "python",
   "pygments_lexer": "ipython3",
   "version": "3.6.6"
  },
  "toc": {
   "base_numbering": 1,
   "nav_menu": {},
   "number_sections": true,
   "sideBar": true,
   "skip_h1_title": false,
   "title_cell": "Table of Contents",
   "title_sidebar": "Contents",
   "toc_cell": false,
   "toc_position": {},
   "toc_section_display": true,
   "toc_window_display": false
  }
 },
 "nbformat": 4,
 "nbformat_minor": 2
}
