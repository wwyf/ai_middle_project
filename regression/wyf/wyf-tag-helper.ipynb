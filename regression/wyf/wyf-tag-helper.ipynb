{
 "cells": [
  {
   "cell_type": "code",
   "execution_count": 4,
   "metadata": {},
   "outputs": [],
   "source": [
    "import sys\n",
    "# sys.path.append(r'E:/0code')\n",
    "sys.path.append(r'/home/wyf/0code')\n",
    "# sys.path.append(r'/home/wangyf226/0code')\n",
    "# sys.path.append(r'/BIGDATA1/nsccgz_yfdu_1/asc19/wyf/pyml')"
   ]
  },
  {
   "cell_type": "code",
   "execution_count": 5,
   "metadata": {},
   "outputs": [
    {
     "name": "stdout",
     "output_type": "stream",
     "text": [
      "The autoreload extension is already loaded. To reload it, use:\n",
      "  %reload_ext autoreload\n"
     ]
    },
    {
     "ename": "ModuleNotFoundError",
     "evalue": "No module named 'pyml.emsemble.regression'",
     "output_type": "error",
     "traceback": [
      "\u001b[0;31m---------------------------------------------------------------------------\u001b[0m",
      "\u001b[0;31mModuleNotFoundError\u001b[0m                       Traceback (most recent call last)",
      "\u001b[0;32m<ipython-input-5-58f94e279993>\u001b[0m in \u001b[0;36m<module>\u001b[0;34m()\u001b[0m\n\u001b[1;32m      4\u001b[0m \u001b[0;32mimport\u001b[0m \u001b[0mnumpy\u001b[0m \u001b[0;32mas\u001b[0m \u001b[0mnp\u001b[0m\u001b[0;34m\u001b[0m\u001b[0m\n\u001b[1;32m      5\u001b[0m \u001b[0;32mimport\u001b[0m \u001b[0mdatetime\u001b[0m\u001b[0;34m\u001b[0m\u001b[0m\n\u001b[0;32m----> 6\u001b[0;31m \u001b[0;32mfrom\u001b[0m \u001b[0mpyml\u001b[0m\u001b[0;34m.\u001b[0m\u001b[0memsemble\u001b[0m\u001b[0;34m.\u001b[0m\u001b[0mregression\u001b[0m \u001b[0;32mimport\u001b[0m \u001b[0mGradientBoostingRegression\u001b[0m\u001b[0;34m\u001b[0m\u001b[0m\n\u001b[0m\u001b[1;32m      7\u001b[0m \u001b[0;32mfrom\u001b[0m \u001b[0mpyml\u001b[0m\u001b[0;34m.\u001b[0m\u001b[0mfeature_extraction\u001b[0m\u001b[0;34m.\u001b[0m\u001b[0mtext\u001b[0m \u001b[0;32mimport\u001b[0m \u001b[0mCountVectorizer\u001b[0m\u001b[0;34m\u001b[0m\u001b[0m\n\u001b[1;32m      8\u001b[0m \u001b[0;32mfrom\u001b[0m \u001b[0mpyml\u001b[0m\u001b[0;34m.\u001b[0m\u001b[0mlinear_model\u001b[0m\u001b[0;34m.\u001b[0m\u001b[0mregression\u001b[0m \u001b[0;32mimport\u001b[0m \u001b[0mLinearRegression\u001b[0m\u001b[0;34m\u001b[0m\u001b[0m\n",
      "\u001b[0;31mModuleNotFoundError\u001b[0m: No module named 'pyml.emsemble.regression'"
     ]
    }
   ],
   "source": [
    "%load_ext autoreload\n",
    "%autoreload 2\n",
    "import pandas as pd\n",
    "import numpy as np\n",
    "import datetime\n",
    "from pyml.emsemble.regression import GradientBoostingRegression\n",
    "from pyml.feature_extraction.text import CountVectorizer\n",
    "from pyml.linear_model.regression import LinearRegression\n",
    "from pyml.neighbors.classification import KNeighborsClassifier\n",
    "from pyml.metrics.regression import pearson_correlation\n",
    "from pyml.model_selection import KFold\n",
    "from pyml.model_selection import ShuffleSplit\n",
    "from pyml.preprocessing import StandardScaler"
   ]
  },
  {
   "cell_type": "markdown",
   "metadata": {},
   "source": [
    "# 读取数据文件"
   ]
  },
  {
   "cell_type": "code",
   "execution_count": 5,
   "metadata": {},
   "outputs": [],
   "source": [
    "train = pd.read_excel('../data/train.xlsx')\n",
    "test = pd.read_excel('../data/testStudent.xlsx')"
   ]
  },
  {
   "cell_type": "code",
   "execution_count": 6,
   "metadata": {
    "collapsed": true
   },
   "outputs": [
    {
     "data": {
      "text/plain": [
       "Additional_Number_of_Scoring                    int64\n",
       "Average_Score                                 float64\n",
       "Review_Total_Negative_Word_Counts               int64\n",
       "Total_Number_of_Reviews                         int64\n",
       "Review_Total_Positive_Word_Counts               int64\n",
       "Total_Number_of_Reviews_Reviewer_Has_Given      int64\n",
       "Tags                                           object\n",
       "Reviewer_Score                                float64\n",
       "dtype: object"
      ]
     },
     "execution_count": 6,
     "metadata": {},
     "output_type": "execute_result"
    }
   ],
   "source": [
    "train.dtypes # 检查有没有数据类型错误的，比如原本是int的变成str，说明里面可能有nan值等奇怪的数据"
   ]
  },
  {
   "cell_type": "code",
   "execution_count": 7,
   "metadata": {},
   "outputs": [],
   "source": [
    "train_ori_X = train.drop('Reviewer_Score', axis=1).drop('Tags', axis=1)\n",
    "train_ori_Y = train['Reviewer_Score']\n",
    "test_ori_X = test.drop('Tags', axis=1)"
   ]
  },
  {
   "cell_type": "markdown",
   "metadata": {},
   "source": [
    "# 特征工程"
   ]
  },
  {
   "cell_type": "code",
   "execution_count": 8,
   "metadata": {},
   "outputs": [],
   "source": [
    "def get_proportion_feature(df):\n",
    "    \"\"\"\n",
    "    构造以下三个特征\n",
    "    积极评论占总评论的比例\n",
    "    消极评论占总评论的比例\n",
    "    评论员评论占总评论的比例\n",
    "    \"\"\"\n",
    "    df = df.copy()\n",
    "    \n",
    "    base_features = ['Total_Number_of_Reviews']\n",
    "    gap_features = ['Review_Total_Negative_Word_Counts', 'Review_Total_Positive_Word_Counts','Total_Number_of_Reviews_Reviewer_Has_Given']\n",
    "    for base_feature in base_features:\n",
    "        for gap_feature in gap_features:\n",
    "            df[gap_feature+'_radio_'+base_feature] = df[gap_feature]/df[base_feature]\n",
    "            # 数字太小了，乘上一个10\n",
    "#             df = df.drop(gap_feature, axis=1)\n",
    "    return df"
   ]
  },
  {
   "cell_type": "markdown",
   "metadata": {},
   "source": [
    "# 构造训练集和测试集，并归一化"
   ]
  },
  {
   "cell_type": "code",
   "execution_count": 9,
   "metadata": {},
   "outputs": [],
   "source": [
    "train_X_feat = get_proportion_feature(train_ori_X)\n",
    "test_X_feat = get_proportion_feature(test_ori_X)"
   ]
  },
  {
   "cell_type": "code",
   "execution_count": 10,
   "metadata": {
    "collapsed": true
   },
   "outputs": [
    {
     "data": {
      "text/plain": [
       "Index(['Additional_Number_of_Scoring', 'Average_Score',\n",
       "       'Review_Total_Negative_Word_Counts', 'Total_Number_of_Reviews',\n",
       "       'Review_Total_Positive_Word_Counts',\n",
       "       'Total_Number_of_Reviews_Reviewer_Has_Given',\n",
       "       'Review_Total_Negative_Word_Counts_radio_Total_Number_of_Reviews',\n",
       "       'Review_Total_Positive_Word_Counts_radio_Total_Number_of_Reviews',\n",
       "       'Total_Number_of_Reviews_Reviewer_Has_Given_radio_Total_Number_of_Reviews'],\n",
       "      dtype='object')"
      ]
     },
     "execution_count": 10,
     "metadata": {},
     "output_type": "execute_result"
    }
   ],
   "source": [
    "train_X_feat.columns"
   ]
  },
  {
   "cell_type": "code",
   "execution_count": 11,
   "metadata": {},
   "outputs": [],
   "source": [
    "ss = StandardScaler()\n",
    "train_X = ss.fit_transform(train_X_feat.values)\n",
    "test_X = ss.transform(test_X_feat.values)"
   ]
  },
  {
   "cell_type": "code",
   "execution_count": 12,
   "metadata": {},
   "outputs": [],
   "source": [
    "train_Y = train_ori_Y.values"
   ]
  },
  {
   "cell_type": "markdown",
   "metadata": {},
   "source": [
    "# 交叉验证"
   ]
  },
  {
   "cell_type": "code",
   "execution_count": null,
   "metadata": {},
   "outputs": [
    {
     "name": "stdout",
     "output_type": "stream",
     "text": [
      "train 0/100  current cost : 254.82138866085717\n",
      "train 1/100  current cost : 245.87921128422593\n",
      "train 2/100  current cost : 237.80265193324854\n",
      "train 3/100  current cost : 230.2228797284721\n",
      "train 4/100  current cost : 222.98787005303743\n",
      "train 5/100  current cost : 216.43380597810068\n",
      "train 6/100  current cost : 210.07821114790872\n",
      "train 7/100  current cost : 204.20736215640517\n",
      "train 8/100  current cost : 198.33810388722918\n",
      "train 9/100  current cost : 192.68409639682147\n",
      "train 10/100  current cost : 187.04662918475574\n",
      "train 11/100  current cost : 181.95729186993978\n",
      "train 12/100  current cost : 177.2551589023348\n",
      "train 13/100  current cost : 172.82128680783634\n",
      "train 14/100  current cost : 168.7753691064605\n",
      "train 15/100  current cost : 164.6137153531623\n",
      "train 16/100  current cost : 160.62993147143882\n",
      "train 17/100  current cost : 157.05362907115912\n",
      "train 18/100  current cost : 153.71502384112884\n",
      "train 19/100  current cost : 150.4817774527706\n",
      "train 20/100  current cost : 147.33083714600463\n",
      "train 21/100  current cost : 144.3194419343862\n",
      "train 22/100  current cost : 141.47954660330322\n",
      "train 23/100  current cost : 138.4898616327785\n",
      "train 24/100  current cost : 135.70867006200982\n",
      "train 25/100  current cost : 132.902071371483\n",
      "train 26/100  current cost : 130.0578019413917\n",
      "train 27/100  current cost : 127.53504796169352\n",
      "train 28/100  current cost : 125.14441138469239\n",
      "train 29/100  current cost : 122.72246865328293\n",
      "train 30/100  current cost : 120.54053886949183\n",
      "train 31/100  current cost : 118.31182853951798\n",
      "train 32/100  current cost : 116.23016261025934\n",
      "train 33/100  current cost : 114.25670610972917\n",
      "train 34/100  current cost : 112.37209871137425\n",
      "train 35/100  current cost : 110.70664906067357\n",
      "train 36/100  current cost : 109.01026722141361\n",
      "train 37/100  current cost : 107.312741706995\n",
      "train 38/100  current cost : 105.84301201384233\n",
      "train 39/100  current cost : 104.42800085621961\n",
      "train 40/100  current cost : 103.06060359993752\n",
      "train 41/100  current cost : 101.68146389045081\n",
      "train 42/100  current cost : 100.3319823879363\n",
      "train 43/100  current cost : 98.93149915588126\n",
      "train 44/100  current cost : 97.53059914605498\n",
      "train 45/100  current cost : 96.32203279244105\n",
      "train 46/100  current cost : 95.21375401143646\n",
      "train 47/100  current cost : 94.04797326707889\n",
      "train 48/100  current cost : 92.98705555318438\n",
      "train 49/100  current cost : 91.66174554287146\n",
      "train 50/100  current cost : 90.50054476930696\n",
      "train 51/100  current cost : 89.50017157510142\n",
      "train 52/100  current cost : 88.42209512907348\n",
      "train 53/100  current cost : 87.48815184149002\n",
      "train 54/100  current cost : 86.50959531994987\n",
      "train 55/100  current cost : 85.61543814060889\n",
      "train 56/100  current cost : 84.63495247170212\n",
      "train 57/100  current cost : 83.75160210087074\n",
      "train 58/100  current cost : 82.9574217479355\n",
      "train 59/100  current cost : 82.26023255038919\n",
      "train 60/100  current cost : 81.61034190837184\n",
      "train 61/100  current cost : 81.01320577239866\n",
      "train 62/100  current cost : 80.47889429655058\n",
      "train 63/100  current cost : 79.92853696110912\n",
      "train 64/100  current cost : 79.41778511022302\n",
      "train 65/100  current cost : 78.8604963530996\n",
      "train 66/100  current cost : 78.35892079192398\n",
      "train 67/100  current cost : 77.9110848987303\n"
     ]
    }
   ],
   "source": [
    "n_splits = 3\n",
    "cv = ShuffleSplit(n_splits=n_splits)\n",
    "for train_indices, test_indices in cv.split(train_X):\n",
    "    lr = GradientBoostingRegression(learning_rate=0.1, n_estimators=100, max_tree_node_size=400)\n",
    "    lr.fit(train_X[train_indices], train_Y[train_indices], watch=True)\n",
    "    y_pred = lr.predict(train_X[test_indices])\n",
    "    print(pearson_correlation(y_pred, train_Y[test_indices]))"
   ]
  },
  {
   "cell_type": "markdown",
   "metadata": {},
   "source": [
    "# 训练模型写入结果"
   ]
  },
  {
   "cell_type": "code",
   "execution_count": null,
   "metadata": {},
   "outputs": [],
   "source": [
    "lr = GradientBoostingRegression(learning_rate=0.1, n_estimators=100, max_tree_node_size=400)\n",
    "lr.fit(train_X, train_Y, watch=True)"
   ]
  },
  {
   "cell_type": "code",
   "execution_count": null,
   "metadata": {},
   "outputs": [],
   "source": [
    "y_pred = lr.predict(test_X)\n",
    "sub = pd.DataFrame(y_pred)\n",
    "sub.to_csv('../results/'+'GBDT-0.1-100-'+ str(datetime.datetime.now().strftime(\"%Y-%m-%d-%H-%M\")) + \".csv\", index=0, header=None, index_label=None)"
   ]
  },
  {
   "cell_type": "code",
   "execution_count": null,
   "metadata": {},
   "outputs": [],
   "source": []
  }
 ],
 "metadata": {
  "kernelspec": {
   "display_name": "Python 3",
   "language": "python",
   "name": "python3"
  },
  "language_info": {
   "codemirror_mode": {
    "name": "ipython",
    "version": 3
   },
   "file_extension": ".py",
   "mimetype": "text/x-python",
   "name": "python",
   "nbconvert_exporter": "python",
   "pygments_lexer": "ipython3",
   "version": "3.6.5"
  }
 },
 "nbformat": 4,
 "nbformat_minor": 2
}
