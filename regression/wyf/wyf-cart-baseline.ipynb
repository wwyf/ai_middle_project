{
 "cells": [
  {
   "cell_type": "code",
   "execution_count": 17,
   "metadata": {},
   "outputs": [],
   "source": [
    "import sys\n",
    "# sys.path.append(r'E:/0code')\n",
    "sys.path.append(r'/home/wyf/0code')\n",
    "# sys.path.append(r'/home/wangyf226/0code')\n",
    "# sys.path.append(r'/BIGDATA1/nsccgz_yfdu_1/asc19/wyf/pyml')"
   ]
  },
  {
   "cell_type": "code",
   "execution_count": 18,
   "metadata": {},
   "outputs": [
    {
     "name": "stdout",
     "output_type": "stream",
     "text": [
      "The autoreload extension is already loaded. To reload it, use:\n",
      "  %reload_ext autoreload\n"
     ]
    }
   ],
   "source": [
    "%load_ext autoreload\n",
    "%autoreload 2\n",
    "import pandas as pd\n",
    "import numpy as np\n",
    "import datetime\n",
    "from pyml.tree.regression import DecisionTreeRegressor\n",
    "from pyml.feature_extraction.text import CountVectorizer\n",
    "from pyml.linear_model.regression import LinearRegression\n",
    "from pyml.neighbors.classification import KNeighborsClassifier\n",
    "from pyml.metrics.regression import pearson_correlation\n",
    "from pyml.model_selection import KFold\n",
    "from pyml.model_selection import ShuffleSplit\n",
    "from pyml.preprocessing import StandardScaler"
   ]
  },
  {
   "cell_type": "markdown",
   "metadata": {},
   "source": [
    "# 读取数据文件"
   ]
  },
  {
   "cell_type": "code",
   "execution_count": 19,
   "metadata": {},
   "outputs": [],
   "source": [
    "train = pd.read_excel('../data/train.xlsx')\n",
    "test = pd.read_excel('../data/testStudent.xlsx')"
   ]
  },
  {
   "cell_type": "code",
   "execution_count": 20,
   "metadata": {},
   "outputs": [
    {
     "data": {
      "text/plain": [
       "Additional_Number_of_Scoring                    int64\n",
       "Average_Score                                 float64\n",
       "Review_Total_Negative_Word_Counts               int64\n",
       "Total_Number_of_Reviews                         int64\n",
       "Review_Total_Positive_Word_Counts               int64\n",
       "Total_Number_of_Reviews_Reviewer_Has_Given      int64\n",
       "Tags                                           object\n",
       "Reviewer_Score                                float64\n",
       "dtype: object"
      ]
     },
     "execution_count": 20,
     "metadata": {},
     "output_type": "execute_result"
    }
   ],
   "source": [
    "train.dtypes # 检查有没有数据类型错误的，比如原本是int的变成str，说明里面可能有nan值等奇怪的数据"
   ]
  },
  {
   "cell_type": "code",
   "execution_count": 46,
   "metadata": {},
   "outputs": [],
   "source": [
    "train_ori_X = train.drop('Reviewer_Score', axis=1).drop('Tags', axis=1)\n",
    "train_ori_Y = train['Reviewer_Score']\n",
    "test_ori_X = test.drop('Tags', axis=1)"
   ]
  },
  {
   "cell_type": "markdown",
   "metadata": {},
   "source": [
    "# 特征工程"
   ]
  },
  {
   "cell_type": "code",
   "execution_count": 37,
   "metadata": {},
   "outputs": [],
   "source": [
    "def get_proportion_feature_1(df):\n",
    "    \"\"\"\n",
    "    构造以下三个特征\n",
    "    积极评论占总评论的比例\n",
    "    消极评论占总评论的比例\n",
    "    评论员评论占总评论的比例\n",
    "    \"\"\"\n",
    "    df = df.copy()\n",
    "    \n",
    "    base_features = ['Total_Number_of_Reviews']\n",
    "    gap_features = ['Review_Total_Negative_Word_Counts', 'Review_Total_Positive_Word_Counts','Total_Number_of_Reviews_Reviewer_Has_Given']\n",
    "    for base_feature in base_features:\n",
    "        for gap_feature in gap_features:\n",
    "            df[gap_feature+'_radio_'+base_feature] = df[gap_feature]/df[base_feature]\n",
    "            # 数字太小了，乘上一个10\n",
    "#             df = df.drop(gap_feature, axis=1)\n",
    "    return df"
   ]
  },
  {
   "cell_type": "markdown",
   "metadata": {},
   "source": [
    "# 构造训练集和测试集，并归一化"
   ]
  },
  {
   "cell_type": "code",
   "execution_count": 47,
   "metadata": {},
   "outputs": [],
   "source": [
    "# 特征方案0：不设置任何特征\n",
    "train_X_feat = train_ori_X\n",
    "test_X_feat = test_ori_X"
   ]
  },
  {
   "cell_type": "code",
   "execution_count": 38,
   "metadata": {},
   "outputs": [],
   "source": [
    "# 特征方案1：增加占比特征，不抛弃原有特征\n",
    "train_X_feat = get_proportion_feature_1(train_ori_X)\n",
    "test_X_feat = get_proportion_feature_1(test_ori_X)"
   ]
  },
  {
   "cell_type": "code",
   "execution_count": 48,
   "metadata": {},
   "outputs": [
    {
     "data": {
      "text/plain": [
       "Index(['Additional_Number_of_Scoring', 'Average_Score',\n",
       "       'Review_Total_Negative_Word_Counts', 'Total_Number_of_Reviews',\n",
       "       'Review_Total_Positive_Word_Counts',\n",
       "       'Total_Number_of_Reviews_Reviewer_Has_Given'],\n",
       "      dtype='object')"
      ]
     },
     "execution_count": 48,
     "metadata": {},
     "output_type": "execute_result"
    }
   ],
   "source": [
    "train_X_feat.columns"
   ]
  },
  {
   "cell_type": "code",
   "execution_count": 49,
   "metadata": {},
   "outputs": [
    {
     "name": "stdout",
     "output_type": "stream",
     "text": [
      "Additional_Number_of_Scoring : -0.06342829612443453\n",
      "Average_Score : 0.3622534338191122\n",
      "Review_Total_Negative_Word_Counts : -0.3823245140424602\n",
      "Total_Number_of_Reviews : -0.07158845586420134\n",
      "Review_Total_Positive_Word_Counts : 0.22370965918084207\n",
      "Total_Number_of_Reviews_Reviewer_Has_Given : 0.002496175494613475\n"
     ]
    }
   ],
   "source": [
    "# 查看不同特征与分数的相关系数\n",
    "for feat_name in train_X_feat:\n",
    "    print(\"{} : {}\".format(feat_name, pearson_correlation(train_X_feat[feat_name].values, train_ori_Y.values)))"
   ]
  },
  {
   "cell_type": "code",
   "execution_count": 50,
   "metadata": {},
   "outputs": [],
   "source": [
    "# 归一化，可选择不同方案"
   ]
  },
  {
   "cell_type": "code",
   "execution_count": 25,
   "metadata": {},
   "outputs": [],
   "source": [
    "# 方案一：没有权重\n",
    "ss = StandardScaler()\n",
    "train_X = ss.fit_transform(train_X_feat.values)\n",
    "test_X = ss.transform(test_X_feat.values)"
   ]
  },
  {
   "cell_type": "code",
   "execution_count": 51,
   "metadata": {},
   "outputs": [],
   "source": [
    "# 方案二：设置部分列的权重\n",
    "ss = StandardScaler()\n",
    "train_X = ss.fit_transform(train_X_feat.values)\n",
    "test_X = ss.transform(test_X_feat.values)\n",
    "# 增加某些特征的权重\n",
    "train_X[:,1] *= 2\n",
    "train_X[:,4] *= 2\n",
    "train_X[:,4] *= 2"
   ]
  },
  {
   "cell_type": "code",
   "execution_count": 52,
   "metadata": {},
   "outputs": [],
   "source": [
    "train_Y = train_ori_Y.values"
   ]
  },
  {
   "cell_type": "markdown",
   "metadata": {},
   "source": [
    "# 交叉验证"
   ]
  },
  {
   "cell_type": "code",
   "execution_count": 56,
   "metadata": {},
   "outputs": [
    {
     "name": "stdout",
     "output_type": "stream",
     "text": [
      "0.6396755826209519\n",
      "0.640723169674117\n"
     ]
    }
   ],
   "source": [
    "n_splits = 2\n",
    "cv = ShuffleSplit(n_splits=n_splits)\n",
    "for train_indices, test_indices in cv.split(train_X):\n",
    "#     lr = GradientBoostingRegression(learning_rate=0.1, n_estimators=100, max_tree_node_size=400)\n",
    "    lr = DecisionTreeRegressor(max_node_size=500)\n",
    "#     lr.fit(train_X[train_indices], train_Y[train_indices], watch=True)\n",
    "    lr.fit(train_X[train_indices], train_Y[train_indices])\n",
    "    y_pred = lr.predict(train_X[test_indices])\n",
    "    print(pearson_correlation(y_pred, train_Y[test_indices]))"
   ]
  },
  {
   "cell_type": "markdown",
   "metadata": {},
   "source": [
    "# 训练模型写入结果"
   ]
  },
  {
   "cell_type": "code",
   "execution_count": 54,
   "metadata": {},
   "outputs": [],
   "source": [
    "lr = DecisionTreeRegressor(max_node_size=500)\n",
    "lr.fit(train_X, train_Y)"
   ]
  },
  {
   "cell_type": "code",
   "execution_count": 55,
   "metadata": {},
   "outputs": [],
   "source": [
    "y_pred = lr.predict(test_X)\n",
    "sub = pd.DataFrame(y_pred)\n",
    "sub.to_csv('./results/'+'CART-m500-weight1-no_feat'+ str(datetime.datetime.now().strftime(\"%Y-%m-%d-%H-%M\")) + \".csv\", index=0, header=None, index_label=None)"
   ]
  },
  {
   "cell_type": "code",
   "execution_count": null,
   "metadata": {},
   "outputs": [],
   "source": []
  },
  {
   "cell_type": "code",
   "execution_count": null,
   "metadata": {},
   "outputs": [],
   "source": []
  },
  {
   "cell_type": "markdown",
   "metadata": {},
   "source": [
    "# 记录提交结果\n",
    "## 2018.10.17 第一次rank\n",
    "1： CART-m500-2018-10-17-10-34.csv : \n",
    "    1. 模型：CART二叉回归树\n",
    "    2. 特征：增加特征1，并抛弃评论词汇数量\n",
    "    2. 超参数：max_node_size=500,没有设置连续值特征搜索上限 ：\n",
    "    3. 验证集 0.62左右\n",
    "    4. 测试集 0.625 左右\n",
    "    \n",
    "## 2018.10.17 第二次rank\n",
    "0： CART-m1000-2018-10-17-10-55 : \n",
    "    1. CART二叉回归树\n",
    "    2. 特征：增加特征1，并抛弃评论词汇数量\n",
    "    3. 超参数：max_node_size=1000,没有设置连续值特征搜索上限 ：\n",
    "    3. 验证集 0.605 左右\n",
    "    4. 测试集 TODO\n",
    "1: CART-m500-weight12018-10-17-11-23.csv\n",
    "    1. CART二叉回归树\n",
    "    2. 特征：增加特征1，保留原有特征\n",
    "    3. 超参数：\n",
    "        1. max_node_size=500,没有设置连续值特征搜索上限\n",
    "        2. 特征权重：\n",
    "            1. average_score,\n",
    "            2. Review_Total_Positive_Word_Counts\n",
    "            3. Review_Total_Positive_Word_Counts_radio_Total_Number_of_Reviews 在归一化后乘2\n",
    "    4. 验证集：0.627-0.645\n",
    "    5. 测试集：TODO\n",
    "2：CART-m500-weight1-no_feat2018-10-17-11-27.csv\n",
    "    1. CART二叉回归树\n",
    "    2. 特征：不修改原有特征\n",
    "    3. 超参数：\n",
    "        1. max_node_size=500,没有设置连续值特征搜索上限\n",
    "        2. 特征权重：\n",
    "            1. average_score,\n",
    "            2. Review_Total_Positive_Word_Counts\n",
    "            3. Review_Total_Positive_Word_Counts_radio_Total_Number_of_Reviews 在归一化后乘2\n",
    "    4. 验证集：0.632-0.640\n",
    "    5. 测试集：TODO"
   ]
  },
  {
   "cell_type": "code",
   "execution_count": null,
   "metadata": {},
   "outputs": [],
   "source": []
  }
 ],
 "metadata": {
  "kernelspec": {
   "display_name": "Python 3",
   "language": "python",
   "name": "python3"
  },
  "language_info": {
   "codemirror_mode": {
    "name": "ipython",
    "version": 3
   },
   "file_extension": ".py",
   "mimetype": "text/x-python",
   "name": "python",
   "nbconvert_exporter": "python",
   "pygments_lexer": "ipython3",
   "version": "3.6.5"
  }
 },
 "nbformat": 4,
 "nbformat_minor": 2
}
