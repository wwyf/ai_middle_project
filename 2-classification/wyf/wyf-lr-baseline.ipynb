{
 "cells": [
  {
   "cell_type": "code",
   "execution_count": 55,
   "metadata": {},
   "outputs": [],
   "source": [
    "import sys\n",
    "sys.path.append(r'E:/0code')\n",
    "# sys.path.append(r'/home/wangyf226/0code')\n",
    "# sys.path.append(r'/BIGDATA1/nsccgz_yfdu_1/asc19/wyf/pyml')"
   ]
  },
  {
   "cell_type": "code",
   "execution_count": 116,
   "metadata": {},
   "outputs": [
    {
     "name": "stdout",
     "output_type": "stream",
     "text": [
      "The autoreload extension is already loaded. To reload it, use:\n",
      "  %reload_ext autoreload\n"
     ]
    }
   ],
   "source": [
    "%load_ext autoreload\n",
    "%autoreload 2\n",
    "import pandas as pd\n",
    "import numpy as np\n",
    "import datetime\n",
    "import gensim\n",
    "import re\n",
    "import smart_open\n",
    "from pyml.feature_extraction.text import CountVectorizer\n",
    "from pyml.linear_model.classification import LogisticClassifier\n",
    "from pyml.neighbors.classification import KNeighborsClassifier\n",
    "from pyml.metrics.classification import precision_score\n",
    "from pyml.model_selection import KFold\n",
    "from pyml.preprocessing import StandardScaler"
   ]
  },
  {
   "cell_type": "markdown",
   "metadata": {},
   "source": [
    "# 读取数据集"
   ]
  },
  {
   "cell_type": "markdown",
   "metadata": {},
   "source": [
    "1. 读取训练数据和测试数据为字符串的列表\n",
    "2. 读取训练集label，并转换为数字格式"
   ]
  },
  {
   "cell_type": "code",
   "execution_count": 106,
   "metadata": {},
   "outputs": [],
   "source": [
    "def read_train_text_to_list(filename):\n",
    "    with open(filename, 'r', encoding='UTF-8') as f:\n",
    "        contents = f.readlines()\n",
    "    lines = [l.strip() for l in contents]\n",
    "    return lines"
   ]
  },
  {
   "cell_type": "code",
   "execution_count": 107,
   "metadata": {},
   "outputs": [],
   "source": [
    "# train_ori_X = read_train_text_to_list('../data/trainData.txt')\n",
    "train_ori_Y = read_train_text_to_list('../data/trainLabel.txt')\n",
    "train_ori_Y = np.array([int(y) for y in train_ori_Y])\n",
    "# test_ori_X = read_train_text_to_list('../data/testData.txt')"
   ]
  },
  {
   "cell_type": "code",
   "execution_count": 81,
   "metadata": {},
   "outputs": [],
   "source": [
    "def read_raw_documents(fname, tokens_only=False):\n",
    "    with smart_open.smart_open(fname, encoding=\"UTF-8\") as f:\n",
    "        for i, line in enumerate(f):\n",
    "            if tokens_only:\n",
    "                # 变小写，去标点符号，分词\n",
    "                yield gensim.utils.simple_preprocess(line)\n",
    "            else:\n",
    "                # For training data, add tags\n",
    "                yield gensim.models.doc2vec.TaggedDocument(gensim.utils.simple_preprocess(line), [i])"
   ]
  },
  {
   "cell_type": "code",
   "execution_count": 89,
   "metadata": {},
   "outputs": [],
   "source": [
    "train_sentences = list(read_raw_documents('../data/trainData.txt'))\n",
    "test_sentences = list(read_raw_documents('../data/testData.txt', tokens_only=True))"
   ]
  },
  {
   "cell_type": "markdown",
   "metadata": {},
   "source": [
    "# 数据预处理 & 特征工程\n",
    "1. Count Vectors as feature\n",
    "2. TF-IDF Vectors as festures\n",
    "3. Word Embeddings as features\n",
    "4. Text/NLP based features\n",
    "5. Topic Models as features"
   ]
  },
  {
   "cell_type": "code",
   "execution_count": 83,
   "metadata": {},
   "outputs": [],
   "source": [
    "model = gensim.models.doc2vec.Doc2Vec(vector_size=50, min_count=2, epochs=40)"
   ]
  },
  {
   "cell_type": "code",
   "execution_count": 84,
   "metadata": {},
   "outputs": [],
   "source": [
    "model.build_vocab(train_sentences)"
   ]
  },
  {
   "cell_type": "code",
   "execution_count": 85,
   "metadata": {},
   "outputs": [],
   "source": [
    "model.train(train_sentences, total_examples=model.corpus_count, epochs=model.epochs)"
   ]
  },
  {
   "cell_type": "code",
   "execution_count": 100,
   "metadata": {},
   "outputs": [],
   "source": [
    "n_train_samples = len(train_sentences)\n",
    "n_test_samples = len(test_sentences)\n",
    "vector_size = 50\n",
    "train_X = np.zeros((n_train_samples, vector_size))\n",
    "test_X = np.zeros((n_test_samples, vector_size))\n",
    "for i in range(0, n_train_samples):\n",
    "    train_X[i] = model.infer_vector(train_sentences[i][0])\n",
    "for i in range(0, n_test_samples):\n",
    "    test_X[i] = model.infer_vector(test_sentences[i])"
   ]
  },
  {
   "cell_type": "code",
   "execution_count": 109,
   "metadata": {},
   "outputs": [],
   "source": [
    "train_Y = train_ori_Y"
   ]
  },
  {
   "cell_type": "code",
   "execution_count": 111,
   "metadata": {},
   "outputs": [
    {
     "data": {
      "text/plain": [
       "(24000,)"
      ]
     },
     "execution_count": 111,
     "metadata": {},
     "output_type": "execute_result"
    }
   ],
   "source": [
    "train_Y.shape"
   ]
  },
  {
   "cell_type": "markdown",
   "metadata": {},
   "source": [
    "# 交叉验证-寻找最好的参数"
   ]
  },
  {
   "cell_type": "markdown",
   "metadata": {},
   "source": [
    "# 训练模型"
   ]
  },
  {
   "cell_type": "code",
   "execution_count": 118,
   "metadata": {},
   "outputs": [
    {
     "name": "stdout",
     "output_type": "stream",
     "text": [
      "Cost after iteration 0: 1.483168\n",
      "Cost after iteration 100: 0.805138\n",
      "Cost after iteration 200: 0.640280\n",
      "Cost after iteration 300: 0.560042\n",
      "Cost after iteration 400: 0.514352\n",
      "Cost after iteration 500: 0.485844\n",
      "Cost after iteration 600: 0.467064\n",
      "Cost after iteration 700: 0.454278\n",
      "Cost after iteration 800: 0.445383\n",
      "Cost after iteration 900: 0.439109\n",
      "Cost after iteration 1000: 0.434645\n",
      "Cost after iteration 1100: 0.431454\n",
      "Cost after iteration 1200: 0.429164\n",
      "Cost after iteration 1300: 0.427517\n",
      "Cost after iteration 1400: 0.426329\n",
      "Cost after iteration 1500: 0.425469\n",
      "Cost after iteration 1600: 0.424844\n",
      "Cost after iteration 1700: 0.424387\n",
      "Cost after iteration 1800: 0.424050\n",
      "Cost after iteration 1900: 0.423800\n",
      "Cost after iteration 2000: 0.423611\n",
      "Cost after iteration 2100: 0.423466\n",
      "Cost after iteration 2200: 0.423353\n",
      "Cost after iteration 2300: 0.423264\n",
      "Cost after iteration 2400: 0.423191\n",
      "Cost after iteration 2500: 0.423130\n",
      "Cost after iteration 2600: 0.423079\n",
      "Cost after iteration 2700: 0.423034\n",
      "Cost after iteration 2800: 0.422995\n",
      "Cost after iteration 2900: 0.422959\n",
      "Cost after iteration 3000: 0.422927\n",
      "Cost after iteration 3100: 0.422897\n",
      "Cost after iteration 3200: 0.422869\n",
      "Cost after iteration 3300: 0.422843\n",
      "Cost after iteration 3400: 0.422818\n",
      "Cost after iteration 3500: 0.422795\n",
      "Cost after iteration 3600: 0.422773\n",
      "Cost after iteration 3700: 0.422751\n",
      "Cost after iteration 3800: 0.422731\n",
      "Cost after iteration 3900: 0.422712\n",
      "Cost after iteration 4000: 0.422693\n",
      "Cost after iteration 4100: 0.422675\n",
      "Cost after iteration 4200: 0.422658\n",
      "Cost after iteration 4300: 0.422641\n",
      "Cost after iteration 4400: 0.422626\n",
      "Cost after iteration 4500: 0.422610\n",
      "Cost after iteration 4600: 0.422596\n",
      "Cost after iteration 4700: 0.422582\n",
      "Cost after iteration 4800: 0.422568\n",
      "Cost after iteration 4900: 0.422555\n",
      "Cost after iteration 5000: 0.422542\n",
      "Cost after iteration 5100: 0.422530\n",
      "Cost after iteration 5200: 0.422519\n",
      "Cost after iteration 5300: 0.422508\n",
      "Cost after iteration 5400: 0.422497\n",
      "Cost after iteration 5500: 0.422486\n",
      "Cost after iteration 5600: 0.422476\n",
      "Cost after iteration 5700: 0.422467\n",
      "Cost after iteration 5800: 0.422458\n",
      "Cost after iteration 5900: 0.422449\n",
      "Cost after iteration 6000: 0.422440\n",
      "Cost after iteration 6100: 0.422432\n",
      "Cost after iteration 6200: 0.422424\n",
      "Cost after iteration 6300: 0.422417\n",
      "Cost after iteration 6400: 0.422409\n",
      "Cost after iteration 6500: 0.422402\n",
      "Cost after iteration 6600: 0.422396\n",
      "Cost after iteration 6700: 0.422389\n",
      "Cost after iteration 6800: 0.422383\n",
      "Cost after iteration 6900: 0.422377\n",
      "Cost after iteration 7000: 0.422371\n",
      "Cost after iteration 7100: 0.422366\n",
      "Cost after iteration 7200: 0.422360\n",
      "Cost after iteration 7300: 0.422355\n",
      "Cost after iteration 7400: 0.422350\n",
      "Cost after iteration 7500: 0.422345\n",
      "Cost after iteration 7600: 0.422341\n",
      "Cost after iteration 7700: 0.422336\n",
      "Cost after iteration 7800: 0.422332\n",
      "Cost after iteration 7900: 0.422328\n",
      "Cost after iteration 8000: 0.422324\n",
      "Cost after iteration 8100: 0.422320\n",
      "Cost after iteration 8200: 0.422317\n",
      "Cost after iteration 8300: 0.422313\n",
      "Cost after iteration 8400: 0.422310\n",
      "Cost after iteration 8500: 0.422307\n",
      "Cost after iteration 8600: 0.422303\n",
      "Cost after iteration 8700: 0.422300\n",
      "Cost after iteration 8800: 0.422298\n",
      "Cost after iteration 8900: 0.422295\n",
      "Cost after iteration 9000: 0.422292\n",
      "Cost after iteration 9100: 0.422290\n",
      "Cost after iteration 9200: 0.422287\n",
      "Cost after iteration 9300: 0.422285\n",
      "Cost after iteration 9400: 0.422282\n",
      "Cost after iteration 9500: 0.422280\n",
      "Cost after iteration 9600: 0.422278\n",
      "Cost after iteration 9700: 0.422276\n",
      "Cost after iteration 9800: 0.422274\n",
      "Cost after iteration 9900: 0.422272\n",
      "Cost after iteration 10000: 0.422270\n",
      "Cost after iteration 10100: 0.422269\n",
      "Cost after iteration 10200: 0.422267\n",
      "Cost after iteration 10300: 0.422265\n",
      "Cost after iteration 10400: 0.422264\n",
      "Cost after iteration 10500: 0.422262\n",
      "Cost after iteration 10600: 0.422261\n",
      "Cost after iteration 10700: 0.422260\n",
      "Cost after iteration 10800: 0.422258\n",
      "Cost after iteration 10900: 0.422257\n",
      "Cost after iteration 11000: 0.422256\n",
      "Cost after iteration 11100: 0.422254\n",
      "Cost after iteration 11200: 0.422253\n",
      "Cost after iteration 11300: 0.422252\n",
      "Cost after iteration 11400: 0.422251\n",
      "Cost after iteration 11500: 0.422250\n",
      "Cost after iteration 11600: 0.422249\n",
      "Cost after iteration 11700: 0.422248\n",
      "Cost after iteration 11800: 0.422247\n",
      "Cost after iteration 11900: 0.422246\n",
      "Cost after iteration 12000: 0.422246\n",
      "Cost after iteration 12100: 0.422245\n",
      "Cost after iteration 12200: 0.422244\n",
      "Cost after iteration 12300: 0.422243\n",
      "Cost after iteration 12400: 0.422243\n",
      "Cost after iteration 12500: 0.422242\n",
      "Cost after iteration 12600: 0.422241\n",
      "Cost after iteration 12700: 0.422241\n",
      "Cost after iteration 12800: 0.422240\n",
      "Cost after iteration 12900: 0.422239\n",
      "Cost after iteration 13000: 0.422239\n",
      "Cost after iteration 13100: 0.422238\n",
      "Cost after iteration 13200: 0.422238\n",
      "Cost after iteration 13300: 0.422237\n",
      "Cost after iteration 13400: 0.422237\n",
      "Cost after iteration 13500: 0.422236\n",
      "Cost after iteration 13600: 0.422236\n",
      "Cost after iteration 13700: 0.422235\n",
      "Cost after iteration 13800: 0.422235\n",
      "Cost after iteration 13900: 0.422235\n",
      "Cost after iteration 14000: 0.422234\n",
      "Cost after iteration 14100: 0.422234\n",
      "Cost after iteration 14200: 0.422233\n",
      "Cost after iteration 14300: 0.422233\n",
      "Cost after iteration 14400: 0.422233\n",
      "Cost after iteration 14500: 0.422233\n",
      "Cost after iteration 14600: 0.422232\n",
      "Cost after iteration 14700: 0.422232\n",
      "Cost after iteration 14800: 0.422232\n",
      "Cost after iteration 14900: 0.422231\n",
      "Cost after iteration 15000: 0.422231\n",
      "Cost after iteration 15100: 0.422231\n",
      "Cost after iteration 15200: 0.422231\n",
      "Cost after iteration 15300: 0.422230\n",
      "Cost after iteration 15400: 0.422230\n",
      "Cost after iteration 15500: 0.422230\n",
      "Cost after iteration 15600: 0.422230\n",
      "Cost after iteration 15700: 0.422230\n",
      "Cost after iteration 15800: 0.422229\n",
      "Cost after iteration 15900: 0.422229\n",
      "Cost after iteration 16000: 0.422229\n",
      "Cost after iteration 16100: 0.422229\n",
      "Cost after iteration 16200: 0.422229\n",
      "Cost after iteration 16300: 0.422228\n",
      "Cost after iteration 16400: 0.422228\n",
      "Cost after iteration 16500: 0.422228\n",
      "Cost after iteration 16600: 0.422228\n",
      "Cost after iteration 16700: 0.422228\n",
      "Cost after iteration 16800: 0.422228\n",
      "Cost after iteration 16900: 0.422228\n",
      "Cost after iteration 17000: 0.422227\n",
      "Cost after iteration 17100: 0.422227\n",
      "Cost after iteration 17200: 0.422227\n",
      "Cost after iteration 17300: 0.422227\n",
      "Cost after iteration 17400: 0.422227\n",
      "Cost after iteration 17500: 0.422227\n",
      "Cost after iteration 17600: 0.422227\n",
      "Cost after iteration 17700: 0.422227\n",
      "Cost after iteration 17800: 0.422227\n",
      "Cost after iteration 17900: 0.422227\n",
      "Cost after iteration 18000: 0.422227\n",
      "Cost after iteration 18100: 0.422226\n",
      "Cost after iteration 18200: 0.422226\n",
      "Cost after iteration 18300: 0.422226\n",
      "Cost after iteration 18400: 0.422226\n",
      "Cost after iteration 18500: 0.422226\n",
      "Cost after iteration 18600: 0.422226\n",
      "Cost after iteration 18700: 0.422226\n",
      "Cost after iteration 18800: 0.422226\n",
      "Cost after iteration 18900: 0.422226\n",
      "Cost after iteration 19000: 0.422226\n",
      "Cost after iteration 19100: 0.422226\n",
      "Cost after iteration 19200: 0.422226\n",
      "Cost after iteration 19300: 0.422226\n",
      "Cost after iteration 19400: 0.422226\n",
      "Cost after iteration 19500: 0.422226\n",
      "Cost after iteration 19600: 0.422226\n",
      "Cost after iteration 19700: 0.422226\n",
      "Cost after iteration 19800: 0.422225\n",
      "Cost after iteration 19900: 0.422225\n",
      "Cost after iteration 20000: 0.422225\n",
      "Cost after iteration 20100: 0.422225\n",
      "Cost after iteration 20200: 0.422225\n",
      "Cost after iteration 20300: 0.422225\n",
      "Cost after iteration 20400: 0.422225\n",
      "Cost after iteration 20500: 0.422225\n",
      "Cost after iteration 20600: 0.422225\n",
      "Cost after iteration 20700: 0.422225\n",
      "Cost after iteration 20800: 0.422225\n",
      "Cost after iteration 20900: 0.422225\n",
      "Cost after iteration 21000: 0.422225\n",
      "Cost after iteration 21100: 0.422225\n",
      "Cost after iteration 21200: 0.422225\n",
      "Cost after iteration 21300: 0.422225\n",
      "Cost after iteration 21400: 0.422225\n",
      "Cost after iteration 21500: 0.422225\n",
      "Cost after iteration 21600: 0.422225\n",
      "Cost after iteration 21700: 0.422225\n",
      "Cost after iteration 21800: 0.422225\n",
      "Cost after iteration 21900: 0.422225\n",
      "Cost after iteration 22000: 0.422225\n",
      "Cost after iteration 22100: 0.422225\n",
      "Cost after iteration 22200: 0.422225\n",
      "Cost after iteration 22300: 0.422225\n",
      "Cost after iteration 22400: 0.422225\n"
     ]
    },
    {
     "name": "stdout",
     "output_type": "stream",
     "text": [
      "Cost after iteration 22500: 0.422225\n",
      "Cost after iteration 22600: 0.422225\n",
      "Cost after iteration 22700: 0.422225\n",
      "Cost after iteration 22800: 0.422225\n",
      "Cost after iteration 22900: 0.422225\n",
      "Cost after iteration 23000: 0.422225\n",
      "Cost after iteration 23100: 0.422225\n",
      "Cost after iteration 23200: 0.422225\n",
      "Cost after iteration 23300: 0.422225\n",
      "Cost after iteration 23400: 0.422225\n",
      "Cost after iteration 23500: 0.422225\n",
      "Cost after iteration 23600: 0.422225\n",
      "Cost after iteration 23700: 0.422225\n",
      "Cost after iteration 23800: 0.422225\n",
      "Cost after iteration 23900: 0.422225\n",
      "Cost after iteration 24000: 0.422225\n",
      "Cost after iteration 24100: 0.422225\n",
      "Cost after iteration 24200: 0.422225\n",
      "Cost after iteration 24300: 0.422225\n",
      "Cost after iteration 24400: 0.422225\n",
      "Cost after iteration 24500: 0.422225\n",
      "Cost after iteration 24600: 0.422225\n",
      "Cost after iteration 24700: 0.422225\n",
      "Cost after iteration 24800: 0.422225\n",
      "Cost after iteration 24900: 0.422225\n",
      "Cost after iteration 25000: 0.422225\n",
      "Cost after iteration 25100: 0.422225\n",
      "Cost after iteration 25200: 0.422225\n",
      "Cost after iteration 25300: 0.422225\n",
      "Cost after iteration 25400: 0.422225\n",
      "Cost after iteration 25500: 0.422225\n",
      "Cost after iteration 25600: 0.422225\n",
      "Cost after iteration 25700: 0.422225\n",
      "Cost after iteration 25800: 0.422225\n",
      "Cost after iteration 25900: 0.422225\n",
      "Cost after iteration 26000: 0.422225\n",
      "Cost after iteration 26100: 0.422225\n",
      "Cost after iteration 26200: 0.422225\n",
      "Cost after iteration 26300: 0.422225\n",
      "Cost after iteration 26400: 0.422225\n",
      "Cost after iteration 26500: 0.422225\n",
      "Cost after iteration 26600: 0.422225\n",
      "Cost after iteration 26700: 0.422224\n",
      "Cost after iteration 26800: 0.422224\n",
      "Cost after iteration 26900: 0.422224\n",
      "Cost after iteration 27000: 0.422224\n",
      "Cost after iteration 27100: 0.422224\n",
      "Cost after iteration 27200: 0.422224\n",
      "Cost after iteration 27300: 0.422224\n",
      "Cost after iteration 27400: 0.422224\n",
      "Cost after iteration 27500: 0.422224\n",
      "Cost after iteration 27600: 0.422224\n",
      "Cost after iteration 27700: 0.422224\n",
      "Cost after iteration 27800: 0.422224\n",
      "Cost after iteration 27900: 0.422224\n",
      "Cost after iteration 28000: 0.422224\n",
      "Cost after iteration 28100: 0.422224\n",
      "Cost after iteration 28200: 0.422224\n",
      "Cost after iteration 28300: 0.422224\n",
      "Cost after iteration 28400: 0.422224\n",
      "Cost after iteration 28500: 0.422224\n",
      "Cost after iteration 28600: 0.422224\n",
      "Cost after iteration 28700: 0.422224\n",
      "Cost after iteration 28800: 0.422224\n",
      "Cost after iteration 28900: 0.422224\n",
      "Cost after iteration 29000: 0.422224\n",
      "Cost after iteration 29100: 0.422224\n",
      "Cost after iteration 29200: 0.422224\n",
      "Cost after iteration 29300: 0.422224\n",
      "Cost after iteration 29400: 0.422224\n",
      "Cost after iteration 29500: 0.422224\n",
      "Cost after iteration 29600: 0.422224\n",
      "Cost after iteration 29700: 0.422224\n",
      "Cost after iteration 29800: 0.422224\n",
      "Cost after iteration 29900: 0.422224\n"
     ]
    }
   ],
   "source": [
    "clf = LogisticClassifier(learning_rate=0.1, num_iterations=30000)\n",
    "clf.fit(train_X, train_Y, watch=True)"
   ]
  },
  {
   "cell_type": "code",
   "execution_count": 114,
   "metadata": {},
   "outputs": [],
   "source": [
    "# k_range = range(1,21)\n",
    "# k_splits = 10\n",
    "# ms = KFold(k_splits=k_splits)\n",
    "# k_scores = np.zeros((len(k_range)))\n",
    "# for train_indices, test_indices in ms.split(train_X):\n",
    "#     for k in k_range:\n",
    "#         clf = KNeighborsClassifier(k=k)\n",
    "#         clf.fit(train_X[train_indices], train_Y[train_indices])\n",
    "#         y_pred = clf.predict(train_X[test_indices])\n",
    "#         score = precision_score(train_Y[test_indices], y_pred)\n",
    "# #         print('k : {} score: {}'.format(k, score))\n",
    "#         k_scores[k_range.index(k)] += score\n",
    "# avg_k_scores = k_scores/k_splits\n",
    "# print(avg_k_scores)\n",
    "# print(\"best k \", np.argmax(avg_k_scores)+1)"
   ]
  },
  {
   "cell_type": "markdown",
   "metadata": {},
   "source": [
    "# 训练模型写入结果"
   ]
  },
  {
   "cell_type": "code",
   "execution_count": 120,
   "metadata": {},
   "outputs": [],
   "source": [
    "y_pred = clf.predict(test_X)\n",
    "sub = pd.DataFrame(y_pred)\n",
    "sub.to_csv('../results/'+'doc2vec-lr-'+ str(datetime.datetime.now().strftime(\"%Y-%m-%d-%H-%M\")) + \".csv\", index=0, header=None, index_label=None)"
   ]
  },
  {
   "cell_type": "code",
   "execution_count": null,
   "metadata": {},
   "outputs": [],
   "source": []
  }
 ],
 "metadata": {
  "kernelspec": {
   "display_name": "Python 3",
   "language": "python",
   "name": "python3"
  },
  "language_info": {
   "codemirror_mode": {
    "name": "ipython",
    "version": 3
   },
   "file_extension": ".py",
   "mimetype": "text/x-python",
   "name": "python",
   "nbconvert_exporter": "python",
   "pygments_lexer": "ipython3",
   "version": "3.6.6"
  },
  "toc": {
   "base_numbering": 1,
   "nav_menu": {},
   "number_sections": true,
   "sideBar": true,
   "skip_h1_title": false,
   "title_cell": "Table of Contents",
   "title_sidebar": "Contents",
   "toc_cell": false,
   "toc_position": {},
   "toc_section_display": true,
   "toc_window_display": false
  }
 },
 "nbformat": 4,
 "nbformat_minor": 2
}
