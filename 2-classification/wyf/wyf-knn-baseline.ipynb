{
 "cells": [
  {
   "cell_type": "code",
   "execution_count": 1,
   "metadata": {},
   "outputs": [],
   "source": [
    "import sys\n",
    "sys.path.append(r'E:/0code')\n",
    "# sys.path.append(r'/home/wangyf226/0code')\n",
    "# sys.path.append(r'/BIGDATA1/nsccgz_yfdu_1/asc19/wyf/pyml')"
   ]
  },
  {
   "cell_type": "code",
   "execution_count": 15,
   "metadata": {},
   "outputs": [
    {
     "name": "stdout",
     "output_type": "stream",
     "text": [
      "The autoreload extension is already loaded. To reload it, use:\n",
      "  %reload_ext autoreload\n"
     ]
    }
   ],
   "source": [
    "%load_ext autoreload\n",
    "%autoreload 2\n",
    "import pandas as pd\n",
    "import numpy as np\n",
    "from pyml.feature_extraction.text import CountVectorizer\n",
    "from pyml.linear_model.classification import LogisticClassifier\n",
    "from pyml.neighbors.classification import KNeighborsClassifier\n",
    "from pyml.metrics.classification import precision_score\n",
    "from pyml.model_selection import KFold\n",
    "from pyml.preprocessing import scale"
   ]
  },
  {
   "cell_type": "markdown",
   "metadata": {},
   "source": [
    "# 读取数据集"
   ]
  },
  {
   "cell_type": "markdown",
   "metadata": {},
   "source": [
    "1. 读取训练数据和测试数据为字符串的列表\n",
    "2. 读取训练集label，并转换为数字格式"
   ]
  },
  {
   "cell_type": "code",
   "execution_count": 3,
   "metadata": {},
   "outputs": [],
   "source": [
    "def read_train_text_to_list(filename):\n",
    "    with open(filename, 'r', encoding='UTF-8') as f:\n",
    "        contents = f.readlines()\n",
    "    lines = [l.strip() for l in contents]\n",
    "    return lines"
   ]
  },
  {
   "cell_type": "code",
   "execution_count": 4,
   "metadata": {},
   "outputs": [],
   "source": [
    "train_ori_X = read_train_text_to_list('../data/trainData.txt')\n",
    "train_ori_Y = read_train_text_to_list('../data/trainLabel.txt')\n",
    "train_ori_Y = np.array([int(y) for y in train_ori_Y])\n",
    "test_ori_X = read_train_text_to_list('../data/testData.txt')"
   ]
  },
  {
   "cell_type": "code",
   "execution_count": 36,
   "metadata": {},
   "outputs": [],
   "source": [
    "train_ori_X = train_ori_X[:4000]\n",
    "train_ori_Y = train_ori_Y[:4000]\n",
    "test_ori_X = test_ori_X[:4000]"
   ]
  },
  {
   "cell_type": "markdown",
   "metadata": {},
   "source": [
    "# 数据预处理 & 特征工程\n",
    "1. Count Vectors as feature\n",
    "2. TF-IDF Vectors as festures\n",
    "3. Word Embeddings as features\n",
    "4. Text/NLP based features\n",
    "5. Topic Models as features"
   ]
  },
  {
   "cell_type": "code",
   "execution_count": 37,
   "metadata": {},
   "outputs": [],
   "source": [
    "f_vier = CountVectorizer()\n",
    "train_wc_X = f_vier.fit_transform(train_ori_X)\n",
    "test_wc_X = f_vier.transform(test_ori_X)"
   ]
  },
  {
   "cell_type": "code",
   "execution_count": 38,
   "metadata": {},
   "outputs": [],
   "source": [
    "train_X = scale(train_wc_X)\n",
    "test_X = scale(test_wc_X)"
   ]
  },
  {
   "cell_type": "code",
   "execution_count": 39,
   "metadata": {},
   "outputs": [],
   "source": [
    "train_Y = train_ori_Y"
   ]
  },
  {
   "cell_type": "code",
   "execution_count": 40,
   "metadata": {},
   "outputs": [
    {
     "data": {
      "text/plain": [
       "(100, 4830)"
      ]
     },
     "execution_count": 40,
     "metadata": {},
     "output_type": "execute_result"
    }
   ],
   "source": [
    "train_X.shape"
   ]
  },
  {
   "cell_type": "markdown",
   "metadata": {},
   "source": [
    "# 交叉验证-寻找最好的参数"
   ]
  },
  {
   "cell_type": "code",
   "execution_count": 46,
   "metadata": {},
   "outputs": [],
   "source": [
    "# clf = LogisticClassifier(learning_rate=0.001, num_iterations=30000)\n",
    "# clf.fit(train_X, train_Y, watch=True)"
   ]
  },
  {
   "cell_type": "code",
   "execution_count": 47,
   "metadata": {},
   "outputs": [
    {
     "name": "stdout",
     "output_type": "stream",
     "text": [
      "[0.56 0.56 0.54 0.55 0.54 0.55 0.54 0.48 0.57 0.52 0.51 0.5  0.54 0.53\n",
      " 0.53 0.53 0.53 0.53 0.53 0.53]\n",
      "best k  9\n"
     ]
    }
   ],
   "source": [
    "k_range = range(1,21)\n",
    "k_splits = 10\n",
    "ms = KFold(k_splits=k_splits)\n",
    "k_scores = np.zeros((len(k_range)))\n",
    "for train_indices, test_indices in ms.split(train_X):\n",
    "    for k in k_range:\n",
    "        clf = KNeighborsClassifier(k=k)\n",
    "        clf.fit(train_X[train_indices], train_Y[train_indices])\n",
    "        y_pred = clf.predict(train_X[test_indices])\n",
    "        score = precision_score(train_Y[test_indices], y_pred)\n",
    "#         print('k : {} score: {}'.format(k, score))\n",
    "        k_scores[k_range.index(k)] += score\n",
    "avg_k_scores = k_scores/k_splits\n",
    "print(avg_k_scores)\n",
    "print(\"best k \", np.argmax(avg_k_scores)+1)"
   ]
  },
  {
   "cell_type": "markdown",
   "metadata": {},
   "source": [
    "# 训练模型写入结果"
   ]
  },
  {
   "cell_type": "code",
   "execution_count": null,
   "metadata": {},
   "outputs": [],
   "source": [
    "clf = KNeighborsClassifier(k=6)\n",
    "clf.fit(train_X,"
   ]
  },
  {
   "cell_type": "code",
   "execution_count": null,
   "metadata": {},
   "outputs": [],
   "source": [
    "y_pred = clf.predict(test_X)\n",
    "sub = pd.DataFrame(y_pred)\n",
    "sub.to_csv('../results/'+ str(datetime.datetime.now().strftime(\"%Y-%m-%d-%H-%M\")) + \".csv\", index=0, header=None, index_label=None)"
   ]
  }
 ],
 "metadata": {
  "kernelspec": {
   "display_name": "Python 3",
   "language": "python",
   "name": "python3"
  },
  "language_info": {
   "codemirror_mode": {
    "name": "ipython",
    "version": 3
   },
   "file_extension": ".py",
   "mimetype": "text/x-python",
   "name": "python",
   "nbconvert_exporter": "python",
   "pygments_lexer": "ipython3",
   "version": "3.6.6"
  },
  "toc": {
   "base_numbering": 1,
   "nav_menu": {},
   "number_sections": true,
   "sideBar": true,
   "skip_h1_title": false,
   "title_cell": "Table of Contents",
   "title_sidebar": "Contents",
   "toc_cell": false,
   "toc_position": {},
   "toc_section_display": true,
   "toc_window_display": false
  }
 },
 "nbformat": 4,
 "nbformat_minor": 2
}
