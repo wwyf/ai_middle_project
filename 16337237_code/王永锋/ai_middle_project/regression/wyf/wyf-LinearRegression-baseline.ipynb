{
 "cells": [
  {
   "cell_type": "code",
   "execution_count": 1,
   "metadata": {},
   "outputs": [],
   "source": [
    "import sys\n",
    "# sys.path.append(r'E:/0code')\n",
    "sys.path.append(r'/home/wyf/0code')\n",
    "# sys.path.append(r'/home/wangyf226/0code')\n",
    "# sys.path.append(r'/BIGDATA1/nsccgz_yfdu_1/asc19/wyf/pyml')"
   ]
  },
  {
   "cell_type": "code",
   "execution_count": 40,
   "metadata": {},
   "outputs": [
    {
     "name": "stdout",
     "output_type": "stream",
     "text": [
      "The autoreload extension is already loaded. To reload it, use:\n",
      "  %reload_ext autoreload\n"
     ]
    }
   ],
   "source": [
    "%load_ext autoreload\n",
    "%autoreload 2\n",
    "import pandas as pd\n",
    "import numpy as np\n",
    "import datetime\n",
    "from pyml.feature_extraction.text import CountVectorizer\n",
    "from pyml.linear_model.regression import LinearRegression\n",
    "from pyml.neighbors.classification import KNeighborsClassifier\n",
    "from pyml.metrics.regression import pearson_correlation\n",
    "from pyml.model_selection import KFold\n",
    "from pyml.model_selection import ShuffleSplit\n",
    "from pyml.preprocessing import StandardScaler"
   ]
  },
  {
   "cell_type": "markdown",
   "metadata": {},
   "source": [
    "# 读取数据文件"
   ]
  },
  {
   "cell_type": "code",
   "execution_count": 9,
   "metadata": {},
   "outputs": [],
   "source": [
    "train = pd.read_excel('../data/train.xlsx')\n",
    "test = pd.read_excel('../data/testStudent.xlsx')"
   ]
  },
  {
   "cell_type": "code",
   "execution_count": 10,
   "metadata": {},
   "outputs": [
    {
     "data": {
      "text/plain": [
       "Additional_Number_of_Scoring                    int64\n",
       "Average_Score                                 float64\n",
       "Review_Total_Negative_Word_Counts               int64\n",
       "Total_Number_of_Reviews                         int64\n",
       "Review_Total_Positive_Word_Counts               int64\n",
       "Total_Number_of_Reviews_Reviewer_Has_Given      int64\n",
       "Tags                                           object\n",
       "Reviewer_Score                                float64\n",
       "dtype: object"
      ]
     },
     "execution_count": 10,
     "metadata": {},
     "output_type": "execute_result"
    }
   ],
   "source": [
    "train.dtypes # 检查有没有数据类型错误的，比如原本是int的变成str，说明里面可能有nan值等奇怪的数据"
   ]
  },
  {
   "cell_type": "code",
   "execution_count": 21,
   "metadata": {},
   "outputs": [],
   "source": [
    "train_ori_X = train.drop('Reviewer_Score', axis=1).drop('Tags', axis=1)\n",
    "train_ori_Y = train['Reviewer_Score']\n",
    "test_ori_X = test.drop('Tags', axis=1)"
   ]
  },
  {
   "cell_type": "markdown",
   "metadata": {},
   "source": [
    "# 特征工程"
   ]
  },
  {
   "cell_type": "code",
   "execution_count": 27,
   "metadata": {},
   "outputs": [],
   "source": [
    "def get_proportion_feature(df):\n",
    "    \"\"\"\n",
    "    构造以下三个特征\n",
    "    积极评论占总评论的比例\n",
    "    消极评论占总评论的比例\n",
    "    评论员评论占总评论的比例\n",
    "    \"\"\"\n",
    "    df = df.copy()\n",
    "    \n",
    "    base_features = ['Total_Number_of_Reviews']\n",
    "    gap_features = ['Review_Total_Negative_Word_Counts', 'Review_Total_Positive_Word_Counts','Total_Number_of_Reviews_Reviewer_Has_Given']\n",
    "    for base_feature in base_features:\n",
    "        for gap_feature in gap_features:\n",
    "            df[gap_feature+'_radio_'+base_feature] = df[gap_feature]/df[base_feature]\n",
    "            # 数字太小了，乘上一个10\n",
    "#             df = df.drop(gap_feature, axis=1)\n",
    "    return df"
   ]
  },
  {
   "cell_type": "markdown",
   "metadata": {},
   "source": [
    "# 构造训练集和测试集，并归一化"
   ]
  },
  {
   "cell_type": "code",
   "execution_count": 28,
   "metadata": {},
   "outputs": [],
   "source": [
    "train_X_feat = get_proportion_feature(train_ori_X)\n",
    "test_X_feat = get_proportion_feature(test_ori_X)"
   ]
  },
  {
   "cell_type": "code",
   "execution_count": 29,
   "metadata": {},
   "outputs": [
    {
     "data": {
      "text/plain": [
       "Index(['Additional_Number_of_Scoring', 'Average_Score',\n",
       "       'Review_Total_Negative_Word_Counts', 'Total_Number_of_Reviews',\n",
       "       'Review_Total_Positive_Word_Counts',\n",
       "       'Total_Number_of_Reviews_Reviewer_Has_Given',\n",
       "       'Review_Total_Negative_Word_Counts_radio_Total_Number_of_Reviews',\n",
       "       'Review_Total_Positive_Word_Counts_radio_Total_Number_of_Reviews',\n",
       "       'Total_Number_of_Reviews_Reviewer_Has_Given_radio_Total_Number_of_Reviews'],\n",
       "      dtype='object')"
      ]
     },
     "execution_count": 29,
     "metadata": {},
     "output_type": "execute_result"
    }
   ],
   "source": [
    "train_X_feat.columns"
   ]
  },
  {
   "cell_type": "code",
   "execution_count": 31,
   "metadata": {},
   "outputs": [],
   "source": [
    "ss = StandardScaler()\n",
    "train_X = ss.fit_transform(train_X_feat.values)\n",
    "test_X = ss.transform(test_X_feat.values)"
   ]
  },
  {
   "cell_type": "code",
   "execution_count": 32,
   "metadata": {},
   "outputs": [],
   "source": [
    "train_Y = train_ori_Y.values"
   ]
  },
  {
   "cell_type": "markdown",
   "metadata": {},
   "source": [
    "# 交叉验证"
   ]
  },
  {
   "cell_type": "code",
   "execution_count": 45,
   "metadata": {},
   "outputs": [
    {
     "name": "stdout",
     "output_type": "stream",
     "text": [
      "Cost after iteration 0: 36.634699\n",
      "Cost after iteration 100: 5.704859\n",
      "Cost after iteration 200: 1.577265\n",
      "Cost after iteration 300: 1.021914\n",
      "Cost after iteration 400: 0.945717\n",
      "Cost after iteration 500: 0.934503\n",
      "Cost after iteration 600: 0.932448\n",
      "Cost after iteration 700: 0.931868\n",
      "Cost after iteration 800: 0.931623\n",
      "Cost after iteration 900: 0.931497\n",
      "Cost after iteration 1000: 0.931428\n",
      "Cost after iteration 1100: 0.931390\n",
      "Cost after iteration 1200: 0.931369\n",
      "Cost after iteration 1300: 0.931357\n",
      "Cost after iteration 1400: 0.931351\n",
      "Cost after iteration 1500: 0.931347\n",
      "Cost after iteration 1600: 0.931345\n",
      "Cost after iteration 1700: 0.931344\n",
      "Cost after iteration 1800: 0.931343\n",
      "Cost after iteration 1900: 0.931342\n",
      "Cost after iteration 2000: 0.931342\n",
      "Cost after iteration 2100: 0.931342\n",
      "Cost after iteration 2200: 0.931342\n",
      "Cost after iteration 2300: 0.931342\n",
      "Cost after iteration 2400: 0.931342\n",
      "Cost after iteration 2500: 0.931342\n",
      "Cost after iteration 2600: 0.931342\n",
      "Cost after iteration 2700: 0.931342\n",
      "Cost after iteration 2800: 0.931342\n",
      "Cost after iteration 2900: 0.931342\n",
      "Cost after iteration 3000: 0.931342\n",
      "Cost after iteration 3100: 0.931342\n",
      "Cost after iteration 3200: 0.931342\n",
      "Cost after iteration 3300: 0.931342\n",
      "Cost after iteration 3400: 0.931342\n",
      "Cost after iteration 3500: 0.931342\n",
      "Cost after iteration 3600: 0.931342\n",
      "Cost after iteration 3700: 0.931342\n",
      "Cost after iteration 3800: 0.931342\n",
      "Cost after iteration 3900: 0.931342\n",
      "Cost after iteration 4000: 0.931342\n",
      "Cost after iteration 4100: 0.931342\n",
      "Cost after iteration 4200: 0.931342\n",
      "Cost after iteration 4300: 0.931342\n",
      "Cost after iteration 4400: 0.931342\n",
      "Cost after iteration 4500: 0.931342\n",
      "Cost after iteration 4600: 0.931342\n",
      "Cost after iteration 4700: 0.931342\n",
      "Cost after iteration 4800: 0.931342\n",
      "Cost after iteration 4900: 0.931342\n",
      "Cost after iteration 5000: 0.931342\n",
      "Cost after iteration 5100: 0.931342\n",
      "Cost after iteration 5200: 0.931342\n",
      "Cost after iteration 5300: 0.931342\n",
      "Cost after iteration 5400: 0.931342\n",
      "Cost after iteration 5500: 0.931342\n",
      "Cost after iteration 5600: 0.931342\n",
      "Cost after iteration 5700: 0.931342\n",
      "Cost after iteration 5800: 0.931342\n",
      "Cost after iteration 5900: 0.931342\n",
      "Cost after iteration 6000: 0.931342\n",
      "Cost after iteration 6100: 0.931342\n",
      "Cost after iteration 6200: 0.931342\n",
      "Cost after iteration 6300: 0.931342\n",
      "Cost after iteration 6400: 0.931342\n",
      "Cost after iteration 6500: 0.931342\n",
      "Cost after iteration 6600: 0.931342\n",
      "Cost after iteration 6700: 0.931342\n",
      "Cost after iteration 6800: 0.931342\n",
      "Cost after iteration 6900: 0.931342\n",
      "Cost after iteration 7000: 0.931342\n",
      "Cost after iteration 7100: 0.931342\n",
      "Cost after iteration 7200: 0.931342\n",
      "Cost after iteration 7300: 0.931342\n",
      "Cost after iteration 7400: 0.931342\n",
      "Cost after iteration 7500: 0.931342\n",
      "Cost after iteration 7600: 0.931342\n",
      "Cost after iteration 7700: 0.931342\n",
      "Cost after iteration 7800: 0.931342\n",
      "Cost after iteration 7900: 0.931342\n",
      "Cost after iteration 8000: 0.931342\n",
      "Cost after iteration 8100: 0.931342\n",
      "Cost after iteration 8200: 0.931342\n",
      "Cost after iteration 8300: 0.931342\n",
      "Cost after iteration 8400: 0.931342\n",
      "Cost after iteration 8500: 0.931342\n",
      "Cost after iteration 8600: 0.931342\n",
      "Cost after iteration 8700: 0.931342\n",
      "Cost after iteration 8800: 0.931342\n",
      "Cost after iteration 8900: 0.931342\n",
      "Cost after iteration 9000: 0.931342\n",
      "Cost after iteration 9100: 0.931342\n",
      "Cost after iteration 9200: 0.931342\n",
      "Cost after iteration 9300: 0.931342\n",
      "Cost after iteration 9400: 0.931342\n",
      "Cost after iteration 9500: 0.931342\n",
      "Cost after iteration 9600: 0.931342\n",
      "Cost after iteration 9700: 0.931342\n",
      "Cost after iteration 9800: 0.931342\n",
      "Cost after iteration 9900: 0.931342\n",
      "0.547409887615617\n",
      "Cost after iteration 0: 36.653252\n",
      "Cost after iteration 100: 5.702470\n",
      "Cost after iteration 200: 1.573540\n",
      "Cost after iteration 300: 1.018294\n",
      "Cost after iteration 400: 0.942147\n",
      "Cost after iteration 500: 0.930939\n",
      "Cost after iteration 600: 0.928879\n",
      "Cost after iteration 700: 0.928294\n",
      "Cost after iteration 800: 0.928045\n",
      "Cost after iteration 900: 0.927917\n",
      "Cost after iteration 1000: 0.927847\n",
      "Cost after iteration 1100: 0.927808\n",
      "Cost after iteration 1200: 0.927787\n",
      "Cost after iteration 1300: 0.927775\n",
      "Cost after iteration 1400: 0.927768\n",
      "Cost after iteration 1500: 0.927764\n",
      "Cost after iteration 1600: 0.927762\n",
      "Cost after iteration 1700: 0.927761\n",
      "Cost after iteration 1800: 0.927760\n",
      "Cost after iteration 1900: 0.927760\n",
      "Cost after iteration 2000: 0.927760\n",
      "Cost after iteration 2100: 0.927759\n",
      "Cost after iteration 2200: 0.927759\n",
      "Cost after iteration 2300: 0.927759\n",
      "Cost after iteration 2400: 0.927759\n",
      "Cost after iteration 2500: 0.927759\n",
      "Cost after iteration 2600: 0.927759\n",
      "Cost after iteration 2700: 0.927759\n",
      "Cost after iteration 2800: 0.927759\n",
      "Cost after iteration 2900: 0.927759\n",
      "Cost after iteration 3000: 0.927759\n",
      "Cost after iteration 3100: 0.927759\n",
      "Cost after iteration 3200: 0.927759\n",
      "Cost after iteration 3300: 0.927759\n",
      "Cost after iteration 3400: 0.927759\n",
      "Cost after iteration 3500: 0.927759\n",
      "Cost after iteration 3600: 0.927759\n",
      "Cost after iteration 3700: 0.927759\n",
      "Cost after iteration 3800: 0.927759\n",
      "Cost after iteration 3900: 0.927759\n",
      "Cost after iteration 4000: 0.927759\n",
      "Cost after iteration 4100: 0.927759\n",
      "Cost after iteration 4200: 0.927759\n",
      "Cost after iteration 4300: 0.927759\n",
      "Cost after iteration 4400: 0.927759\n",
      "Cost after iteration 4500: 0.927759\n",
      "Cost after iteration 4600: 0.927759\n",
      "Cost after iteration 4700: 0.927759\n",
      "Cost after iteration 4800: 0.927759\n",
      "Cost after iteration 4900: 0.927759\n",
      "Cost after iteration 5000: 0.927759\n",
      "Cost after iteration 5100: 0.927759\n",
      "Cost after iteration 5200: 0.927759\n",
      "Cost after iteration 5300: 0.927759\n",
      "Cost after iteration 5400: 0.927759\n",
      "Cost after iteration 5500: 0.927759\n",
      "Cost after iteration 5600: 0.927759\n",
      "Cost after iteration 5700: 0.927759\n",
      "Cost after iteration 5800: 0.927759\n",
      "Cost after iteration 5900: 0.927759\n",
      "Cost after iteration 6000: 0.927759\n",
      "Cost after iteration 6100: 0.927759\n",
      "Cost after iteration 6200: 0.927759\n",
      "Cost after iteration 6300: 0.927759\n",
      "Cost after iteration 6400: 0.927759\n",
      "Cost after iteration 6500: 0.927759\n",
      "Cost after iteration 6600: 0.927759\n",
      "Cost after iteration 6700: 0.927759\n",
      "Cost after iteration 6800: 0.927759\n",
      "Cost after iteration 6900: 0.927759\n",
      "Cost after iteration 7000: 0.927759\n",
      "Cost after iteration 7100: 0.927759\n",
      "Cost after iteration 7200: 0.927759\n",
      "Cost after iteration 7300: 0.927759\n",
      "Cost after iteration 7400: 0.927759\n",
      "Cost after iteration 7500: 0.927759\n",
      "Cost after iteration 7600: 0.927759\n",
      "Cost after iteration 7700: 0.927759\n",
      "Cost after iteration 7800: 0.927759\n",
      "Cost after iteration 7900: 0.927759\n",
      "Cost after iteration 8000: 0.927759\n",
      "Cost after iteration 8100: 0.927759\n",
      "Cost after iteration 8200: 0.927759\n",
      "Cost after iteration 8300: 0.927759\n",
      "Cost after iteration 8400: 0.927759\n",
      "Cost after iteration 8500: 0.927759\n",
      "Cost after iteration 8600: 0.927759\n",
      "Cost after iteration 8700: 0.927759\n",
      "Cost after iteration 8800: 0.927759\n",
      "Cost after iteration 8900: 0.927759\n",
      "Cost after iteration 9000: 0.927759\n",
      "Cost after iteration 9100: 0.927759\n",
      "Cost after iteration 9200: 0.927759\n",
      "Cost after iteration 9300: 0.927759\n",
      "Cost after iteration 9400: 0.927759\n",
      "Cost after iteration 9500: 0.927759\n",
      "Cost after iteration 9600: 0.927759\n",
      "Cost after iteration 9700: 0.927759\n",
      "Cost after iteration 9800: 0.927759\n",
      "Cost after iteration 9900: 0.927759\n",
      "0.5474506661899687\n",
      "Cost after iteration 0: 36.644680\n",
      "Cost after iteration 100: 5.703180\n",
      "Cost after iteration 200: 1.577091\n",
      "Cost after iteration 300: 1.022471\n",
      "Cost after iteration 400: 0.946455\n",
      "Cost after iteration 500: 0.935261\n",
      "Cost after iteration 600: 0.933186\n",
      "Cost after iteration 700: 0.932579\n",
      "Cost after iteration 800: 0.932311\n",
      "Cost after iteration 900: 0.932167\n",
      "Cost after iteration 1000: 0.932087\n",
      "Cost after iteration 1100: 0.932040\n",
      "Cost after iteration 1200: 0.932014\n",
      "Cost after iteration 1300: 0.931999\n",
      "Cost after iteration 1400: 0.931990\n",
      "Cost after iteration 1500: 0.931984\n",
      "Cost after iteration 1600: 0.931981\n",
      "Cost after iteration 1700: 0.931980\n",
      "Cost after iteration 1800: 0.931979\n",
      "Cost after iteration 1900: 0.931978\n",
      "Cost after iteration 2000: 0.931978\n",
      "Cost after iteration 2100: 0.931977\n",
      "Cost after iteration 2200: 0.931977\n",
      "Cost after iteration 2300: 0.931977\n",
      "Cost after iteration 2400: 0.931977\n",
      "Cost after iteration 2500: 0.931977\n",
      "Cost after iteration 2600: 0.931977\n",
      "Cost after iteration 2700: 0.931977\n"
     ]
    },
    {
     "name": "stdout",
     "output_type": "stream",
     "text": [
      "Cost after iteration 2800: 0.931977\n",
      "Cost after iteration 2900: 0.931977\n",
      "Cost after iteration 3000: 0.931977\n",
      "Cost after iteration 3100: 0.931977\n",
      "Cost after iteration 3200: 0.931977\n",
      "Cost after iteration 3300: 0.931977\n",
      "Cost after iteration 3400: 0.931977\n",
      "Cost after iteration 3500: 0.931977\n",
      "Cost after iteration 3600: 0.931977\n",
      "Cost after iteration 3700: 0.931977\n",
      "Cost after iteration 3800: 0.931977\n",
      "Cost after iteration 3900: 0.931977\n",
      "Cost after iteration 4000: 0.931977\n",
      "Cost after iteration 4100: 0.931977\n",
      "Cost after iteration 4200: 0.931977\n",
      "Cost after iteration 4300: 0.931977\n",
      "Cost after iteration 4400: 0.931977\n",
      "Cost after iteration 4500: 0.931977\n",
      "Cost after iteration 4600: 0.931977\n",
      "Cost after iteration 4700: 0.931977\n",
      "Cost after iteration 4800: 0.931977\n",
      "Cost after iteration 4900: 0.931977\n",
      "Cost after iteration 5000: 0.931977\n",
      "Cost after iteration 5100: 0.931977\n",
      "Cost after iteration 5200: 0.931977\n",
      "Cost after iteration 5300: 0.931977\n",
      "Cost after iteration 5400: 0.931977\n",
      "Cost after iteration 5500: 0.931977\n",
      "Cost after iteration 5600: 0.931977\n",
      "Cost after iteration 5700: 0.931977\n",
      "Cost after iteration 5800: 0.931977\n",
      "Cost after iteration 5900: 0.931977\n",
      "Cost after iteration 6000: 0.931977\n",
      "Cost after iteration 6100: 0.931977\n",
      "Cost after iteration 6200: 0.931977\n",
      "Cost after iteration 6300: 0.931977\n",
      "Cost after iteration 6400: 0.931977\n",
      "Cost after iteration 6500: 0.931977\n",
      "Cost after iteration 6600: 0.931977\n",
      "Cost after iteration 6700: 0.931977\n",
      "Cost after iteration 6800: 0.931977\n",
      "Cost after iteration 6900: 0.931977\n",
      "Cost after iteration 7000: 0.931977\n",
      "Cost after iteration 7100: 0.931977\n",
      "Cost after iteration 7200: 0.931977\n",
      "Cost after iteration 7300: 0.931977\n",
      "Cost after iteration 7400: 0.931977\n",
      "Cost after iteration 7500: 0.931977\n",
      "Cost after iteration 7600: 0.931977\n",
      "Cost after iteration 7700: 0.931977\n",
      "Cost after iteration 7800: 0.931977\n",
      "Cost after iteration 7900: 0.931977\n",
      "Cost after iteration 8000: 0.931977\n",
      "Cost after iteration 8100: 0.931977\n",
      "Cost after iteration 8200: 0.931977\n",
      "Cost after iteration 8300: 0.931977\n",
      "Cost after iteration 8400: 0.931977\n",
      "Cost after iteration 8500: 0.931977\n",
      "Cost after iteration 8600: 0.931977\n",
      "Cost after iteration 8700: 0.931977\n",
      "Cost after iteration 8800: 0.931977\n",
      "Cost after iteration 8900: 0.931977\n",
      "Cost after iteration 9000: 0.931977\n",
      "Cost after iteration 9100: 0.931977\n",
      "Cost after iteration 9200: 0.931977\n",
      "Cost after iteration 9300: 0.931977\n",
      "Cost after iteration 9400: 0.931977\n",
      "Cost after iteration 9500: 0.931977\n",
      "Cost after iteration 9600: 0.931977\n",
      "Cost after iteration 9700: 0.931977\n",
      "Cost after iteration 9800: 0.931977\n",
      "Cost after iteration 9900: 0.931977\n",
      "0.539759795569167\n"
     ]
    }
   ],
   "source": [
    "n_splits = 3\n",
    "cv = ShuffleSplit(n_splits=n_splits)\n",
    "for train_indices, test_indices in cv.split(train_X):\n",
    "    lr = LinearRegression(learning_rate=0.01, num_iterations=10000)\n",
    "    lr.fit(train_X[train_indices], train_Y[train_indices], watch=True)\n",
    "    y_pred = lr.predict(train_X[test_indices])\n",
    "    print(pearson_correlation(y_pred, train_Y[test_indices]))"
   ]
  },
  {
   "cell_type": "markdown",
   "metadata": {},
   "source": [
    "# 训练模型写入结果"
   ]
  },
  {
   "cell_type": "code",
   "execution_count": 49,
   "metadata": {},
   "outputs": [
    {
     "name": "stdout",
     "output_type": "stream",
     "text": [
      "Cost after iteration 0: 36.645943\n",
      "Cost after iteration 100: 5.705109\n",
      "Cost after iteration 200: 1.577082\n",
      "Cost after iteration 300: 1.022013\n",
      "Cost after iteration 400: 0.945920\n",
      "Cost after iteration 500: 0.934729\n",
      "Cost after iteration 600: 0.932671\n",
      "Cost after iteration 700: 0.932082\n",
      "Cost after iteration 800: 0.931828\n",
      "Cost after iteration 900: 0.931695\n",
      "Cost after iteration 1000: 0.931622\n",
      "Cost after iteration 1100: 0.931581\n",
      "Cost after iteration 1200: 0.931558\n",
      "Cost after iteration 1300: 0.931545\n",
      "Cost after iteration 1400: 0.931537\n",
      "Cost after iteration 1500: 0.931533\n",
      "Cost after iteration 1600: 0.931530\n",
      "Cost after iteration 1700: 0.931529\n",
      "Cost after iteration 1800: 0.931528\n",
      "Cost after iteration 1900: 0.931528\n",
      "Cost after iteration 2000: 0.931527\n",
      "Cost after iteration 2100: 0.931527\n",
      "Cost after iteration 2200: 0.931527\n",
      "Cost after iteration 2300: 0.931527\n",
      "Cost after iteration 2400: 0.931527\n",
      "Cost after iteration 2500: 0.931527\n",
      "Cost after iteration 2600: 0.931527\n",
      "Cost after iteration 2700: 0.931527\n",
      "Cost after iteration 2800: 0.931527\n",
      "Cost after iteration 2900: 0.931527\n"
     ]
    }
   ],
   "source": [
    "lr = LinearRegression(learning_rate=0.01, num_iterations=3000)\n",
    "lr.fit(train_X, train_Y, watch=True)"
   ]
  },
  {
   "cell_type": "code",
   "execution_count": 50,
   "metadata": {},
   "outputs": [],
   "source": [
    "y_pred = lr.predict(test_X)\n",
    "sub = pd.DataFrame(y_pred)\n",
    "sub.to_csv('../results/'+'LinearRegression-0.01-3000-'+ str(datetime.datetime.now().strftime(\"%Y-%m-%d-%H-%M\")) + \".csv\", index=0, header=None, index_label=None)"
   ]
  },
  {
   "cell_type": "code",
   "execution_count": null,
   "metadata": {},
   "outputs": [],
   "source": []
  }
 ],
 "metadata": {
  "kernelspec": {
   "display_name": "Python 3",
   "language": "python",
   "name": "python3"
  },
  "language_info": {
   "codemirror_mode": {
    "name": "ipython",
    "version": 3
   },
   "file_extension": ".py",
   "mimetype": "text/x-python",
   "name": "python",
   "nbconvert_exporter": "python",
   "pygments_lexer": "ipython3",
   "version": "3.6.5"
  }
 },
 "nbformat": 4,
 "nbformat_minor": 2
}
