{
 "cells": [
  {
   "cell_type": "code",
   "execution_count": 3,
   "metadata": {},
   "outputs": [
    {
     "name": "stdout",
     "output_type": "stream",
     "text": [
      "The autoreload extension is already loaded. To reload it, use:\n",
      "  %reload_ext autoreload\n",
      "[DEBUG] __init__ __init__.py - pylab_setup line 90 - \n",
      "backend module://ipykernel.pylab.backend_inline version unknown\n",
      " - (2018-10-21 18:05:15)\n",
      "\n",
      "[DEBUG] <ipython-input-3-cfa6907cf5eb> <ipython-input-3-cfa6907cf5eb> - <module> line 29 - \n",
      "hello world\n",
      " - (2018-10-21 18:05:15)\n",
      "\n"
     ]
    }
   ],
   "source": [
    "%load_ext autoreload\n",
    "%autoreload 2\n",
    "%matplotlib inline\n",
    "import sys\n",
    "# sys.path.append(r'E:/0code')\n",
    "sys.path.append(r'/BIGDATA1/nsccgz_yfdu_1/asc19/wyf/0code/mylearn')\n",
    "sys.path.append(r'/BIGDATA1/nsccgz_yfdu_1/asc19/wyf/0code')\n",
    "# sys.path.append('/Users/yanbin/Documents/Projects/AI-Middle-Project/')\n",
    "# sys.path.append('/Users/yanbin/Documents/Projects/mylearn')\n",
    "\n",
    "# sys.path.append('/home/wyf/0code/AI-Middle-Project/')\n",
    "# sys.path.append('/home/wyf/0code/mylearn')\n",
    "import numpy as np\n",
    "import pandas as pd\n",
    "import matplotlib.pyplot as plt\n",
    "from logger import get_logger\n",
    "from neural_network import MLPClassifier\n",
    "from pyml.model_selection import KFold\n",
    "from pyml.model_selection import ShuffleSplit\n",
    "from pyml.metrics.classification import precision_score\n",
    "from pyml.model_selection import KFold\n",
    "from pyml.model_selection import ShuffleSplit\n",
    "from pyml.preprocessing import StandardScaler\n",
    "from pyml.metrics.regression import pearson_correlation\n",
    "import pickle\n",
    "\n",
    "\n",
    "mylogger = get_logger(__name__)\n",
    "mylogger.debug('hello world')"
   ]
  },
  {
   "cell_type": "code",
   "execution_count": 2,
   "metadata": {},
   "outputs": [],
   "source": [
    "def save_model(model, name):\n",
    "    with open(name,'wb') as f:\n",
    "        pickle.dump(model, f)\n",
    "def load_model(name):\n",
    "    with open(name,'rb') as f:\n",
    "        pickle.load(f,model)\n",
    "    return model"
   ]
  },
  {
   "cell_type": "code",
   "execution_count": 3,
   "metadata": {},
   "outputs": [],
   "source": [
    "train = pd.read_excel('../data/train.xlsx')\n",
    "test = pd.read_excel('../data/testStudent.xlsx')"
   ]
  },
  {
   "cell_type": "code",
   "execution_count": 4,
   "metadata": {},
   "outputs": [],
   "source": [
    "# 增加里tags特征的属性\n",
    "train = pd.read_excel('../data/train_add_feat_score.xlsx')\n",
    "test = pd.read_excel('../data/test_add_feat_score.xlsx')"
   ]
  },
  {
   "cell_type": "code",
   "execution_count": 5,
   "metadata": {},
   "outputs": [
    {
     "data": {
      "text/plain": [
       "Additional_Number_of_Scoring                    int64\n",
       "Average_Score                                 float64\n",
       "Review_Total_Negative_Word_Counts               int64\n",
       "Total_Number_of_Reviews                         int64\n",
       "Review_Total_Positive_Word_Counts               int64\n",
       "Total_Number_of_Reviews_Reviewer_Has_Given      int64\n",
       "Reviewer_Score                                float64\n",
       "TripType_score                                  int64\n",
       "traveler_type_score                             int64\n",
       "order_type_score                                int64\n",
       "nights_num_score                                int64\n",
       "with_pet_score                                  int64\n",
       "room_type_score                                 int64\n",
       "dtype: object"
      ]
     },
     "execution_count": 5,
     "metadata": {},
     "output_type": "execute_result"
    }
   ],
   "source": [
    "train.dtypes # 检查有没有数据类型错误的，比如原本是int的变成str，说明里面可能有nan值等奇怪的数据"
   ]
  },
  {
   "cell_type": "code",
   "execution_count": 9,
   "metadata": {},
   "outputs": [],
   "source": [
    "# train_ori_X = train.drop('Reviewer_Score', axis=1).drop('Tags', axis=1)\n",
    "# train_ori_Y = train['Reviewer_Score']\n",
    "# test_ori_X = test.drop('Tags', axis=1)\n",
    "train_ori_X = train.drop('Reviewer_Score', axis=1)\n",
    "train_ori_Y = train['Reviewer_Score'].values\n",
    "test_ori_X = test"
   ]
  },
  {
   "cell_type": "markdown",
   "metadata": {},
   "source": [
    "# 特征工程"
   ]
  },
  {
   "cell_type": "code",
   "execution_count": 10,
   "metadata": {},
   "outputs": [],
   "source": [
    "# 特征方案0：不设置任何特征\n",
    "train_X_feat = train_ori_X\n",
    "test_X_feat = test_ori_X"
   ]
  },
  {
   "cell_type": "code",
   "execution_count": 11,
   "metadata": {},
   "outputs": [
    {
     "name": "stdout",
     "output_type": "stream",
     "text": [
      "Additional_Number_of_Scoring : -0.06342829612443443\n",
      "Average_Score : 0.3622534338191119\n",
      "Review_Total_Negative_Word_Counts : -0.38232451404246\n",
      "Total_Number_of_Reviews : -0.0715884558642013\n",
      "Review_Total_Positive_Word_Counts : 0.22370965918084224\n",
      "Total_Number_of_Reviews_Reviewer_Has_Given : 0.002496175494613464\n",
      "TripType_score : 0.11245692676175148\n",
      "traveler_type_score : 0.08914127698750476\n",
      "order_type_score : 0.009844120194724183\n",
      "nights_num_score : 0.027800754327103265\n",
      "with_pet_score : 0.0008883916547842767\n",
      "room_type_score : 0.23706243792316262\n"
     ]
    }
   ],
   "source": [
    "# 查看不同特征与分数的相关系数\n",
    "for feat_name in train_X_feat:\n",
    "    print(\"{} : {}\".format(feat_name, pearson_correlation(train_X_feat[feat_name].values, train_ori_Y)))"
   ]
  },
  {
   "cell_type": "markdown",
   "metadata": {},
   "source": [
    "# 特征归一化"
   ]
  },
  {
   "cell_type": "code",
   "execution_count": 12,
   "metadata": {},
   "outputs": [],
   "source": [
    "# 方案一：没有权重\n",
    "ss = StandardScaler()\n",
    "train_X_standard = ss.fit_transform(train_X_feat.values)\n",
    "test_X_standard = ss.transform(test_X_feat.values)"
   ]
  },
  {
   "cell_type": "markdown",
   "metadata": {},
   "source": [
    "# 特征权重设置"
   ]
  },
  {
   "cell_type": "code",
   "execution_count": 13,
   "metadata": {},
   "outputs": [],
   "source": [
    "# 无"
   ]
  },
  {
   "cell_type": "markdown",
   "metadata": {},
   "source": [
    "# 交叉验证"
   ]
  },
  {
   "cell_type": "code",
   "execution_count": 10,
   "metadata": {},
   "outputs": [],
   "source": [
    "train_X_standard = np.load('../best/wyf-train_X-80000-6-standard.npy')"
   ]
  },
  {
   "cell_type": "code",
   "execution_count": 6,
   "metadata": {},
   "outputs": [],
   "source": [
    "train_X = np.load('../best/wyf-train_X-80000-6-standard.npy')\n",
    "test_X = np.load('../best/wyf-test_X-30000-6-standard.npy')\n",
    "train_Y = np.load('../best/wyf-train_Y-80000.npy')"
   ]
  },
  {
   "cell_type": "code",
   "execution_count": 7,
   "metadata": {},
   "outputs": [
    {
     "data": {
      "text/plain": [
       "((6, 80000), (80000, 1), (6, 30000))"
      ]
     },
     "execution_count": 7,
     "metadata": {},
     "output_type": "execute_result"
    }
   ],
   "source": [
    "train_X = train_X.T\n",
    "test_X = test_X.T\n",
    "train_Y  = train_Y.reshape((-1,1))\n",
    "train_X.shape,train_Y.shape,test_X.shape"
   ]
  },
  {
   "cell_type": "code",
   "execution_count": 8,
   "metadata": {},
   "outputs": [
    {
     "data": {
      "text/plain": [
       "((6, 80000), (80000, 1), (6, 30000))"
      ]
     },
     "execution_count": 8,
     "metadata": {},
     "output_type": "execute_result"
    }
   ],
   "source": [
    "train_X = pd.DataFrame(train_X)\n",
    "test_X = pd.DataFrame(test_X)\n",
    "train_Y = pd.DataFrame(train_Y)\n",
    "train_X.shape,train_Y.shape,test_X.shape"
   ]
  },
  {
   "cell_type": "code",
   "execution_count": 12,
   "metadata": {},
   "outputs": [
    {
     "ename": "NotImplementedError",
     "evalue": "unknown activation id",
     "output_type": "error",
     "traceback": [
      "\u001b[0;31m---------------------------------------------------------------------------\u001b[0m",
      "\u001b[0;31mNotImplementedError\u001b[0m                       Traceback (most recent call last)",
      "\u001b[0;32m<ipython-input-12-340ffaa74ced>\u001b[0m in \u001b[0;36m<module>\u001b[0;34m()\u001b[0m\n\u001b[1;32m     21\u001b[0m             \u001b[0mload_from_file\u001b[0m\u001b[0;34m=\u001b[0m\u001b[0;32mFalse\u001b[0m\u001b[0;34m,\u001b[0m \u001b[0;31m# 读文件恢复模型吗\u001b[0m\u001b[0;34m\u001b[0m\u001b[0m\n\u001b[1;32m     22\u001b[0m             \u001b[0mdump_file\u001b[0m\u001b[0;34m=\u001b[0m\u001b[0;32mFalse\u001b[0m\u001b[0;34m,\u001b[0m \u001b[0;31m# 要不要把模型写入文件？\u001b[0m\u001b[0;34m\u001b[0m\u001b[0m\n\u001b[0;32m---> 23\u001b[0;31m             \u001b[0mvalidation_set\u001b[0m\u001b[0;34m=\u001b[0m\u001b[0;34m(\u001b[0m\u001b[0mtrain_valid_X\u001b[0m\u001b[0;34m,\u001b[0m \u001b[0mtrain_valid_Y\u001b[0m\u001b[0;34m)\u001b[0m \u001b[0;31m# 要不要给一个validation set？（仅用来输出这个集合的准确度)\u001b[0m\u001b[0;34m\u001b[0m\u001b[0m\n\u001b[0m\u001b[1;32m     24\u001b[0m         )\n\u001b[1;32m     25\u001b[0m         \u001b[0mmlpc\u001b[0m\u001b[0;34m.\u001b[0m\u001b[0mfit\u001b[0m\u001b[0;34m(\u001b[0m\u001b[0mtrain_train_X\u001b[0m\u001b[0;34m,\u001b[0m \u001b[0mtrain_train_Y\u001b[0m\u001b[0;34m)\u001b[0m\u001b[0;34m\u001b[0m\u001b[0m\n",
      "\u001b[0;32m~/asc19/wyf/0code/mylearn/neural_network/multilayer_perceptron.py\u001b[0m in \u001b[0;36m__init__\u001b[0;34m(self, hidden_layer_sizes, activation, learning_rate_init, max_iter, tol, verbose, warm_start, random_stat, mini_batch, step_size, load_from_file, dump_file, file_root, validation_set)\u001b[0m\n\u001b[1;32m     77\u001b[0m             \u001b[0mself\u001b[0m\u001b[0;34m.\u001b[0m\u001b[0mlast_activate_derivative\u001b[0m \u001b[0;34m=\u001b[0m \u001b[0mmetrics\u001b[0m\u001b[0;34m.\u001b[0m\u001b[0mSigmoid_derivative\u001b[0m\u001b[0;34m\u001b[0m\u001b[0m\n\u001b[1;32m     78\u001b[0m         \u001b[0;32melse\u001b[0m\u001b[0;34m:\u001b[0m\u001b[0;34m\u001b[0m\u001b[0m\n\u001b[0;32m---> 79\u001b[0;31m             \u001b[0;32mraise\u001b[0m \u001b[0mNotImplementedError\u001b[0m\u001b[0;34m(\u001b[0m\u001b[0;34m'unknown activation {}'\u001b[0m\u001b[0;34m.\u001b[0m\u001b[0mformat\u001b[0m\u001b[0;34m(\u001b[0m\u001b[0mself\u001b[0m\u001b[0;34m.\u001b[0m\u001b[0mactivation\u001b[0m\u001b[0;34m)\u001b[0m\u001b[0;34m)\u001b[0m\u001b[0;34m\u001b[0m\u001b[0m\n\u001b[0m\u001b[1;32m     80\u001b[0m     \u001b[0;32mdef\u001b[0m \u001b[0mfit\u001b[0m\u001b[0;34m(\u001b[0m\u001b[0mself\u001b[0m\u001b[0;34m,\u001b[0m \u001b[0mX\u001b[0m\u001b[0;34m,\u001b[0m \u001b[0mY\u001b[0m\u001b[0;34m)\u001b[0m\u001b[0;34m:\u001b[0m\u001b[0;34m\u001b[0m\u001b[0m\n\u001b[1;32m     81\u001b[0m         '''\n",
      "\u001b[0;31mNotImplementedError\u001b[0m: unknown activation id"
     ]
    }
   ],
   "source": [
    "learning_rates = [0.5, 0.3, 0.1, 0.05]\n",
    "\n",
    "n_splits = 1\n",
    "ms = ShuffleSplit(n_splits=n_splits,test_size=0.2)\n",
    "models = []\n",
    "for train_indices, valid_indices in ms.split(train_X_standard):\n",
    "    for learning_rate in learning_rates:\n",
    "        train_train_X = train_X.iloc[:,train_indices]\n",
    "        train_train_Y = train_Y.iloc[train_indices,:]\n",
    "        train_valid_X = train_X.iloc[:,valid_indices]\n",
    "        train_valid_Y = train_Y.iloc[valid_indices,:]\n",
    "        mlpc = MLPClassifier(verbose=False, \n",
    "            # 忽略输入和输出层。中间层的结点数。例如 本例子为 input -> 4 -> 2（2分类）\n",
    "            hidden_layer_sizes=(4,), \n",
    "            activation='id', # 'relu', 'sigmoid'. 更多函数，等待支持\n",
    "            max_iter=500, # 迭代次数\n",
    "            learning_rate_init=learning_rate, \n",
    "            warm_start=True,  # True就好了\n",
    "            mini_batch='auto', # 保持auto\n",
    "            step_size=10, # 多少个iteration后，才进行“输出loss”，输出“准确度”，保存模型文件，这三个操作?\n",
    "            load_from_file=False, # 读文件恢复模型吗\n",
    "            dump_file=False, # 要不要把模型写入文件？\n",
    "            validation_set=(train_valid_X, train_valid_Y) # 要不要给一个validation set？（仅用来输出这个集合的准确度)\n",
    "        )\n",
    "        mlpc.fit(train_train_X, train_train_Y)\n",
    "        r = mlpc.score(train_valid_X, train_valid_Y)\n",
    "        models.append(mlpc)\n",
    "        print(r)"
   ]
  },
  {
   "cell_type": "code",
   "execution_count": 31,
   "metadata": {},
   "outputs": [
    {
     "name": "stdout",
     "output_type": "stream",
     "text": [
      "[DEBUG] font_manager font_manager.py - findfont line 1343 - \n",
      "findfont: Matching :family=sans-serif:style=normal:variant=normal:weight=normal:stretch=normal:size=10.0 to DejaVu Sans ('/GPUFS/app_GPU/anaconda3/5.2.0/lib/python3.6/site-packages/matplotlib/mpl-data/fonts/ttf/DejaVuSans.ttf') with score of 0.050000\n",
      " - (2018-10-21 11:14:37)\n",
      "\n"
     ]
    },
    {
     "data": {
      "image/png": "[encoded data removed]",
      "text/plain": [
       "<Figure size 864x504 with 1 Axes>"
      ]
     },
     "metadata": {},
     "output_type": "display_data"
    }
   ],
   "source": [
    "plt.figure(figsize=(12,7)) \n",
    "for i,model in enumerate(models):\n",
    "    m = model.information\n",
    "    num_iterations = list(m.keys())\n",
    "    costs = [m[i][0]  for i in num_iterations]\n",
    "    valid_scores = [m[i][1]  for i in num_iterations]\n",
    "    train_scores = [m[i][2]  for i in num_iterations]\n",
    "    plt.plot(num_iterations, valid_scores, '-', label='valid '+ str(learning_rates[i]))\n",
    "    plt.plot(num_iterations, train_scores, ':', label='train '+ str(learning_rates[i]))\n",
    "    plt.yticks(np.arange(0.11, 0.45, 0.02))\n",
    "    ax = plt.gca()\n",
    "    ax.grid(True)\n",
    "    plt.legend()"
   ]
  },
  {
   "cell_type": "code",
   "execution_count": null,
   "metadata": {},
   "outputs": [],
   "source": []
  }
 ],
 "metadata": {
  "kernelspec": {
   "display_name": "Python 3",
   "language": "python",
   "name": "python3"
  }
 },
 "nbformat": 4,
 "nbformat_minor": 2
}
