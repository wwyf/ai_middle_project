{
 "cells": [
  {
   "cell_type": "code",
   "execution_count": 12,
   "metadata": {},
   "outputs": [
    {
     "name": "stdout",
     "output_type": "stream",
     "text": [
      "The autoreload extension is already loaded. To reload it, use:\n",
      "  %reload_ext autoreload\n"
     ]
    }
   ],
   "source": [
    "import sys\n",
    "# sys.path.append(r'E:/0code')\n",
    "# sys.path.append(r'/home/wyf/0code')\n",
    "# sys.path.append(r'/home/wangyf226/0code')\n",
    "sys.path.append(r'/BIGDATA1/nsccgz_yfdu_1/asc19/wyf/0code')\n",
    "%matplotlib inline\n",
    "%load_ext autoreload\n",
    "%autoreload 2\n",
    "import pandas as pd\n",
    "import numpy as np\n",
    "import matplotlib.pyplot as plt\n",
    "import datetime\n",
    "import gensim\n",
    "import re\n",
    "import smart_open\n",
    "from pyml.feature_extraction.text import CountVectorizer\n",
    "from pyml.linear_model.classification import LogisticClassifier\n",
    "from pyml.tree.cart_classification import DecisionTreeClassifier\n",
    "from pyml.neighbors.classification import KNeighborsClassifier\n",
    "from pyml.neural_network.classification import MLPClassifier\n",
    "from pyml.metrics.classification import precision_score\n",
    "from pyml.model_selection import KFold\n",
    "from pyml.model_selection import ShuffleSplit\n",
    "from pyml.preprocessing import StandardScaler\n",
    "from pyml.logger import logger\n",
    "import logging\n",
    "from sklearn.decomposition import PCA"
   ]
  },
  {
   "cell_type": "markdown",
   "metadata": {},
   "source": [
    "## 读取数据集"
   ]
  },
  {
   "cell_type": "code",
   "execution_count": 2,
   "metadata": {},
   "outputs": [],
   "source": [
    "train_X_vec2doc_2 = np.load('../data/wyf-train_X-doc2vec-500.npy')\n",
    "test_X_vec2doc_2 = np.load('../data/wyf-test_X-doc2vec-500.npy')"
   ]
  },
  {
   "cell_type": "code",
   "execution_count": 6,
   "metadata": {},
   "outputs": [],
   "source": [
    "train_X_vec2doc = np.load('../data/clean/trainX_vec2doc-24000-500.npy')\n",
    "test_X_vec2doc = np.load('../data/clean/testX_vec2doc-6000-500.npy')"
   ]
  },
  {
   "cell_type": "code",
   "execution_count": 7,
   "metadata": {},
   "outputs": [],
   "source": [
    "train_X_tfidf = np.load('../data/clean/trainX_tfidf-24000-62761.npy')\n",
    "test_X_tfidf = np.load('../data/clean/testX_tfidf-6000-62761.npy')"
   ]
  },
  {
   "cell_type": "code",
   "execution_count": 10,
   "metadata": {},
   "outputs": [],
   "source": [
    "train_X_onehot = np.load('../data/clean/trainX_onehot-24000-62761.npy')\n",
    "test_X_onehot = np.load('../data/clean/testX_onthot-6000-62761.npy')"
   ]
  },
  {
   "cell_type": "code",
   "execution_count": 3,
   "metadata": {},
   "outputs": [],
   "source": [
    "train_X = train_X_vec2doc_2\n",
    "test_X = test_X_vec2doc_2"
   ]
  },
  {
   "cell_type": "code",
   "execution_count": 9,
   "metadata": {},
   "outputs": [],
   "source": [
    "train_X = train_X_vec2doc\n",
    "test_X = test_X_vec2doc"
   ]
  },
  {
   "cell_type": "code",
   "execution_count": null,
   "metadata": {},
   "outputs": [],
   "source": [
    "train_X = train_X_tfidf\n",
    "test_X = test_X_tfidf"
   ]
  },
  {
   "cell_type": "code",
   "execution_count": null,
   "metadata": {},
   "outputs": [],
   "source": [
    "train_X = train_X_onehot\n",
    "test_X = test_X_onehot"
   ]
  },
  {
   "cell_type": "code",
   "execution_count": 4,
   "metadata": {},
   "outputs": [],
   "source": [
    "train_Y = np.load('../data/clean/trainY_24000.npy')"
   ]
  },
  {
   "cell_type": "code",
   "execution_count": 5,
   "metadata": {},
   "outputs": [
    {
     "data": {
      "text/plain": [
       "((24000, 500), (24000,), (6000, 500))"
      ]
     },
     "execution_count": 5,
     "metadata": {},
     "output_type": "execute_result"
    }
   ],
   "source": [
    "train_X.shape,train_Y.shape,test_X.shape"
   ]
  },
  {
   "cell_type": "markdown",
   "metadata": {},
   "source": [
    "# 交叉验证"
   ]
  },
  {
   "cell_type": "markdown",
   "metadata": {},
   "source": [
    "## 使用没处理的句子生成的doc2vec"
   ]
  },
  {
   "cell_type": "code",
   "execution_count": 6,
   "metadata": {},
   "outputs": [],
   "source": [
    "train_X = train_X_vec2doc_2\n",
    "test_X = test_X_vec2doc_2"
   ]
  },
  {
   "cell_type": "code",
   "execution_count": 7,
   "metadata": {},
   "outputs": [],
   "source": [
    "logger.setLevel(20)"
   ]
  },
  {
   "cell_type": "markdown",
   "metadata": {},
   "source": [
    "## 遍历节点大小"
   ]
  },
  {
   "cell_type": "code",
   "execution_count": 18,
   "metadata": {},
   "outputs": [
    {
     "name": "stdout",
     "output_type": "stream",
     "text": [
      "i : 0 train_score: 0.8665625, valid_score : 0.6183333333333333\n",
      "i : 1 train_score: 0.80328125, valid_score : 0.63125\n",
      "i : 2 train_score: 0.7516145833333333, valid_score : 0.6333333333333333\n",
      "i : 3 train_score: 0.71671875, valid_score : 0.635625\n",
      "i : 4 train_score: 0.6960416666666667, valid_score : 0.64625\n",
      "i : 5 train_score: 0.6697395833333334, valid_score : 0.6408333333333334\n"
     ]
    }
   ],
   "source": [
    "max_node_sizes = [20,40,80,160,320, 640]\n",
    "num_iteration = 5000\n",
    "mini_batch = 2000\n",
    "n_splits = 1\n",
    "ms = ShuffleSplit(n_splits=n_splits,test_size=0.2)\n",
    "models = []\n",
    "train_scores = []\n",
    "valid_scores = []\n",
    "for train_indices, test_indices in ms.split(train_X):\n",
    "    for i,max_node_size in enumerate(max_node_sizes):\n",
    "        clf = DecisionTreeClassifier(divide_way='half', max_node_size=max_node_size)\n",
    "        flags = ['continuous' for i in range(train_X.shape[1])]\n",
    "        clf.fit(train_X[train_indices], train_Y[train_indices], flags)\n",
    "        y_pred = clf.predict(train_X[test_indices])\n",
    "        y_train_pred = clf.predict(train_X[train_indices])\n",
    "        train_score = precision_score(train_Y[train_indices], y_train_pred)\n",
    "        valid_score = precision_score(train_Y[test_indices], y_pred)\n",
    "        train_scores.append(train_score)\n",
    "        valid_scores.append(valid_score)\n",
    "        print('i : {} train_score: {}, valid_score : {}'.format(i, train_score, valid_score))\n",
    "        models.append(clf)"
   ]
  },
  {
   "cell_type": "code",
   "execution_count": 20,
   "metadata": {},
   "outputs": [
    {
     "data": {
      "text/plain": [
       "<matplotlib.legend.Legend at 0x7fb63c59ad68>"
      ]
     },
     "execution_count": 20,
     "metadata": {},
     "output_type": "execute_result"
    },
    {
     "data": {
      "image/png": "[encoded data removed]",
      "text/plain": [
       "<Figure size 864x504 with 1 Axes>"
      ]
     },
     "metadata": {},
     "output_type": "display_data"
    }
   ],
   "source": [
    "plt.figure(figsize=(12,7)) \n",
    "plt.plot(max_node_sizes,valid_scores,'-',label='valid ')\n",
    "plt.plot(max_node_sizes,train_scores,':',label='train ')\n",
    "plt.yticks(np.arange(0.5, 0.95, 0.05))\n",
    "ax = plt.gca()\n",
    "ax.grid(True)\n",
    "plt.legend()"
   ]
  },
  {
   "cell_type": "code",
   "execution_count": null,
   "metadata": {},
   "outputs": [],
   "source": [
    "max_node_sizes = [20,40,80,160,320, 640]\n",
    "num_iteration = 5000\n",
    "mini_batch = 2000\n",
    "n_splits = 1\n",
    "ms = ShuffleSplit(n_splits=n_splits,test_size=0.2)\n",
    "models = []\n",
    "train_scores = []\n",
    "valid_scores = []\n",
    "for train_indices, test_indices in ms.split(train_X):\n",
    "    for i,max_node_size in enumerate(max_node_sizes):\n",
    "        clf = DecisionTreeClassifier(divide_way='default', max_node_size=max_node_size)\n",
    "        flags = ['continuous' for i in range(train_X.shape[1])]\n",
    "        clf.fit(train_X[train_indices], train_Y[train_indices], flags)\n",
    "        y_pred = clf.predict(train_X[test_indices])\n",
    "        y_train_pred = clf.predict(train_X[train_indices])\n",
    "        train_score = precision_score(train_Y[train_indices], y_train_pred)\n",
    "        valid_score = precision_score(train_Y[test_indices], y_pred)\n",
    "        train_scores.append(train_score)\n",
    "        valid_scores.append(valid_score)\n",
    "        print('i : {} train_score: {}, valid_score : {}'.format(i, train_score, valid_score))\n",
    "        models.append(clf)"
   ]
  },
  {
   "cell_type": "code",
   "execution_count": null,
   "metadata": {},
   "outputs": [],
   "source": [
    "plt.figure(figsize=(12,7)) \n",
    "plt.plot(max_node_sizes,valid_scores,'-',label='valid ')\n",
    "plt.plot(max_node_sizes,train_scores,':',label='train ')\n",
    "plt.yticks(np.arange(0.5, 0.95, 0.05))\n",
    "ax = plt.gca()\n",
    "ax.grid(True)\n",
    "plt.legend()"
   ]
  },
  {
   "cell_type": "markdown",
   "metadata": {},
   "source": [
    "## 使用onehot矩阵"
   ]
  },
  {
   "cell_type": "code",
   "execution_count": 11,
   "metadata": {},
   "outputs": [],
   "source": [
    "train_X = train_X_onehot\n",
    "test_X = test_X_onehot"
   ]
  },
  {
   "cell_type": "code",
   "execution_count": 33,
   "metadata": {},
   "outputs": [],
   "source": [
    "# train_X = train_X.astype('int64')\n",
    "# test_X = test_X.astype('int64')"
   ]
  },
  {
   "cell_type": "code",
   "execution_count": 34,
   "metadata": {},
   "outputs": [],
   "source": [
    "# pca = PCA()\n",
    "# pca.fit(train_X)"
   ]
  },
  {
   "cell_type": "code",
   "execution_count": 36,
   "metadata": {},
   "outputs": [],
   "source": [
    "# train_X = pca.transform(train_X)\n",
    "# test_X = pca.transform(test_X)"
   ]
  },
  {
   "cell_type": "code",
   "execution_count": 12,
   "metadata": {},
   "outputs": [
    {
     "name": "stderr",
     "output_type": "stream",
     "text": [
      "/BIGDATA1/nsccgz_yfdu_1/asc19/wyf/0code/pyml/linear_model/classification.py:62: RuntimeWarning: divide by zero encountered in log\n",
      "  cost = -1 / m * np.sum(Y * np.log(A) + (1 - Y) * np.log(1 - A))\n",
      "/BIGDATA1/nsccgz_yfdu_1/asc19/wyf/0code/pyml/linear_model/classification.py:62: RuntimeWarning: invalid value encountered in log\n",
      "  cost = -1 / m * np.sum(Y * np.log(A) + (1 - Y) * np.log(1 - A))\n",
      "/BIGDATA1/nsccgz_yfdu_1/asc19/wyf/0code/pyml/linear_model/classification.py:62: RuntimeWarning: invalid value encountered in multiply\n",
      "  cost = -1 / m * np.sum(Y * np.log(A) + (1 - Y) * np.log(1 - A))\n",
      "[    INFO] - [classification] - [176] - [fit_and_valid] \n",
      "train 0/500  current cost: nan, train: 0.49614583333333334 ,test: 0.4920833333333333\n",
      "\n",
      "[    INFO] - [classification] - [176] - [fit_and_valid] \n",
      "train 50/500  current cost: nan, train: 0.5267708333333333 ,test: 0.5225\n",
      "\n",
      "[    INFO] - [classification] - [176] - [fit_and_valid] \n",
      "train 100/500  current cost: nan, train: 0.5546354166666667 ,test: 0.5516666666666666\n",
      "\n",
      "[    INFO] - [classification] - [176] - [fit_and_valid] \n",
      "train 150/500  current cost: nan, train: 0.5788020833333334 ,test: 0.575\n",
      "\n",
      "[    INFO] - [classification] - [176] - [fit_and_valid] \n",
      "train 200/500  current cost: nan, train: 0.60046875 ,test: 0.5977083333333333\n",
      "\n",
      "[    INFO] - [classification] - [176] - [fit_and_valid] \n",
      "train 250/500  current cost: nan, train: 0.6203125 ,test: 0.6129166666666667\n",
      "\n",
      "[    INFO] - [classification] - [176] - [fit_and_valid] \n",
      "train 300/500  current cost: nan, train: 0.6386979166666666 ,test: 0.6270833333333333\n",
      "\n",
      "[    INFO] - [classification] - [176] - [fit_and_valid] \n",
      "train 350/500  current cost: nan, train: 0.6530729166666667 ,test: 0.6395833333333333\n",
      "\n",
      "[    INFO] - [classification] - [176] - [fit_and_valid] \n",
      "train 400/500  current cost: nan, train: 0.6667708333333333 ,test: 0.655625\n",
      "\n",
      "[    INFO] - [classification] - [176] - [fit_and_valid] \n",
      "train 450/500  current cost: nan, train: 0.6757291666666667 ,test: 0.6639583333333333\n",
      "\n"
     ]
    },
    {
     "name": "stdout",
     "output_type": "stream",
     "text": [
      "i : 0 score: 0.6754166666666667\n"
     ]
    },
    {
     "name": "stderr",
     "output_type": "stream",
     "text": [
      "[    INFO] - [classification] - [176] - [fit_and_valid] \n",
      "train 0/500  current cost: nan, train: 0.47052083333333333 ,test: 0.47458333333333336\n",
      "\n",
      "[    INFO] - [classification] - [176] - [fit_and_valid] \n",
      "train 50/500  current cost: nan, train: 0.51859375 ,test: 0.5260416666666666\n",
      "\n",
      "[    INFO] - [classification] - [176] - [fit_and_valid] \n",
      "train 100/500  current cost: nan, train: 0.5553125 ,test: 0.558125\n",
      "\n",
      "[    INFO] - [classification] - [176] - [fit_and_valid] \n",
      "train 150/500  current cost: nan, train: 0.5861458333333334 ,test: 0.5860416666666667\n",
      "\n",
      "[    INFO] - [classification] - [176] - [fit_and_valid] \n",
      "train 200/500  current cost: nan, train: 0.61328125 ,test: 0.6108333333333333\n",
      "\n",
      "[    INFO] - [classification] - [176] - [fit_and_valid] \n",
      "train 250/500  current cost: nan, train: 0.63375 ,test: 0.630625\n",
      "\n",
      "[    INFO] - [classification] - [176] - [fit_and_valid] \n",
      "train 300/500  current cost: nan, train: 0.6533854166666667 ,test: 0.6472916666666667\n",
      "\n",
      "[    INFO] - [classification] - [176] - [fit_and_valid] \n",
      "train 350/500  current cost: nan, train: 0.6669270833333333 ,test: 0.660625\n",
      "\n",
      "[    INFO] - [classification] - [176] - [fit_and_valid] \n",
      "train 400/500  current cost: nan, train: 0.6794270833333333 ,test: 0.6704166666666667\n",
      "\n",
      "[    INFO] - [classification] - [176] - [fit_and_valid] \n",
      "train 450/500  current cost: nan, train: 0.690625 ,test: 0.6820833333333334\n",
      "\n"
     ]
    },
    {
     "name": "stdout",
     "output_type": "stream",
     "text": [
      "i : 1 score: 0.6902083333333333\n"
     ]
    }
   ],
   "source": [
    "learning_rate_range = [0.15, 0.2]\n",
    "num_iteration = 500\n",
    "mini_batch = 0\n",
    "n_splits = 1\n",
    "ms = ShuffleSplit(n_splits=n_splits,test_size=0.2)\n",
    "models_2 = []\n",
    "for i,learning_rate in enumerate(learning_rate_range):\n",
    "    for train_indices, test_indices in ms.split(train_X):\n",
    "        clf = LogisticClassifier(learning_rate=learning_rate, num_iterations=num_iteration, mini_batch=mini_batch)\n",
    "        clf.fit_and_valid(train_X[train_indices], train_Y[train_indices], train_X[test_indices], train_Y[test_indices])\n",
    "        y_pred = clf.predict(train_X[test_indices])\n",
    "        score = precision_score(train_Y[test_indices], y_pred)\n",
    "        print('i : {} score: {}'.format(i, score))\n",
    "        models_2.append(clf)"
   ]
  },
  {
   "cell_type": "code",
   "execution_count": 15,
   "metadata": {},
   "outputs": [
    {
     "data": {
      "image/png": "[encoded data removed]",
      "text/plain": [
       "<Figure size 432x288 with 1 Axes>"
      ]
     },
     "metadata": {},
     "output_type": "display_data"
    }
   ],
   "source": [
    "for i,m in enumerate(models_2):\n",
    "    plt.plot(range(0,len(m.information['test_loss'])),m.information['test_loss'],'-',label='valid '+str(learning_rate_range[i]) )\n",
    "#     plt.plot(range(0,len(m.information['train_loss'])),m.information['train_loss'],':',label='train '+str(learning_rate_range[i]) )\n",
    "    plt.legend()"
   ]
  },
  {
   "cell_type": "code",
   "execution_count": 16,
   "metadata": {},
   "outputs": [
    {
     "name": "stderr",
     "output_type": "stream",
     "text": [
      "/BIGDATA1/nsccgz_yfdu_1/asc19/wyf/0code/pyml/linear_model/classification.py:62: RuntimeWarning: divide by zero encountered in log\n",
      "  cost = -1 / m * np.sum(Y * np.log(A) + (1 - Y) * np.log(1 - A))\n",
      "/BIGDATA1/nsccgz_yfdu_1/asc19/wyf/0code/pyml/linear_model/classification.py:62: RuntimeWarning: invalid value encountered in log\n",
      "  cost = -1 / m * np.sum(Y * np.log(A) + (1 - Y) * np.log(1 - A))\n",
      "/BIGDATA1/nsccgz_yfdu_1/asc19/wyf/0code/pyml/linear_model/classification.py:62: RuntimeWarning: invalid value encountered in multiply\n",
      "  cost = -1 / m * np.sum(Y * np.log(A) + (1 - Y) * np.log(1 - A))\n",
      "[    INFO] - [classification] - [176] - [fit_and_valid] \n",
      "train 0/2000  current cost: nan, train: 0.47791666666666666 ,test: 0.46875\n",
      "\n",
      "[    INFO] - [classification] - [176] - [fit_and_valid] \n",
      "train 50/2000  current cost: nan, train: 0.5086458333333334 ,test: 0.49541666666666667\n",
      "\n",
      "[    INFO] - [classification] - [176] - [fit_and_valid] \n",
      "train 100/2000  current cost: nan, train: 0.53984375 ,test: 0.5283333333333333\n",
      "\n",
      "[    INFO] - [classification] - [176] - [fit_and_valid] \n",
      "train 150/2000  current cost: nan, train: 0.5635416666666667 ,test: 0.556875\n",
      "\n",
      "[    INFO] - [classification] - [176] - [fit_and_valid] \n",
      "train 200/2000  current cost: nan, train: 0.5891666666666666 ,test: 0.583125\n",
      "\n",
      "[    INFO] - [classification] - [176] - [fit_and_valid] \n",
      "train 250/2000  current cost: nan, train: 0.6088020833333333 ,test: 0.6054166666666667\n",
      "\n",
      "[    INFO] - [classification] - [176] - [fit_and_valid] \n",
      "train 300/2000  current cost: nan, train: 0.6265625 ,test: 0.6254166666666666\n",
      "\n",
      "[    INFO] - [classification] - [176] - [fit_and_valid] \n",
      "train 350/2000  current cost: nan, train: 0.6438020833333333 ,test: 0.6402083333333334\n",
      "\n",
      "[    INFO] - [classification] - [176] - [fit_and_valid] \n",
      "train 400/2000  current cost: nan, train: 0.6555208333333333 ,test: 0.651875\n",
      "\n",
      "[    INFO] - [classification] - [176] - [fit_and_valid] \n",
      "train 450/2000  current cost: nan, train: 0.6672916666666666 ,test: 0.6647916666666667\n",
      "\n",
      "[    INFO] - [classification] - [176] - [fit_and_valid] \n",
      "train 500/2000  current cost: nan, train: 0.67765625 ,test: 0.6758333333333333\n",
      "\n",
      "[    INFO] - [classification] - [176] - [fit_and_valid] \n",
      "train 550/2000  current cost: nan, train: 0.6868229166666666 ,test: 0.6827083333333334\n",
      "\n",
      "[    INFO] - [classification] - [176] - [fit_and_valid] \n",
      "train 600/2000  current cost: nan, train: 0.6943229166666667 ,test: 0.6891666666666667\n",
      "\n",
      "[    INFO] - [classification] - [176] - [fit_and_valid] \n",
      "train 650/2000  current cost: nan, train: 0.7018229166666666 ,test: 0.6945833333333333\n",
      "\n",
      "[    INFO] - [classification] - [176] - [fit_and_valid] \n",
      "train 700/2000  current cost: nan, train: 0.7075 ,test: 0.6985416666666666\n",
      "\n",
      "[    INFO] - [classification] - [176] - [fit_and_valid] \n",
      "train 750/2000  current cost: nan, train: 0.7132291666666667 ,test: 0.704375\n",
      "\n",
      "[    INFO] - [classification] - [176] - [fit_and_valid] \n",
      "train 800/2000  current cost: nan, train: 0.7193229166666667 ,test: 0.7102083333333333\n",
      "\n",
      "[    INFO] - [classification] - [176] - [fit_and_valid] \n",
      "train 850/2000  current cost: nan, train: 0.7256770833333334 ,test: 0.7166666666666667\n",
      "\n",
      "[    INFO] - [classification] - [176] - [fit_and_valid] \n",
      "train 900/2000  current cost: nan, train: 0.73078125 ,test: 0.7208333333333333\n",
      "\n",
      "[    INFO] - [classification] - [176] - [fit_and_valid] \n",
      "train 950/2000  current cost: nan, train: 0.7355208333333333 ,test: 0.7252083333333333\n",
      "\n",
      "[    INFO] - [classification] - [176] - [fit_and_valid] \n",
      "train 1000/2000  current cost: nan, train: 0.7397916666666666 ,test: 0.7285416666666666\n",
      "\n",
      "[    INFO] - [classification] - [176] - [fit_and_valid] \n",
      "train 1050/2000  current cost: nan, train: 0.74375 ,test: 0.7325\n",
      "\n",
      "[    INFO] - [classification] - [176] - [fit_and_valid] \n",
      "train 1100/2000  current cost: nan, train: 0.7470833333333333 ,test: 0.7358333333333333\n",
      "\n",
      "[    INFO] - [classification] - [176] - [fit_and_valid] \n",
      "train 1150/2000  current cost: nan, train: 0.75046875 ,test: 0.73875\n",
      "\n",
      "[    INFO] - [classification] - [176] - [fit_and_valid] \n",
      "train 1200/2000  current cost: nan, train: 0.7530208333333334 ,test: 0.74125\n",
      "\n",
      "[    INFO] - [classification] - [176] - [fit_and_valid] \n",
      "train 1250/2000  current cost: nan, train: 0.75671875 ,test: 0.745\n",
      "\n",
      "[    INFO] - [classification] - [176] - [fit_and_valid] \n",
      "train 1300/2000  current cost: nan, train: 0.7594270833333333 ,test: 0.7489583333333333\n",
      "\n",
      "[    INFO] - [classification] - [176] - [fit_and_valid] \n",
      "train 1350/2000  current cost: nan, train: 0.7616666666666667 ,test: 0.7497916666666666\n",
      "\n",
      "[    INFO] - [classification] - [176] - [fit_and_valid] \n",
      "train 1400/2000  current cost: nan, train: 0.7640625 ,test: 0.75125\n",
      "\n",
      "[    INFO] - [classification] - [176] - [fit_and_valid] \n",
      "train 1450/2000  current cost: nan, train: 0.76609375 ,test: 0.7547916666666666\n",
      "\n",
      "[    INFO] - [classification] - [176] - [fit_and_valid] \n",
      "train 1500/2000  current cost: nan, train: 0.7689583333333333 ,test: 0.756875\n",
      "\n",
      "[    INFO] - [classification] - [176] - [fit_and_valid] \n",
      "train 1550/2000  current cost: nan, train: 0.77140625 ,test: 0.7595833333333334\n",
      "\n",
      "[    INFO] - [classification] - [176] - [fit_and_valid] \n",
      "train 1600/2000  current cost: nan, train: 0.7742708333333334 ,test: 0.7620833333333333\n",
      "\n",
      "[    INFO] - [classification] - [176] - [fit_and_valid] \n",
      "train 1650/2000  current cost: nan, train: 0.7763020833333333 ,test: 0.764375\n",
      "\n",
      "[    INFO] - [classification] - [176] - [fit_and_valid] \n",
      "train 1700/2000  current cost: nan, train: 0.7788541666666666 ,test: 0.766875\n",
      "\n",
      "[    INFO] - [classification] - [176] - [fit_and_valid] \n",
      "train 1750/2000  current cost: nan, train: 0.78046875 ,test: 0.7691666666666667\n",
      "\n",
      "[    INFO] - [classification] - [176] - [fit_and_valid] \n",
      "train 1800/2000  current cost: nan, train: 0.7822916666666667 ,test: 0.77125\n",
      "\n",
      "[    INFO] - [classification] - [176] - [fit_and_valid] \n",
      "train 1850/2000  current cost: nan, train: 0.7838541666666666 ,test: 0.7727083333333333\n",
      "\n",
      "[    INFO] - [classification] - [176] - [fit_and_valid] \n",
      "train 1900/2000  current cost: nan, train: 0.785625 ,test: 0.7741666666666667\n",
      "\n",
      "[    INFO] - [classification] - [176] - [fit_and_valid] \n",
      "train 1950/2000  current cost: nan, train: 0.7871875 ,test: 0.77625\n",
      "\n"
     ]
    },
    {
     "name": "stdout",
     "output_type": "stream",
     "text": [
      "i : 0 score: 0.7770833333333333\n"
     ]
    },
    {
     "name": "stderr",
     "output_type": "stream",
     "text": [
      "[    INFO] - [classification] - [176] - [fit_and_valid] \n",
      "train 0/2000  current cost: nan, train: 0.5497916666666667 ,test: 0.5575\n",
      "\n",
      "[    INFO] - [classification] - [176] - [fit_and_valid] \n",
      "train 50/2000  current cost: nan, train: 0.5846354166666666 ,test: 0.585625\n",
      "\n",
      "[    INFO] - [classification] - [176] - [fit_and_valid] \n",
      "train 100/2000  current cost: nan, train: 0.6118229166666667 ,test: 0.6129166666666667\n",
      "\n",
      "[    INFO] - [classification] - [176] - [fit_and_valid] \n",
      "train 150/2000  current cost: nan, train: 0.63421875 ,test: 0.6320833333333333\n",
      "\n",
      "[    INFO] - [classification] - [176] - [fit_and_valid] \n",
      "train 200/2000  current cost: nan, train: 0.6509895833333333 ,test: 0.6439583333333333\n",
      "\n",
      "[    INFO] - [classification] - [176] - [fit_and_valid] \n",
      "train 250/2000  current cost: nan, train: 0.6665104166666667 ,test: 0.6545833333333333\n",
      "\n",
      "[    INFO] - [classification] - [176] - [fit_and_valid] \n",
      "train 300/2000  current cost: nan, train: 0.6797916666666667 ,test: 0.6685416666666667\n",
      "\n",
      "[    INFO] - [classification] - [176] - [fit_and_valid] \n",
      "train 350/2000  current cost: nan, train: 0.6910416666666667 ,test: 0.6795833333333333\n",
      "\n",
      "[    INFO] - [classification] - [176] - [fit_and_valid] \n",
      "train 400/2000  current cost: nan, train: 0.701875 ,test: 0.6922916666666666\n",
      "\n",
      "[    INFO] - [classification] - [176] - [fit_and_valid] \n",
      "train 450/2000  current cost: nan, train: 0.7114583333333333 ,test: 0.699375\n",
      "\n",
      "[    INFO] - [classification] - [176] - [fit_and_valid] \n",
      "train 500/2000  current cost: nan, train: 0.7198958333333333 ,test: 0.7054166666666667\n",
      "\n",
      "[    INFO] - [classification] - [176] - [fit_and_valid] \n",
      "train 550/2000  current cost: nan, train: 0.7261979166666667 ,test: 0.7097916666666667\n",
      "\n",
      "[    INFO] - [classification] - [176] - [fit_and_valid] \n",
      "train 600/2000  current cost: nan, train: 0.7335416666666666 ,test: 0.7158333333333333\n",
      "\n"
     ]
    },
    {
     "ename": "KeyboardInterrupt",
     "evalue": "",
     "output_type": "error",
     "traceback": [
      "\u001b[0;31m---------------------------------------------------------------------------\u001b[0m",
      "\u001b[0;31mKeyboardInterrupt\u001b[0m                         Traceback (most recent call last)",
      "\u001b[0;32m<ipython-input-16-1e70376410ce>\u001b[0m in \u001b[0;36m<module>\u001b[0;34m()\u001b[0m\n\u001b[1;32m      8\u001b[0m     \u001b[0;32mfor\u001b[0m \u001b[0mtrain_indices\u001b[0m\u001b[0;34m,\u001b[0m \u001b[0mtest_indices\u001b[0m \u001b[0;32min\u001b[0m \u001b[0mms\u001b[0m\u001b[0;34m.\u001b[0m\u001b[0msplit\u001b[0m\u001b[0;34m(\u001b[0m\u001b[0mtrain_X\u001b[0m\u001b[0;34m)\u001b[0m\u001b[0;34m:\u001b[0m\u001b[0;34m\u001b[0m\u001b[0m\n\u001b[1;32m      9\u001b[0m         \u001b[0mclf\u001b[0m \u001b[0;34m=\u001b[0m \u001b[0mLogisticClassifier\u001b[0m\u001b[0;34m(\u001b[0m\u001b[0mlearning_rate\u001b[0m\u001b[0;34m=\u001b[0m\u001b[0mlearning_rate\u001b[0m\u001b[0;34m,\u001b[0m \u001b[0mnum_iterations\u001b[0m\u001b[0;34m=\u001b[0m\u001b[0mnum_iteration\u001b[0m\u001b[0;34m,\u001b[0m \u001b[0mmini_batch\u001b[0m\u001b[0;34m=\u001b[0m\u001b[0mmini_batch\u001b[0m\u001b[0;34m)\u001b[0m\u001b[0;34m\u001b[0m\u001b[0m\n\u001b[0;32m---> 10\u001b[0;31m         \u001b[0mclf\u001b[0m\u001b[0;34m.\u001b[0m\u001b[0mfit_and_valid\u001b[0m\u001b[0;34m(\u001b[0m\u001b[0mtrain_X\u001b[0m\u001b[0;34m[\u001b[0m\u001b[0mtrain_indices\u001b[0m\u001b[0;34m]\u001b[0m\u001b[0;34m,\u001b[0m \u001b[0mtrain_Y\u001b[0m\u001b[0;34m[\u001b[0m\u001b[0mtrain_indices\u001b[0m\u001b[0;34m]\u001b[0m\u001b[0;34m,\u001b[0m \u001b[0mtrain_X\u001b[0m\u001b[0;34m[\u001b[0m\u001b[0mtest_indices\u001b[0m\u001b[0;34m]\u001b[0m\u001b[0;34m,\u001b[0m \u001b[0mtrain_Y\u001b[0m\u001b[0;34m[\u001b[0m\u001b[0mtest_indices\u001b[0m\u001b[0;34m]\u001b[0m\u001b[0;34m)\u001b[0m\u001b[0;34m\u001b[0m\u001b[0m\n\u001b[0m\u001b[1;32m     11\u001b[0m         \u001b[0my_pred\u001b[0m \u001b[0;34m=\u001b[0m \u001b[0mclf\u001b[0m\u001b[0;34m.\u001b[0m\u001b[0mpredict\u001b[0m\u001b[0;34m(\u001b[0m\u001b[0mtrain_X\u001b[0m\u001b[0;34m[\u001b[0m\u001b[0mtest_indices\u001b[0m\u001b[0;34m]\u001b[0m\u001b[0;34m)\u001b[0m\u001b[0;34m\u001b[0m\u001b[0m\n\u001b[1;32m     12\u001b[0m         \u001b[0mscore\u001b[0m \u001b[0;34m=\u001b[0m \u001b[0mprecision_score\u001b[0m\u001b[0;34m(\u001b[0m\u001b[0mtrain_Y\u001b[0m\u001b[0;34m[\u001b[0m\u001b[0mtest_indices\u001b[0m\u001b[0;34m]\u001b[0m\u001b[0;34m,\u001b[0m \u001b[0my_pred\u001b[0m\u001b[0;34m)\u001b[0m\u001b[0;34m\u001b[0m\u001b[0m\n",
      "\u001b[0;32m~/asc19/wyf/0code/pyml/linear_model/classification.py\u001b[0m in \u001b[0;36mfit_and_valid\u001b[0;34m(self, X, Y, X_valid, Y_valid, watch)\u001b[0m\n\u001b[1;32m    165\u001b[0m         \u001b[0;32melse\u001b[0m\u001b[0;34m:\u001b[0m\u001b[0;34m\u001b[0m\u001b[0m\n\u001b[1;32m    166\u001b[0m             \u001b[0mX_batch\u001b[0m\u001b[0;34m,\u001b[0m\u001b[0mY_batch\u001b[0m \u001b[0;34m=\u001b[0m \u001b[0mself\u001b[0m\u001b[0;34m.\u001b[0m\u001b[0mget_mini_batch\u001b[0m\u001b[0;34m(\u001b[0m\u001b[0;34m)\u001b[0m\u001b[0;34m\u001b[0m\u001b[0m\n\u001b[0;32m--> 167\u001b[0;31m             \u001b[0mlogger\u001b[0m\u001b[0;34m.\u001b[0m\u001b[0mdebug\u001b[0m\u001b[0;34m(\u001b[0m\u001b[0;34m'X_batch : {}\\nshape:{}'\u001b[0m\u001b[0;34m.\u001b[0m\u001b[0mformat\u001b[0m\u001b[0;34m(\u001b[0m\u001b[0mX_batch\u001b[0m\u001b[0;34m,\u001b[0m\u001b[0mX_batch\u001b[0m\u001b[0;34m.\u001b[0m\u001b[0mshape\u001b[0m\u001b[0;34m)\u001b[0m\u001b[0;34m)\u001b[0m\u001b[0;34m\u001b[0m\u001b[0m\n\u001b[0m\u001b[1;32m    168\u001b[0m             \u001b[0mlogger\u001b[0m\u001b[0;34m.\u001b[0m\u001b[0mdebug\u001b[0m\u001b[0;34m(\u001b[0m\u001b[0;34m'Y_batch : {}\\nshape:{}'\u001b[0m\u001b[0;34m.\u001b[0m\u001b[0mformat\u001b[0m\u001b[0;34m(\u001b[0m\u001b[0mY_batch\u001b[0m\u001b[0;34m,\u001b[0m\u001b[0mY_batch\u001b[0m\u001b[0;34m.\u001b[0m\u001b[0mshape\u001b[0m\u001b[0;34m)\u001b[0m\u001b[0;34m)\u001b[0m\u001b[0;34m\u001b[0m\u001b[0m\n\u001b[1;32m    169\u001b[0m             \u001b[0mgrads\u001b[0m\u001b[0;34m,\u001b[0m \u001b[0mcost\u001b[0m \u001b[0;34m=\u001b[0m \u001b[0mself\u001b[0m\u001b[0;34m.\u001b[0m\u001b[0mpropagate\u001b[0m\u001b[0;34m(\u001b[0m\u001b[0mw\u001b[0m\u001b[0;34m,\u001b[0m\u001b[0mb\u001b[0m\u001b[0;34m,\u001b[0m\u001b[0mX_batch\u001b[0m\u001b[0;34m,\u001b[0m \u001b[0mY_batch\u001b[0m\u001b[0;34m)\u001b[0m\u001b[0;34m\u001b[0m\u001b[0m\n",
      "\u001b[0;32m~/asc19/wyf/0code/pyml/linear_model/classification.py\u001b[0m in \u001b[0;36moptimize_single\u001b[0;34m(self, w, b, X, Y)\u001b[0m\n\u001b[1;32m    110\u001b[0m         \"\"\"\n\u001b[1;32m    111\u001b[0m         \u001b[0mm\u001b[0m \u001b[0;34m=\u001b[0m \u001b[0mX\u001b[0m\u001b[0;34m.\u001b[0m\u001b[0mshape\u001b[0m\u001b[0;34m[\u001b[0m\u001b[0;36m1\u001b[0m\u001b[0;34m]\u001b[0m\u001b[0;34m\u001b[0m\u001b[0m\n\u001b[0;32m--> 112\u001b[0;31m         \u001b[0mA\u001b[0m \u001b[0;34m=\u001b[0m \u001b[0msigmoid\u001b[0m\u001b[0;34m(\u001b[0m\u001b[0mnp\u001b[0m\u001b[0;34m.\u001b[0m\u001b[0mdot\u001b[0m\u001b[0;34m(\u001b[0m\u001b[0mw\u001b[0m\u001b[0;34m.\u001b[0m\u001b[0mT\u001b[0m\u001b[0;34m,\u001b[0m \u001b[0mX\u001b[0m\u001b[0;34m)\u001b[0m \u001b[0;34m+\u001b[0m \u001b[0mb\u001b[0m\u001b[0;34m)\u001b[0m\u001b[0;34m\u001b[0m\u001b[0m\n\u001b[0m\u001b[1;32m    113\u001b[0m         \u001b[0ml2\u001b[0m \u001b[0;34m=\u001b[0m \u001b[0mself\u001b[0m\u001b[0;34m.\u001b[0m\u001b[0mlambda_l2\u001b[0m \u001b[0;34m*\u001b[0m \u001b[0;34m(\u001b[0m\u001b[0mnp\u001b[0m\u001b[0;34m.\u001b[0m\u001b[0msquare\u001b[0m\u001b[0;34m(\u001b[0m\u001b[0mw\u001b[0m\u001b[0;34m)\u001b[0m\u001b[0;34m.\u001b[0m\u001b[0msum\u001b[0m\u001b[0;34m(\u001b[0m\u001b[0;34m)\u001b[0m\u001b[0;34m+\u001b[0m\u001b[0mnp\u001b[0m\u001b[0;34m.\u001b[0m\u001b[0msquare\u001b[0m\u001b[0;34m(\u001b[0m\u001b[0mb\u001b[0m\u001b[0;34m)\u001b[0m\u001b[0;34m.\u001b[0m\u001b[0msum\u001b[0m\u001b[0;34m(\u001b[0m\u001b[0;34m)\u001b[0m\u001b[0;34m)\u001b[0m\u001b[0;34m/\u001b[0m\u001b[0mm\u001b[0m\u001b[0;34m\u001b[0m\u001b[0m\n\u001b[1;32m    114\u001b[0m         \u001b[0mcost\u001b[0m \u001b[0;34m=\u001b[0m \u001b[0;34m-\u001b[0m\u001b[0;36m1\u001b[0m \u001b[0;34m/\u001b[0m \u001b[0mm\u001b[0m \u001b[0;34m*\u001b[0m \u001b[0mnp\u001b[0m\u001b[0;34m.\u001b[0m\u001b[0msum\u001b[0m\u001b[0;34m(\u001b[0m\u001b[0mY\u001b[0m \u001b[0;34m*\u001b[0m \u001b[0mnp\u001b[0m\u001b[0;34m.\u001b[0m\u001b[0mlog\u001b[0m\u001b[0;34m(\u001b[0m\u001b[0mA\u001b[0m\u001b[0;34m)\u001b[0m \u001b[0;34m+\u001b[0m \u001b[0;34m(\u001b[0m\u001b[0;36m1\u001b[0m \u001b[0;34m-\u001b[0m \u001b[0mY\u001b[0m\u001b[0;34m)\u001b[0m \u001b[0;34m*\u001b[0m \u001b[0mnp\u001b[0m\u001b[0;34m.\u001b[0m\u001b[0mlog\u001b[0m\u001b[0;34m(\u001b[0m\u001b[0;36m1\u001b[0m \u001b[0;34m-\u001b[0m \u001b[0mA\u001b[0m\u001b[0;34m)\u001b[0m\u001b[0;34m)\u001b[0m \u001b[0;34m+\u001b[0m \u001b[0ml2\u001b[0m\u001b[0;34m\u001b[0m\u001b[0m\n",
      "\u001b[0;32m~/asc19/wyf/0code/pyml/linear_model/classification.py\u001b[0m in \u001b[0;36mpropagate\u001b[0;34m(self, w, b, X, Y)\u001b[0m\n\u001b[1;32m     61\u001b[0m         self.information = {\n\u001b[1;32m     62\u001b[0m             \u001b[0;34m'test_loss'\u001b[0m \u001b[0;34m:\u001b[0m \u001b[0;34m[\u001b[0m\u001b[0;34m]\u001b[0m\u001b[0;34m,\u001b[0m\u001b[0;34m\u001b[0m\u001b[0m\n\u001b[0;32m---> 63\u001b[0;31m             \u001b[0;34m'train_loss'\u001b[0m \u001b[0;34m:\u001b[0m \u001b[0;34m[\u001b[0m\u001b[0;34m]\u001b[0m\u001b[0;34m,\u001b[0m\u001b[0;34m\u001b[0m\u001b[0m\n\u001b[0m\u001b[1;32m     64\u001b[0m             \u001b[0;34m'cost'\u001b[0m \u001b[0;34m:\u001b[0m \u001b[0;34m[\u001b[0m\u001b[0;34m]\u001b[0m\u001b[0;34m\u001b[0m\u001b[0m\n\u001b[1;32m     65\u001b[0m         }\n",
      "\u001b[0;31mKeyboardInterrupt\u001b[0m: "
     ]
    }
   ],
   "source": [
    "learning_rate_range = [0.15, 0.2]\n",
    "num_iteration = 2000\n",
    "mini_batch = 0\n",
    "n_splits = 1\n",
    "ms = ShuffleSplit(n_splits=n_splits,test_size=0.2)\n",
    "models_3 = []\n",
    "for i,learning_rate in enumerate(learning_rate_range):\n",
    "    for train_indices, test_indices in ms.split(train_X):\n",
    "        clf = LogisticClassifier(learning_rate=learning_rate, num_iterations=num_iteration, mini_batch=mini_batch)\n",
    "        clf.fit_and_valid(train_X[train_indices], train_Y[train_indices], train_X[test_indices], train_Y[test_indices])\n",
    "        y_pred = clf.predict(train_X[test_indices])\n",
    "        score = precision_score(train_Y[test_indices], y_pred)\n",
    "        print('i : {} score: {}'.format(i, score))\n",
    "        models_3.append(clf)"
   ]
  },
  {
   "cell_type": "code",
   "execution_count": null,
   "metadata": {},
   "outputs": [],
   "source": []
  }
 ],
 "metadata": {
  "kernelspec": {
   "display_name": "Python 3",
   "language": "python",
   "name": "python3"
  },
  "language_info": {
   "codemirror_mode": {
    "name": "ipython",
    "version": 3
   },
   "file_extension": ".py",
   "mimetype": "text/x-python",
   "name": "python",
   "nbconvert_exporter": "python",
   "pygments_lexer": "ipython3",
   "version": "3.6.5"
  }
 },
 "nbformat": 4,
 "nbformat_minor": 2
}
