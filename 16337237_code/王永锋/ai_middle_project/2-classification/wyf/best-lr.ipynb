{
 "cells": [
  {
   "cell_type": "code",
   "execution_count": null,
   "metadata": {},
   "outputs": [],
   "source": [
    "import sys\n",
    "# sys.path.append(r'E:/0code')\n",
    "# sys.path.append(r'/home/wyf/0code')\n",
    "# sys.path.append(r'/home/wangyf226/0code')\n",
    "sys.path.append(r'/BIGDATA1/nsccgz_yfdu_1/asc19/wyf/0code')\n",
    "%matplotlib inline\n",
    "%load_ext autoreload\n",
    "%autoreload 2\n",
    "import pandas as pd\n",
    "import numpy as np\n",
    "import matplotlib.pyplot as plt\n",
    "import datetime\n",
    "import gensim\n",
    "import re\n",
    "import smart_open\n",
    "from pyml.feature_extraction.text import CountVectorizer\n",
    "from pyml.linear_model.classification import LogisticClassifier\n",
    "from pyml.neighbors.classification import KNeighborsClassifier\n",
    "from pyml.neural_network.classification import MLPClassifier\n",
    "from pyml.metrics.classification import precision_score\n",
    "from pyml.model_selection import KFold\n",
    "from pyml.model_selection import ShuffleSplit\n",
    "from pyml.preprocessing import StandardScaler\n",
    "from pyml.logger import logger\n",
    "import logging\n",
    "from sklearn.decomposition import PCA"
   ]
  },
  {
   "cell_type": "markdown",
   "metadata": {},
   "source": [
    "## 读取数据集"
   ]
  },
  {
   "cell_type": "code",
   "execution_count": 2,
   "metadata": {},
   "outputs": [],
   "source": [
    "train_X_vec2doc_2 = np.load('../data/wyf-train_X-doc2vec-500.npy')\n",
    "test_X_vec2doc_2 = np.load('../data/wyf-test_X-doc2vec-500.npy')"
   ]
  },
  {
   "cell_type": "code",
   "execution_count": 6,
   "metadata": {},
   "outputs": [],
   "source": [
    "train_X_vec2doc = np.load('../data/clean/trainX_vec2doc-24000-500.npy')\n",
    "test_X_vec2doc = np.load('../data/clean/testX_vec2doc-6000-500.npy')"
   ]
  },
  {
   "cell_type": "code",
   "execution_count": 7,
   "metadata": {},
   "outputs": [],
   "source": [
    "train_X_tfidf = np.load('../data/clean/trainX_tfidf-24000-62761.npy')\n",
    "test_X_tfidf = np.load('../data/clean/testX_tfidf-6000-62761.npy')"
   ]
  },
  {
   "cell_type": "code",
   "execution_count": 10,
   "metadata": {},
   "outputs": [],
   "source": [
    "train_X_onehot = np.load('../data/clean/trainX_onehot-24000-62761.npy')\n",
    "test_X_onehot = np.load('../data/clean/testX_onthot-6000-62761.npy')"
   ]
  },
  {
   "cell_type": "code",
   "execution_count": 3,
   "metadata": {},
   "outputs": [],
   "source": [
    "train_X = train_X_vec2doc_2\n",
    "test_X = test_X_vec2doc_2"
   ]
  },
  {
   "cell_type": "code",
   "execution_count": 9,
   "metadata": {},
   "outputs": [],
   "source": [
    "train_X = train_X_vec2doc\n",
    "test_X = test_X_vec2doc"
   ]
  },
  {
   "cell_type": "code",
   "execution_count": null,
   "metadata": {},
   "outputs": [],
   "source": [
    "train_X = train_X_tfidf\n",
    "test_X = test_X_tfidf"
   ]
  },
  {
   "cell_type": "code",
   "execution_count": null,
   "metadata": {},
   "outputs": [],
   "source": [
    "train_X = train_X_onehot\n",
    "test_X = test_X_onehot"
   ]
  },
  {
   "cell_type": "code",
   "execution_count": 4,
   "metadata": {},
   "outputs": [],
   "source": [
    "train_Y = np.load('../data/clean/trainY_24000.npy')"
   ]
  },
  {
   "cell_type": "code",
   "execution_count": 5,
   "metadata": {},
   "outputs": [
    {
     "data": {
      "text/plain": [
       "((24000, 500), (24000,), (6000, 500))"
      ]
     },
     "execution_count": 5,
     "metadata": {},
     "output_type": "execute_result"
    }
   ],
   "source": [
    "train_X.shape,train_Y.shape,test_X.shape"
   ]
  },
  {
   "cell_type": "markdown",
   "metadata": {},
   "source": [
    "# 交叉验证"
   ]
  },
  {
   "cell_type": "markdown",
   "metadata": {},
   "source": [
    "## 使用没处理的句子生成的doc2vec"
   ]
  },
  {
   "cell_type": "code",
   "execution_count": 6,
   "metadata": {},
   "outputs": [],
   "source": [
    "train_X = train_X_vec2doc_2\n",
    "test_X = test_X_vec2doc_2"
   ]
  },
  {
   "cell_type": "code",
   "execution_count": 7,
   "metadata": {},
   "outputs": [],
   "source": [
    "logger.setLevel(20)"
   ]
  },
  {
   "cell_type": "markdown",
   "metadata": {},
   "source": [
    "## 遍历学习率"
   ]
  },
  {
   "cell_type": "code",
   "execution_count": 8,
   "metadata": {},
   "outputs": [
    {
     "name": "stderr",
     "output_type": "stream",
     "text": [
      "[    INFO] - [classification] - [176] - [fit_and_valid] \n",
      "train 0/5000  current cost: 4.367453083155591, train: 0.5544270833333333 ,test: 0.550625\n",
      "\n",
      "[    INFO] - [classification] - [176] - [fit_and_valid] \n",
      "train 50/5000  current cost: 3.801178510653947, train: 0.5758333333333333 ,test: 0.566875\n",
      "\n",
      "[    INFO] - [classification] - [176] - [fit_and_valid] \n",
      "train 100/5000  current cost: 3.344725174159691, train: 0.59234375 ,test: 0.5814583333333333\n",
      "\n",
      "[    INFO] - [classification] - [176] - [fit_and_valid] \n",
      "train 150/5000  current cost: 2.9543176504178157, train: 0.6064583333333333 ,test: 0.5939583333333334\n",
      "\n",
      "[    INFO] - [classification] - [176] - [fit_and_valid] \n",
      "train 200/5000  current cost: 2.629956153200473, train: 0.6194270833333333 ,test: 0.6083333333333333\n",
      "\n",
      "[    INFO] - [classification] - [176] - [fit_and_valid] \n",
      "train 250/5000  current cost: 2.363007192497398, train: 0.63109375 ,test: 0.618125\n",
      "\n",
      "[    INFO] - [classification] - [176] - [fit_and_valid] \n",
      "train 300/5000  current cost: 2.1392509747849737, train: 0.640625 ,test: 0.6283333333333333\n",
      "\n",
      "[    INFO] - [classification] - [176] - [fit_and_valid] \n",
      "train 350/5000  current cost: 1.945355186239679, train: 0.64828125 ,test: 0.6379166666666667\n",
      "\n",
      "[    INFO] - [classification] - [176] - [fit_and_valid] \n",
      "train 400/5000  current cost: 1.7748044299941108, train: 0.6552083333333333 ,test: 0.6433333333333333\n",
      "\n",
      "[    INFO] - [classification] - [176] - [fit_and_valid] \n",
      "train 450/5000  current cost: 1.6229246279599387, train: 0.6615625 ,test: 0.6497916666666667\n",
      "\n",
      "[    INFO] - [classification] - [176] - [fit_and_valid] \n",
      "train 500/5000  current cost: 1.485803548229162, train: 0.6669270833333333 ,test: 0.6560416666666666\n",
      "\n",
      "[    INFO] - [classification] - [176] - [fit_and_valid] \n",
      "train 550/5000  current cost: 1.3612682613205334, train: 0.6733854166666666 ,test: 0.6610416666666666\n",
      "\n",
      "[    INFO] - [classification] - [176] - [fit_and_valid] \n",
      "train 600/5000  current cost: 1.2482757288171011, train: 0.6788541666666666 ,test: 0.6675\n",
      "\n",
      "/BIGDATA1/nsccgz_yfdu_1/asc19/wyf/0code/pyml/linear_model/classification.py:62: RuntimeWarning: divide by zero encountered in log\n",
      "  cost = -1 / m * np.sum(Y * np.log(A) + (1 - Y) * np.log(1 - A))\n",
      "/BIGDATA1/nsccgz_yfdu_1/asc19/wyf/0code/pyml/linear_model/classification.py:62: RuntimeWarning: invalid value encountered in multiply\n",
      "  cost = -1 / m * np.sum(Y * np.log(A) + (1 - Y) * np.log(1 - A))\n",
      "[    INFO] - [classification] - [176] - [fit_and_valid] \n",
      "train 650/5000  current cost: nan, train: 0.6830729166666667 ,test: 0.6720833333333334\n",
      "\n",
      "[    INFO] - [classification] - [176] - [fit_and_valid] \n",
      "train 700/5000  current cost: nan, train: 0.6875 ,test: 0.675\n",
      "\n",
      "[    INFO] - [classification] - [176] - [fit_and_valid] \n",
      "train 750/5000  current cost: nan, train: 0.6919270833333333 ,test: 0.6789583333333333\n",
      "\n",
      "[    INFO] - [classification] - [176] - [fit_and_valid] \n",
      "train 800/5000  current cost: nan, train: 0.6953125 ,test: 0.6829166666666666\n",
      "\n",
      "[    INFO] - [classification] - [176] - [fit_and_valid] \n",
      "train 850/5000  current cost: nan, train: 0.69796875 ,test: 0.685\n",
      "\n",
      "[    INFO] - [classification] - [176] - [fit_and_valid] \n",
      "train 900/5000  current cost: nan, train: 0.7003125 ,test: 0.6864583333333333\n",
      "\n",
      "[    INFO] - [classification] - [176] - [fit_and_valid] \n",
      "train 950/5000  current cost: nan, train: 0.70203125 ,test: 0.689375\n",
      "\n",
      "[    INFO] - [classification] - [176] - [fit_and_valid] \n",
      "train 1000/5000  current cost: nan, train: 0.7041145833333333 ,test: 0.6933333333333334\n",
      "\n",
      "[    INFO] - [classification] - [176] - [fit_and_valid] \n",
      "train 1050/5000  current cost: nan, train: 0.70609375 ,test: 0.6964583333333333\n",
      "\n",
      "[    INFO] - [classification] - [176] - [fit_and_valid] \n",
      "train 1100/5000  current cost: nan, train: 0.7069791666666667 ,test: 0.6997916666666667\n",
      "\n",
      "[    INFO] - [classification] - [176] - [fit_and_valid] \n",
      "train 1150/5000  current cost: nan, train: 0.7096875 ,test: 0.7022916666666666\n",
      "\n",
      "[    INFO] - [classification] - [176] - [fit_and_valid] \n",
      "train 1200/5000  current cost: nan, train: 0.71125 ,test: 0.703125\n",
      "\n",
      "[    INFO] - [classification] - [176] - [fit_and_valid] \n",
      "train 1250/5000  current cost: nan, train: 0.7130729166666666 ,test: 0.704375\n",
      "\n",
      "[    INFO] - [classification] - [176] - [fit_and_valid] \n",
      "train 1300/5000  current cost: nan, train: 0.714375 ,test: 0.705625\n",
      "\n",
      "[    INFO] - [classification] - [176] - [fit_and_valid] \n",
      "train 1350/5000  current cost: nan, train: 0.7166145833333334 ,test: 0.7083333333333334\n",
      "\n",
      "[    INFO] - [classification] - [176] - [fit_and_valid] \n",
      "train 1400/5000  current cost: nan, train: 0.718125 ,test: 0.7097916666666667\n",
      "\n",
      "[    INFO] - [classification] - [176] - [fit_and_valid] \n",
      "train 1450/5000  current cost: nan, train: 0.7189583333333334 ,test: 0.710625\n",
      "\n",
      "[    INFO] - [classification] - [176] - [fit_and_valid] \n",
      "train 1500/5000  current cost: nan, train: 0.7201041666666667 ,test: 0.7122916666666667\n",
      "\n",
      "[    INFO] - [classification] - [176] - [fit_and_valid] \n",
      "train 1550/5000  current cost: nan, train: 0.7208854166666666 ,test: 0.713125\n",
      "\n",
      "[    INFO] - [classification] - [176] - [fit_and_valid] \n",
      "train 1600/5000  current cost: nan, train: 0.7220833333333333 ,test: 0.7133333333333334\n",
      "\n",
      "[    INFO] - [classification] - [176] - [fit_and_valid] \n",
      "train 1650/5000  current cost: nan, train: 0.723125 ,test: 0.7154166666666667\n",
      "\n",
      "[    INFO] - [classification] - [176] - [fit_and_valid] \n",
      "train 1700/5000  current cost: nan, train: 0.7238020833333333 ,test: 0.7160416666666667\n",
      "\n",
      "[    INFO] - [classification] - [176] - [fit_and_valid] \n",
      "train 1750/5000  current cost: nan, train: 0.7244270833333334 ,test: 0.715625\n",
      "\n",
      "[    INFO] - [classification] - [176] - [fit_and_valid] \n",
      "train 1800/5000  current cost: nan, train: 0.72484375 ,test: 0.716875\n",
      "\n",
      "[    INFO] - [classification] - [176] - [fit_and_valid] \n",
      "train 1850/5000  current cost: nan, train: 0.7253645833333333 ,test: 0.718125\n",
      "\n",
      "[    INFO] - [classification] - [176] - [fit_and_valid] \n",
      "train 1900/5000  current cost: nan, train: 0.72578125 ,test: 0.7189583333333334\n",
      "\n",
      "[    INFO] - [classification] - [176] - [fit_and_valid] \n",
      "train 1950/5000  current cost: nan, train: 0.72671875 ,test: 0.72\n",
      "\n",
      "[    INFO] - [classification] - [176] - [fit_and_valid] \n",
      "train 2000/5000  current cost: 0.20293692018333856, train: 0.72734375 ,test: 0.7204166666666667\n",
      "\n",
      "[    INFO] - [classification] - [176] - [fit_and_valid] \n",
      "train 2050/5000  current cost: 0.1934769887343486, train: 0.7283333333333334 ,test: 0.7202083333333333\n",
      "\n",
      "[    INFO] - [classification] - [176] - [fit_and_valid] \n",
      "train 2100/5000  current cost: 0.18466151905735345, train: 0.72859375 ,test: 0.720625\n",
      "\n",
      "[    INFO] - [classification] - [176] - [fit_and_valid] \n",
      "train 2150/5000  current cost: 0.17643017996201835, train: 0.7291666666666666 ,test: 0.72125\n",
      "\n",
      "[    INFO] - [classification] - [176] - [fit_and_valid] \n",
      "train 2200/5000  current cost: 0.16872963251778755, train: 0.7294270833333333 ,test: 0.7208333333333333\n",
      "\n",
      "[    INFO] - [classification] - [176] - [fit_and_valid] \n",
      "train 2250/5000  current cost: 0.16151338027148246, train: 0.7302604166666666 ,test: 0.72125\n",
      "\n",
      "[    INFO] - [classification] - [176] - [fit_and_valid] \n",
      "train 2300/5000  current cost: 0.1547409096467811, train: 0.7308854166666666 ,test: 0.7208333333333333\n",
      "\n"
     ]
    },
    {
     "ename": "KeyboardInterrupt",
     "evalue": "",
     "output_type": "error",
     "traceback": [
      "\u001b[0;31m---------------------------------------------------------------------------\u001b[0m",
      "\u001b[0;31mKeyboardInterrupt\u001b[0m                         Traceback (most recent call last)",
      "\u001b[0;32m<ipython-input-8-05c0b3d6f328>\u001b[0m in \u001b[0;36m<module>\u001b[0;34m()\u001b[0m\n\u001b[1;32m      8\u001b[0m     \u001b[0;32mfor\u001b[0m \u001b[0mtrain_indices\u001b[0m\u001b[0;34m,\u001b[0m \u001b[0mtest_indices\u001b[0m \u001b[0;32min\u001b[0m \u001b[0mms\u001b[0m\u001b[0;34m.\u001b[0m\u001b[0msplit\u001b[0m\u001b[0;34m(\u001b[0m\u001b[0mtrain_X\u001b[0m\u001b[0;34m)\u001b[0m\u001b[0;34m:\u001b[0m\u001b[0;34m\u001b[0m\u001b[0m\n\u001b[1;32m      9\u001b[0m         \u001b[0mclf\u001b[0m \u001b[0;34m=\u001b[0m \u001b[0mLogisticClassifier\u001b[0m\u001b[0;34m(\u001b[0m\u001b[0mlearning_rate\u001b[0m\u001b[0;34m=\u001b[0m\u001b[0mlearning_rate\u001b[0m\u001b[0;34m,\u001b[0m \u001b[0mnum_iterations\u001b[0m\u001b[0;34m=\u001b[0m\u001b[0mnum_iteration\u001b[0m\u001b[0;34m,\u001b[0m \u001b[0mmini_batch\u001b[0m\u001b[0;34m=\u001b[0m\u001b[0mmini_batch\u001b[0m\u001b[0;34m)\u001b[0m\u001b[0;34m\u001b[0m\u001b[0m\n\u001b[0;32m---> 10\u001b[0;31m         \u001b[0mclf\u001b[0m\u001b[0;34m.\u001b[0m\u001b[0mfit_and_valid\u001b[0m\u001b[0;34m(\u001b[0m\u001b[0mtrain_X\u001b[0m\u001b[0;34m[\u001b[0m\u001b[0mtrain_indices\u001b[0m\u001b[0;34m]\u001b[0m\u001b[0;34m,\u001b[0m \u001b[0mtrain_Y\u001b[0m\u001b[0;34m[\u001b[0m\u001b[0mtrain_indices\u001b[0m\u001b[0;34m]\u001b[0m\u001b[0;34m,\u001b[0m \u001b[0mtrain_X\u001b[0m\u001b[0;34m[\u001b[0m\u001b[0mtest_indices\u001b[0m\u001b[0;34m]\u001b[0m\u001b[0;34m,\u001b[0m \u001b[0mtrain_Y\u001b[0m\u001b[0;34m[\u001b[0m\u001b[0mtest_indices\u001b[0m\u001b[0;34m]\u001b[0m\u001b[0;34m)\u001b[0m\u001b[0;34m\u001b[0m\u001b[0m\n\u001b[0m\u001b[1;32m     11\u001b[0m         \u001b[0my_pred\u001b[0m \u001b[0;34m=\u001b[0m \u001b[0mclf\u001b[0m\u001b[0;34m.\u001b[0m\u001b[0mpredict\u001b[0m\u001b[0;34m(\u001b[0m\u001b[0mtrain_X\u001b[0m\u001b[0;34m[\u001b[0m\u001b[0mtest_indices\u001b[0m\u001b[0;34m]\u001b[0m\u001b[0;34m)\u001b[0m\u001b[0;34m\u001b[0m\u001b[0m\n\u001b[1;32m     12\u001b[0m         \u001b[0mscore\u001b[0m \u001b[0;34m=\u001b[0m \u001b[0mprecision_score\u001b[0m\u001b[0;34m(\u001b[0m\u001b[0mtrain_Y\u001b[0m\u001b[0;34m[\u001b[0m\u001b[0mtest_indices\u001b[0m\u001b[0;34m]\u001b[0m\u001b[0;34m,\u001b[0m \u001b[0my_pred\u001b[0m\u001b[0;34m)\u001b[0m\u001b[0;34m\u001b[0m\u001b[0m\n",
      "\u001b[0;32m~/asc19/wyf/0code/pyml/linear_model/classification.py\u001b[0m in \u001b[0;36mfit_and_valid\u001b[0;34m(self, X, Y, X_valid, Y_valid, watch)\u001b[0m\n\u001b[1;32m    169\u001b[0m             \u001b[0mb\u001b[0m \u001b[0;34m=\u001b[0m \u001b[0mself\u001b[0m\u001b[0;34m.\u001b[0m\u001b[0mparameters\u001b[0m\u001b[0;34m[\u001b[0m\u001b[0;34m'b'\u001b[0m\u001b[0;34m]\u001b[0m\u001b[0;34m\u001b[0m\u001b[0m\n\u001b[1;32m    170\u001b[0m             \u001b[0mthis_loss\u001b[0m \u001b[0;34m=\u001b[0m \u001b[0mself\u001b[0m\u001b[0;34m.\u001b[0m\u001b[0mget_loss\u001b[0m\u001b[0;34m(\u001b[0m\u001b[0mX_valid\u001b[0m\u001b[0;34m,\u001b[0m \u001b[0mY_valid\u001b[0m\u001b[0;34m)\u001b[0m\u001b[0;34m\u001b[0m\u001b[0m\n\u001b[0;32m--> 171\u001b[0;31m             \u001b[0mtrain_loss\u001b[0m \u001b[0;34m=\u001b[0m \u001b[0mself\u001b[0m\u001b[0;34m.\u001b[0m\u001b[0mget_loss\u001b[0m\u001b[0;34m(\u001b[0m\u001b[0mX\u001b[0m\u001b[0;34m,\u001b[0m \u001b[0mY\u001b[0m\u001b[0;34m)\u001b[0m\u001b[0;34m\u001b[0m\u001b[0m\n\u001b[0m\u001b[1;32m    172\u001b[0m             \u001b[0mself\u001b[0m\u001b[0;34m.\u001b[0m\u001b[0minformation\u001b[0m\u001b[0;34m[\u001b[0m\u001b[0;34m'test_loss'\u001b[0m\u001b[0;34m]\u001b[0m\u001b[0;34m.\u001b[0m\u001b[0mappend\u001b[0m\u001b[0;34m(\u001b[0m\u001b[0mthis_loss\u001b[0m\u001b[0;34m)\u001b[0m\u001b[0;34m\u001b[0m\u001b[0m\n\u001b[1;32m    173\u001b[0m             \u001b[0mself\u001b[0m\u001b[0;34m.\u001b[0m\u001b[0minformation\u001b[0m\u001b[0;34m[\u001b[0m\u001b[0;34m'train_loss'\u001b[0m\u001b[0;34m]\u001b[0m\u001b[0;34m.\u001b[0m\u001b[0mappend\u001b[0m\u001b[0;34m(\u001b[0m\u001b[0mtrain_loss\u001b[0m\u001b[0;34m)\u001b[0m\u001b[0;34m\u001b[0m\u001b[0m\n",
      "\u001b[0;32m~/asc19/wyf/0code/pyml/linear_model/classification.py\u001b[0m in \u001b[0;36mget_loss\u001b[0;34m(self, X_valid, Y_valid)\u001b[0m\n\u001b[1;32m    184\u001b[0m         \"\"\"\n\u001b[1;32m    185\u001b[0m         \u001b[0mY_valid\u001b[0m \u001b[0;34m=\u001b[0m \u001b[0mY_valid\u001b[0m\u001b[0;34m.\u001b[0m\u001b[0mreshape\u001b[0m\u001b[0;34m(\u001b[0m\u001b[0;34m-\u001b[0m\u001b[0;36m1\u001b[0m\u001b[0;34m)\u001b[0m\u001b[0;34m\u001b[0m\u001b[0m\n\u001b[0;32m--> 186\u001b[0;31m         \u001b[0my_pred\u001b[0m \u001b[0;34m=\u001b[0m \u001b[0mself\u001b[0m\u001b[0;34m.\u001b[0m\u001b[0mpredict\u001b[0m\u001b[0;34m(\u001b[0m\u001b[0mX_valid\u001b[0m\u001b[0;34m)\u001b[0m\u001b[0;34m\u001b[0m\u001b[0m\n\u001b[0m\u001b[1;32m    187\u001b[0m         \u001b[0mlogger\u001b[0m\u001b[0;34m.\u001b[0m\u001b[0mdebug\u001b[0m\u001b[0;34m(\u001b[0m\u001b[0;34m'y_pred : shape{}'\u001b[0m\u001b[0;34m.\u001b[0m\u001b[0mformat\u001b[0m\u001b[0;34m(\u001b[0m\u001b[0my_pred\u001b[0m\u001b[0;34m.\u001b[0m\u001b[0mshape\u001b[0m\u001b[0;34m)\u001b[0m\u001b[0;34m)\u001b[0m\u001b[0;34m\u001b[0m\u001b[0m\n\u001b[1;32m    188\u001b[0m         \u001b[0mlogger\u001b[0m\u001b[0;34m.\u001b[0m\u001b[0mdebug\u001b[0m\u001b[0;34m(\u001b[0m\u001b[0;34m'Y_valid : shape{}'\u001b[0m\u001b[0;34m.\u001b[0m\u001b[0mformat\u001b[0m\u001b[0;34m(\u001b[0m\u001b[0mY_valid\u001b[0m\u001b[0;34m.\u001b[0m\u001b[0mshape\u001b[0m\u001b[0;34m)\u001b[0m\u001b[0;34m)\u001b[0m\u001b[0;34m\u001b[0m\u001b[0m\n",
      "\u001b[0;32m~/asc19/wyf/0code/pyml/linear_model/classification.py\u001b[0m in \u001b[0;36mpredict\u001b[0;34m(self, X_pred)\u001b[0m\n\u001b[1;32m    210\u001b[0m                 \u001b[0mY_pred\u001b[0m\u001b[0;34m[\u001b[0m\u001b[0mi\u001b[0m\u001b[0;34m]\u001b[0m \u001b[0;34m=\u001b[0m \u001b[0;36m1\u001b[0m\u001b[0;34m\u001b[0m\u001b[0m\n\u001b[1;32m    211\u001b[0m             \u001b[0;32melif\u001b[0m \u001b[0mA\u001b[0m\u001b[0;34m[\u001b[0m\u001b[0;36m0\u001b[0m\u001b[0;34m,\u001b[0m\u001b[0mi\u001b[0m\u001b[0;34m]\u001b[0m \u001b[0;34m<=\u001b[0m \u001b[0;36m0.5\u001b[0m\u001b[0;34m:\u001b[0m\u001b[0;34m\u001b[0m\u001b[0m\n\u001b[0;32m--> 212\u001b[0;31m                 \u001b[0mY_pred\u001b[0m\u001b[0;34m[\u001b[0m\u001b[0mi\u001b[0m\u001b[0;34m]\u001b[0m \u001b[0;34m=\u001b[0m \u001b[0;36m0\u001b[0m\u001b[0;34m\u001b[0m\u001b[0m\n\u001b[0m\u001b[1;32m    213\u001b[0m             \u001b[0;32melse\u001b[0m \u001b[0;34m:\u001b[0m\u001b[0;34m\u001b[0m\u001b[0m\n\u001b[1;32m    214\u001b[0m                 \u001b[0;32mraise\u001b[0m \u001b[0mNotImplementedError\u001b[0m\u001b[0;34m\u001b[0m\u001b[0m\n",
      "\u001b[0;31mKeyboardInterrupt\u001b[0m: "
     ]
    }
   ],
   "source": [
    "learning_rate_range = [0.03,0.05, 0.1, 0.15, 0.2]\n",
    "num_iteration = 5000\n",
    "mini_batch = 2000\n",
    "n_splits = 1\n",
    "ms = ShuffleSplit(n_splits=n_splits,test_size=0.2)\n",
    "models = []\n",
    "for i,learning_rate in enumerate(learning_rate_range):\n",
    "    for train_indices, test_indices in ms.split(train_X):\n",
    "        clf = LogisticClassifier(learning_rate=learning_rate, num_iterations=num_iteration, mini_batch=mini_batch)\n",
    "        clf.fit_and_valid(train_X[train_indices], train_Y[train_indices], train_X[test_indices], train_Y[test_indices])\n",
    "        y_pred = clf.predict(train_X[test_indices])\n",
    "        score = precision_score(train_Y[test_indices], y_pred)\n",
    "        print('i : {} score: {}'.format(i, score))\n",
    "        models.append(clf)"
   ]
  },
  {
   "cell_type": "code",
   "execution_count": null,
   "metadata": {},
   "outputs": [],
   "source": [
    "plt.figure(figsize=(12,7)) \n",
    "for i,m in enumerate(models):\n",
    "    plt.plot(range(0,len(m.information['valid_loss'])),m.information['valid_loss'],'-',label='valid '+str(hidden_sizes[i]) )\n",
    "#     plt.plot(range(0,len(m.information['train_loss'])),m.information['train_loss'],':',label='train '+str(hidden_sizes[i]) )\n",
    "    plt.yticks(np.arange(0.5, 0.95, 0.05))\n",
    "    ax = plt.gca()\n",
    "    ax.grid(True)\n",
    "    plt.legend()"
   ]
  },
  {
   "cell_type": "markdown",
   "metadata": {},
   "source": [
    "## 使用onehot矩阵"
   ]
  },
  {
   "cell_type": "code",
   "execution_count": 11,
   "metadata": {},
   "outputs": [],
   "source": [
    "train_X = train_X_onehot\n",
    "test_X = test_X_onehot"
   ]
  },
  {
   "cell_type": "code",
   "execution_count": 33,
   "metadata": {},
   "outputs": [],
   "source": [
    "# train_X = train_X.astype('int64')\n",
    "# test_X = test_X.astype('int64')"
   ]
  },
  {
   "cell_type": "code",
   "execution_count": 34,
   "metadata": {},
   "outputs": [],
   "source": [
    "# pca = PCA()\n",
    "# pca.fit(train_X)"
   ]
  },
  {
   "cell_type": "code",
   "execution_count": 36,
   "metadata": {},
   "outputs": [],
   "source": [
    "# train_X = pca.transform(train_X)\n",
    "# test_X = pca.transform(test_X)"
   ]
  },
  {
   "cell_type": "code",
   "execution_count": 12,
   "metadata": {},
   "outputs": [
    {
     "name": "stderr",
     "output_type": "stream",
     "text": [
      "/BIGDATA1/nsccgz_yfdu_1/asc19/wyf/0code/pyml/linear_model/classification.py:62: RuntimeWarning: divide by zero encountered in log\n",
      "  cost = -1 / m * np.sum(Y * np.log(A) + (1 - Y) * np.log(1 - A))\n",
      "/BIGDATA1/nsccgz_yfdu_1/asc19/wyf/0code/pyml/linear_model/classification.py:62: RuntimeWarning: invalid value encountered in log\n",
      "  cost = -1 / m * np.sum(Y * np.log(A) + (1 - Y) * np.log(1 - A))\n",
      "/BIGDATA1/nsccgz_yfdu_1/asc19/wyf/0code/pyml/linear_model/classification.py:62: RuntimeWarning: invalid value encountered in multiply\n",
      "  cost = -1 / m * np.sum(Y * np.log(A) + (1 - Y) * np.log(1 - A))\n",
      "[    INFO] - [classification] - [176] - [fit_and_valid] \n",
      "train 0/500  current cost: nan, train: 0.49614583333333334 ,test: 0.4920833333333333\n",
      "\n",
      "[    INFO] - [classification] - [176] - [fit_and_valid] \n",
      "train 50/500  current cost: nan, train: 0.5267708333333333 ,test: 0.5225\n",
      "\n",
      "[    INFO] - [classification] - [176] - [fit_and_valid] \n",
      "train 100/500  current cost: nan, train: 0.5546354166666667 ,test: 0.5516666666666666\n",
      "\n",
      "[    INFO] - [classification] - [176] - [fit_and_valid] \n",
      "train 150/500  current cost: nan, train: 0.5788020833333334 ,test: 0.575\n",
      "\n",
      "[    INFO] - [classification] - [176] - [fit_and_valid] \n",
      "train 200/500  current cost: nan, train: 0.60046875 ,test: 0.5977083333333333\n",
      "\n",
      "[    INFO] - [classification] - [176] - [fit_and_valid] \n",
      "train 250/500  current cost: nan, train: 0.6203125 ,test: 0.6129166666666667\n",
      "\n",
      "[    INFO] - [classification] - [176] - [fit_and_valid] \n",
      "train 300/500  current cost: nan, train: 0.6386979166666666 ,test: 0.6270833333333333\n",
      "\n",
      "[    INFO] - [classification] - [176] - [fit_and_valid] \n",
      "train 350/500  current cost: nan, train: 0.6530729166666667 ,test: 0.6395833333333333\n",
      "\n",
      "[    INFO] - [classification] - [176] - [fit_and_valid] \n",
      "train 400/500  current cost: nan, train: 0.6667708333333333 ,test: 0.655625\n",
      "\n",
      "[    INFO] - [classification] - [176] - [fit_and_valid] \n",
      "train 450/500  current cost: nan, train: 0.6757291666666667 ,test: 0.6639583333333333\n",
      "\n"
     ]
    },
    {
     "name": "stdout",
     "output_type": "stream",
     "text": [
      "i : 0 score: 0.6754166666666667\n"
     ]
    },
    {
     "name": "stderr",
     "output_type": "stream",
     "text": [
      "[    INFO] - [classification] - [176] - [fit_and_valid] \n",
      "train 0/500  current cost: nan, train: 0.47052083333333333 ,test: 0.47458333333333336\n",
      "\n",
      "[    INFO] - [classification] - [176] - [fit_and_valid] \n",
      "train 50/500  current cost: nan, train: 0.51859375 ,test: 0.5260416666666666\n",
      "\n",
      "[    INFO] - [classification] - [176] - [fit_and_valid] \n",
      "train 100/500  current cost: nan, train: 0.5553125 ,test: 0.558125\n",
      "\n",
      "[    INFO] - [classification] - [176] - [fit_and_valid] \n",
      "train 150/500  current cost: nan, train: 0.5861458333333334 ,test: 0.5860416666666667\n",
      "\n",
      "[    INFO] - [classification] - [176] - [fit_and_valid] \n",
      "train 200/500  current cost: nan, train: 0.61328125 ,test: 0.6108333333333333\n",
      "\n",
      "[    INFO] - [classification] - [176] - [fit_and_valid] \n",
      "train 250/500  current cost: nan, train: 0.63375 ,test: 0.630625\n",
      "\n",
      "[    INFO] - [classification] - [176] - [fit_and_valid] \n",
      "train 300/500  current cost: nan, train: 0.6533854166666667 ,test: 0.6472916666666667\n",
      "\n",
      "[    INFO] - [classification] - [176] - [fit_and_valid] \n",
      "train 350/500  current cost: nan, train: 0.6669270833333333 ,test: 0.660625\n",
      "\n",
      "[    INFO] - [classification] - [176] - [fit_and_valid] \n",
      "train 400/500  current cost: nan, train: 0.6794270833333333 ,test: 0.6704166666666667\n",
      "\n",
      "[    INFO] - [classification] - [176] - [fit_and_valid] \n",
      "train 450/500  current cost: nan, train: 0.690625 ,test: 0.6820833333333334\n",
      "\n"
     ]
    },
    {
     "name": "stdout",
     "output_type": "stream",
     "text": [
      "i : 1 score: 0.6902083333333333\n"
     ]
    }
   ],
   "source": [
    "learning_rate_range = [0.15, 0.2]\n",
    "num_iteration = 500\n",
    "mini_batch = 0\n",
    "n_splits = 1\n",
    "ms = ShuffleSplit(n_splits=n_splits,test_size=0.2)\n",
    "models_2 = []\n",
    "for i,learning_rate in enumerate(learning_rate_range):\n",
    "    for train_indices, test_indices in ms.split(train_X):\n",
    "        clf = LogisticClassifier(learning_rate=learning_rate, num_iterations=num_iteration, mini_batch=mini_batch)\n",
    "        clf.fit_and_valid(train_X[train_indices], train_Y[train_indices], train_X[test_indices], train_Y[test_indices])\n",
    "        y_pred = clf.predict(train_X[test_indices])\n",
    "        score = precision_score(train_Y[test_indices], y_pred)\n",
    "        print('i : {} score: {}'.format(i, score))\n",
    "        models_2.append(clf)"
   ]
  },
  {
   "cell_type": "code",
   "execution_count": 15,
   "metadata": {},
   "outputs": [
    {
     "data": {
      "image/png": "[encoded data removed]",
      "text/plain": [
       "<Figure size 432x288 with 1 Axes>"
      ]
     },
     "metadata": {},
     "output_type": "display_data"
    }
   ],
   "source": [
    "for i,m in enumerate(models_2):\n",
    "    plt.plot(range(0,len(m.information['test_loss'])),m.information['test_loss'],'-',label='valid '+str(learning_rate_range[i]) )\n",
    "#     plt.plot(range(0,len(m.information['train_loss'])),m.information['train_loss'],':',label='train '+str(learning_rate_range[i]) )\n",
    "    plt.legend()"
   ]
  },
  {
   "cell_type": "code",
   "execution_count": 16,
   "metadata": {},
   "outputs": [
    {
     "name": "stderr",
     "output_type": "stream",
     "text": [
      "/BIGDATA1/nsccgz_yfdu_1/asc19/wyf/0code/pyml/linear_model/classification.py:62: RuntimeWarning: divide by zero encountered in log\n",
      "  cost = -1 / m * np.sum(Y * np.log(A) + (1 - Y) * np.log(1 - A))\n",
      "/BIGDATA1/nsccgz_yfdu_1/asc19/wyf/0code/pyml/linear_model/classification.py:62: RuntimeWarning: invalid value encountered in log\n",
      "  cost = -1 / m * np.sum(Y * np.log(A) + (1 - Y) * np.log(1 - A))\n",
      "/BIGDATA1/nsccgz_yfdu_1/asc19/wyf/0code/pyml/linear_model/classification.py:62: RuntimeWarning: invalid value encountered in multiply\n",
      "  cost = -1 / m * np.sum(Y * np.log(A) + (1 - Y) * np.log(1 - A))\n",
      "[    INFO] - [classification] - [176] - [fit_and_valid] \n",
      "train 0/2000  current cost: nan, train: 0.47791666666666666 ,test: 0.46875\n",
      "\n",
      "[    INFO] - [classification] - [176] - [fit_and_valid] \n",
      "train 50/2000  current cost: nan, train: 0.5086458333333334 ,test: 0.49541666666666667\n",
      "\n",
      "[    INFO] - [classification] - [176] - [fit_and_valid] \n",
      "train 100/2000  current cost: nan, train: 0.53984375 ,test: 0.5283333333333333\n",
      "\n",
      "[    INFO] - [classification] - [176] - [fit_and_valid] \n",
      "train 150/2000  current cost: nan, train: 0.5635416666666667 ,test: 0.556875\n",
      "\n",
      "[    INFO] - [classification] - [176] - [fit_and_valid] \n",
      "train 200/2000  current cost: nan, train: 0.5891666666666666 ,test: 0.583125\n",
      "\n",
      "[    INFO] - [classification] - [176] - [fit_and_valid] \n",
      "train 250/2000  current cost: nan, train: 0.6088020833333333 ,test: 0.6054166666666667\n",
      "\n",
      "[    INFO] - [classification] - [176] - [fit_and_valid] \n",
      "train 300/2000  current cost: nan, train: 0.6265625 ,test: 0.6254166666666666\n",
      "\n",
      "[    INFO] - [classification] - [176] - [fit_and_valid] \n",
      "train 350/2000  current cost: nan, train: 0.6438020833333333 ,test: 0.6402083333333334\n",
      "\n",
      "[    INFO] - [classification] - [176] - [fit_and_valid] \n",
      "train 400/2000  current cost: nan, train: 0.6555208333333333 ,test: 0.651875\n",
      "\n",
      "[    INFO] - [classification] - [176] - [fit_and_valid] \n",
      "train 450/2000  current cost: nan, train: 0.6672916666666666 ,test: 0.6647916666666667\n",
      "\n",
      "[    INFO] - [classification] - [176] - [fit_and_valid] \n",
      "train 500/2000  current cost: nan, train: 0.67765625 ,test: 0.6758333333333333\n",
      "\n",
      "[    INFO] - [classification] - [176] - [fit_and_valid] \n",
      "train 550/2000  current cost: nan, train: 0.6868229166666666 ,test: 0.6827083333333334\n",
      "\n",
      "[    INFO] - [classification] - [176] - [fit_and_valid] \n",
      "train 600/2000  current cost: nan, train: 0.6943229166666667 ,test: 0.6891666666666667\n",
      "\n",
      "[    INFO] - [classification] - [176] - [fit_and_valid] \n",
      "train 650/2000  current cost: nan, train: 0.7018229166666666 ,test: 0.6945833333333333\n",
      "\n",
      "[    INFO] - [classification] - [176] - [fit_and_valid] \n",
      "train 700/2000  current cost: nan, train: 0.7075 ,test: 0.6985416666666666\n",
      "\n",
      "[    INFO] - [classification] - [176] - [fit_and_valid] \n",
      "train 750/2000  current cost: nan, train: 0.7132291666666667 ,test: 0.704375\n",
      "\n",
      "[    INFO] - [classification] - [176] - [fit_and_valid] \n",
      "train 800/2000  current cost: nan, train: 0.7193229166666667 ,test: 0.7102083333333333\n",
      "\n",
      "[    INFO] - [classification] - [176] - [fit_and_valid] \n",
      "train 850/2000  current cost: nan, train: 0.7256770833333334 ,test: 0.7166666666666667\n",
      "\n",
      "[    INFO] - [classification] - [176] - [fit_and_valid] \n",
      "train 900/2000  current cost: nan, train: 0.73078125 ,test: 0.7208333333333333\n",
      "\n",
      "[    INFO] - [classification] - [176] - [fit_and_valid] \n",
      "train 950/2000  current cost: nan, train: 0.7355208333333333 ,test: 0.7252083333333333\n",
      "\n",
      "[    INFO] - [classification] - [176] - [fit_and_valid] \n",
      "train 1000/2000  current cost: nan, train: 0.7397916666666666 ,test: 0.7285416666666666\n",
      "\n",
      "[    INFO] - [classification] - [176] - [fit_and_valid] \n",
      "train 1050/2000  current cost: nan, train: 0.74375 ,test: 0.7325\n",
      "\n",
      "[    INFO] - [classification] - [176] - [fit_and_valid] \n",
      "train 1100/2000  current cost: nan, train: 0.7470833333333333 ,test: 0.7358333333333333\n",
      "\n",
      "[    INFO] - [classification] - [176] - [fit_and_valid] \n",
      "train 1150/2000  current cost: nan, train: 0.75046875 ,test: 0.73875\n",
      "\n",
      "[    INFO] - [classification] - [176] - [fit_and_valid] \n",
      "train 1200/2000  current cost: nan, train: 0.7530208333333334 ,test: 0.74125\n",
      "\n",
      "[    INFO] - [classification] - [176] - [fit_and_valid] \n",
      "train 1250/2000  current cost: nan, train: 0.75671875 ,test: 0.745\n",
      "\n",
      "[    INFO] - [classification] - [176] - [fit_and_valid] \n",
      "train 1300/2000  current cost: nan, train: 0.7594270833333333 ,test: 0.7489583333333333\n",
      "\n",
      "[    INFO] - [classification] - [176] - [fit_and_valid] \n",
      "train 1350/2000  current cost: nan, train: 0.7616666666666667 ,test: 0.7497916666666666\n",
      "\n",
      "[    INFO] - [classification] - [176] - [fit_and_valid] \n",
      "train 1400/2000  current cost: nan, train: 0.7640625 ,test: 0.75125\n",
      "\n",
      "[    INFO] - [classification] - [176] - [fit_and_valid] \n",
      "train 1450/2000  current cost: nan, train: 0.76609375 ,test: 0.7547916666666666\n",
      "\n",
      "[    INFO] - [classification] - [176] - [fit_and_valid] \n",
      "train 1500/2000  current cost: nan, train: 0.7689583333333333 ,test: 0.756875\n",
      "\n",
      "[    INFO] - [classification] - [176] - [fit_and_valid] \n",
      "train 1550/2000  current cost: nan, train: 0.77140625 ,test: 0.7595833333333334\n",
      "\n",
      "[    INFO] - [classification] - [176] - [fit_and_valid] \n",
      "train 1600/2000  current cost: nan, train: 0.7742708333333334 ,test: 0.7620833333333333\n",
      "\n",
      "[    INFO] - [classification] - [176] - [fit_and_valid] \n",
      "train 1650/2000  current cost: nan, train: 0.7763020833333333 ,test: 0.764375\n",
      "\n",
      "[    INFO] - [classification] - [176] - [fit_and_valid] \n",
      "train 1700/2000  current cost: nan, train: 0.7788541666666666 ,test: 0.766875\n",
      "\n",
      "[    INFO] - [classification] - [176] - [fit_and_valid] \n",
      "train 1750/2000  current cost: nan, train: 0.78046875 ,test: 0.7691666666666667\n",
      "\n",
      "[    INFO] - [classification] - [176] - [fit_and_valid] \n",
      "train 1800/2000  current cost: nan, train: 0.7822916666666667 ,test: 0.77125\n",
      "\n",
      "[    INFO] - [classification] - [176] - [fit_and_valid] \n",
      "train 1850/2000  current cost: nan, train: 0.7838541666666666 ,test: 0.7727083333333333\n",
      "\n",
      "[    INFO] - [classification] - [176] - [fit_and_valid] \n",
      "train 1900/2000  current cost: nan, train: 0.785625 ,test: 0.7741666666666667\n",
      "\n",
      "[    INFO] - [classification] - [176] - [fit_and_valid] \n",
      "train 1950/2000  current cost: nan, train: 0.7871875 ,test: 0.77625\n",
      "\n"
     ]
    },
    {
     "name": "stdout",
     "output_type": "stream",
     "text": [
      "i : 0 score: 0.7770833333333333\n"
     ]
    },
    {
     "name": "stderr",
     "output_type": "stream",
     "text": [
      "[    INFO] - [classification] - [176] - [fit_and_valid] \n",
      "train 0/2000  current cost: nan, train: 0.5497916666666667 ,test: 0.5575\n",
      "\n",
      "[    INFO] - [classification] - [176] - [fit_and_valid] \n",
      "train 50/2000  current cost: nan, train: 0.5846354166666666 ,test: 0.585625\n",
      "\n",
      "[    INFO] - [classification] - [176] - [fit_and_valid] \n",
      "train 100/2000  current cost: nan, train: 0.6118229166666667 ,test: 0.6129166666666667\n",
      "\n",
      "[    INFO] - [classification] - [176] - [fit_and_valid] \n",
      "train 150/2000  current cost: nan, train: 0.63421875 ,test: 0.6320833333333333\n",
      "\n",
      "[    INFO] - [classification] - [176] - [fit_and_valid] \n",
      "train 200/2000  current cost: nan, train: 0.6509895833333333 ,test: 0.6439583333333333\n",
      "\n",
      "[    INFO] - [classification] - [176] - [fit_and_valid] \n",
      "train 250/2000  current cost: nan, train: 0.6665104166666667 ,test: 0.6545833333333333\n",
      "\n",
      "[    INFO] - [classification] - [176] - [fit_and_valid] \n",
      "train 300/2000  current cost: nan, train: 0.6797916666666667 ,test: 0.6685416666666667\n",
      "\n",
      "[    INFO] - [classification] - [176] - [fit_and_valid] \n",
      "train 350/2000  current cost: nan, train: 0.6910416666666667 ,test: 0.6795833333333333\n",
      "\n",
      "[    INFO] - [classification] - [176] - [fit_and_valid] \n",
      "train 400/2000  current cost: nan, train: 0.701875 ,test: 0.6922916666666666\n",
      "\n",
      "[    INFO] - [classification] - [176] - [fit_and_valid] \n",
      "train 450/2000  current cost: nan, train: 0.7114583333333333 ,test: 0.699375\n",
      "\n",
      "[    INFO] - [classification] - [176] - [fit_and_valid] \n",
      "train 500/2000  current cost: nan, train: 0.7198958333333333 ,test: 0.7054166666666667\n",
      "\n",
      "[    INFO] - [classification] - [176] - [fit_and_valid] \n",
      "train 550/2000  current cost: nan, train: 0.7261979166666667 ,test: 0.7097916666666667\n",
      "\n",
      "[    INFO] - [classification] - [176] - [fit_and_valid] \n",
      "train 600/2000  current cost: nan, train: 0.7335416666666666 ,test: 0.7158333333333333\n",
      "\n"
     ]
    },
    {
     "ename": "KeyboardInterrupt",
     "evalue": "",
     "output_type": "error",
     "traceback": [
      "\u001b[0;31m---------------------------------------------------------------------------\u001b[0m",
      "\u001b[0;31mKeyboardInterrupt\u001b[0m                         Traceback (most recent call last)",
      "\u001b[0;32m<ipython-input-16-1e70376410ce>\u001b[0m in \u001b[0;36m<module>\u001b[0;34m()\u001b[0m\n\u001b[1;32m      8\u001b[0m     \u001b[0;32mfor\u001b[0m \u001b[0mtrain_indices\u001b[0m\u001b[0;34m,\u001b[0m \u001b[0mtest_indices\u001b[0m \u001b[0;32min\u001b[0m \u001b[0mms\u001b[0m\u001b[0;34m.\u001b[0m\u001b[0msplit\u001b[0m\u001b[0;34m(\u001b[0m\u001b[0mtrain_X\u001b[0m\u001b[0;34m)\u001b[0m\u001b[0;34m:\u001b[0m\u001b[0;34m\u001b[0m\u001b[0m\n\u001b[1;32m      9\u001b[0m         \u001b[0mclf\u001b[0m \u001b[0;34m=\u001b[0m \u001b[0mLogisticClassifier\u001b[0m\u001b[0;34m(\u001b[0m\u001b[0mlearning_rate\u001b[0m\u001b[0;34m=\u001b[0m\u001b[0mlearning_rate\u001b[0m\u001b[0;34m,\u001b[0m \u001b[0mnum_iterations\u001b[0m\u001b[0;34m=\u001b[0m\u001b[0mnum_iteration\u001b[0m\u001b[0;34m,\u001b[0m \u001b[0mmini_batch\u001b[0m\u001b[0;34m=\u001b[0m\u001b[0mmini_batch\u001b[0m\u001b[0;34m)\u001b[0m\u001b[0;34m\u001b[0m\u001b[0m\n\u001b[0;32m---> 10\u001b[0;31m         \u001b[0mclf\u001b[0m\u001b[0;34m.\u001b[0m\u001b[0mfit_and_valid\u001b[0m\u001b[0;34m(\u001b[0m\u001b[0mtrain_X\u001b[0m\u001b[0;34m[\u001b[0m\u001b[0mtrain_indices\u001b[0m\u001b[0;34m]\u001b[0m\u001b[0;34m,\u001b[0m \u001b[0mtrain_Y\u001b[0m\u001b[0;34m[\u001b[0m\u001b[0mtrain_indices\u001b[0m\u001b[0;34m]\u001b[0m\u001b[0;34m,\u001b[0m \u001b[0mtrain_X\u001b[0m\u001b[0;34m[\u001b[0m\u001b[0mtest_indices\u001b[0m\u001b[0;34m]\u001b[0m\u001b[0;34m,\u001b[0m \u001b[0mtrain_Y\u001b[0m\u001b[0;34m[\u001b[0m\u001b[0mtest_indices\u001b[0m\u001b[0;34m]\u001b[0m\u001b[0;34m)\u001b[0m\u001b[0;34m\u001b[0m\u001b[0m\n\u001b[0m\u001b[1;32m     11\u001b[0m         \u001b[0my_pred\u001b[0m \u001b[0;34m=\u001b[0m \u001b[0mclf\u001b[0m\u001b[0;34m.\u001b[0m\u001b[0mpredict\u001b[0m\u001b[0;34m(\u001b[0m\u001b[0mtrain_X\u001b[0m\u001b[0;34m[\u001b[0m\u001b[0mtest_indices\u001b[0m\u001b[0;34m]\u001b[0m\u001b[0;34m)\u001b[0m\u001b[0;34m\u001b[0m\u001b[0m\n\u001b[1;32m     12\u001b[0m         \u001b[0mscore\u001b[0m \u001b[0;34m=\u001b[0m \u001b[0mprecision_score\u001b[0m\u001b[0;34m(\u001b[0m\u001b[0mtrain_Y\u001b[0m\u001b[0;34m[\u001b[0m\u001b[0mtest_indices\u001b[0m\u001b[0;34m]\u001b[0m\u001b[0;34m,\u001b[0m \u001b[0my_pred\u001b[0m\u001b[0;34m)\u001b[0m\u001b[0;34m\u001b[0m\u001b[0m\n",
      "\u001b[0;32m~/asc19/wyf/0code/pyml/linear_model/classification.py\u001b[0m in \u001b[0;36mfit_and_valid\u001b[0;34m(self, X, Y, X_valid, Y_valid, watch)\u001b[0m\n\u001b[1;32m    165\u001b[0m         \u001b[0;32melse\u001b[0m\u001b[0;34m:\u001b[0m\u001b[0;34m\u001b[0m\u001b[0m\n\u001b[1;32m    166\u001b[0m             \u001b[0mX_batch\u001b[0m\u001b[0;34m,\u001b[0m\u001b[0mY_batch\u001b[0m \u001b[0;34m=\u001b[0m \u001b[0mself\u001b[0m\u001b[0;34m.\u001b[0m\u001b[0mget_mini_batch\u001b[0m\u001b[0;34m(\u001b[0m\u001b[0;34m)\u001b[0m\u001b[0;34m\u001b[0m\u001b[0m\n\u001b[0;32m--> 167\u001b[0;31m             \u001b[0mlogger\u001b[0m\u001b[0;34m.\u001b[0m\u001b[0mdebug\u001b[0m\u001b[0;34m(\u001b[0m\u001b[0;34m'X_batch : {}\\nshape:{}'\u001b[0m\u001b[0;34m.\u001b[0m\u001b[0mformat\u001b[0m\u001b[0;34m(\u001b[0m\u001b[0mX_batch\u001b[0m\u001b[0;34m,\u001b[0m\u001b[0mX_batch\u001b[0m\u001b[0;34m.\u001b[0m\u001b[0mshape\u001b[0m\u001b[0;34m)\u001b[0m\u001b[0;34m)\u001b[0m\u001b[0;34m\u001b[0m\u001b[0m\n\u001b[0m\u001b[1;32m    168\u001b[0m             \u001b[0mlogger\u001b[0m\u001b[0;34m.\u001b[0m\u001b[0mdebug\u001b[0m\u001b[0;34m(\u001b[0m\u001b[0;34m'Y_batch : {}\\nshape:{}'\u001b[0m\u001b[0;34m.\u001b[0m\u001b[0mformat\u001b[0m\u001b[0;34m(\u001b[0m\u001b[0mY_batch\u001b[0m\u001b[0;34m,\u001b[0m\u001b[0mY_batch\u001b[0m\u001b[0;34m.\u001b[0m\u001b[0mshape\u001b[0m\u001b[0;34m)\u001b[0m\u001b[0;34m)\u001b[0m\u001b[0;34m\u001b[0m\u001b[0m\n\u001b[1;32m    169\u001b[0m             \u001b[0mgrads\u001b[0m\u001b[0;34m,\u001b[0m \u001b[0mcost\u001b[0m \u001b[0;34m=\u001b[0m \u001b[0mself\u001b[0m\u001b[0;34m.\u001b[0m\u001b[0mpropagate\u001b[0m\u001b[0;34m(\u001b[0m\u001b[0mw\u001b[0m\u001b[0;34m,\u001b[0m\u001b[0mb\u001b[0m\u001b[0;34m,\u001b[0m\u001b[0mX_batch\u001b[0m\u001b[0;34m,\u001b[0m \u001b[0mY_batch\u001b[0m\u001b[0;34m)\u001b[0m\u001b[0;34m\u001b[0m\u001b[0m\n",
      "\u001b[0;32m~/asc19/wyf/0code/pyml/linear_model/classification.py\u001b[0m in \u001b[0;36moptimize_single\u001b[0;34m(self, w, b, X, Y)\u001b[0m\n\u001b[1;32m    110\u001b[0m         \"\"\"\n\u001b[1;32m    111\u001b[0m         \u001b[0mm\u001b[0m \u001b[0;34m=\u001b[0m \u001b[0mX\u001b[0m\u001b[0;34m.\u001b[0m\u001b[0mshape\u001b[0m\u001b[0;34m[\u001b[0m\u001b[0;36m1\u001b[0m\u001b[0;34m]\u001b[0m\u001b[0;34m\u001b[0m\u001b[0m\n\u001b[0;32m--> 112\u001b[0;31m         \u001b[0mA\u001b[0m \u001b[0;34m=\u001b[0m \u001b[0msigmoid\u001b[0m\u001b[0;34m(\u001b[0m\u001b[0mnp\u001b[0m\u001b[0;34m.\u001b[0m\u001b[0mdot\u001b[0m\u001b[0;34m(\u001b[0m\u001b[0mw\u001b[0m\u001b[0;34m.\u001b[0m\u001b[0mT\u001b[0m\u001b[0;34m,\u001b[0m \u001b[0mX\u001b[0m\u001b[0;34m)\u001b[0m \u001b[0;34m+\u001b[0m \u001b[0mb\u001b[0m\u001b[0;34m)\u001b[0m\u001b[0;34m\u001b[0m\u001b[0m\n\u001b[0m\u001b[1;32m    113\u001b[0m         \u001b[0ml2\u001b[0m \u001b[0;34m=\u001b[0m \u001b[0mself\u001b[0m\u001b[0;34m.\u001b[0m\u001b[0mlambda_l2\u001b[0m \u001b[0;34m*\u001b[0m \u001b[0;34m(\u001b[0m\u001b[0mnp\u001b[0m\u001b[0;34m.\u001b[0m\u001b[0msquare\u001b[0m\u001b[0;34m(\u001b[0m\u001b[0mw\u001b[0m\u001b[0;34m)\u001b[0m\u001b[0;34m.\u001b[0m\u001b[0msum\u001b[0m\u001b[0;34m(\u001b[0m\u001b[0;34m)\u001b[0m\u001b[0;34m+\u001b[0m\u001b[0mnp\u001b[0m\u001b[0;34m.\u001b[0m\u001b[0msquare\u001b[0m\u001b[0;34m(\u001b[0m\u001b[0mb\u001b[0m\u001b[0;34m)\u001b[0m\u001b[0;34m.\u001b[0m\u001b[0msum\u001b[0m\u001b[0;34m(\u001b[0m\u001b[0;34m)\u001b[0m\u001b[0;34m)\u001b[0m\u001b[0;34m/\u001b[0m\u001b[0mm\u001b[0m\u001b[0;34m\u001b[0m\u001b[0m\n\u001b[1;32m    114\u001b[0m         \u001b[0mcost\u001b[0m \u001b[0;34m=\u001b[0m \u001b[0;34m-\u001b[0m\u001b[0;36m1\u001b[0m \u001b[0;34m/\u001b[0m \u001b[0mm\u001b[0m \u001b[0;34m*\u001b[0m \u001b[0mnp\u001b[0m\u001b[0;34m.\u001b[0m\u001b[0msum\u001b[0m\u001b[0;34m(\u001b[0m\u001b[0mY\u001b[0m \u001b[0;34m*\u001b[0m \u001b[0mnp\u001b[0m\u001b[0;34m.\u001b[0m\u001b[0mlog\u001b[0m\u001b[0;34m(\u001b[0m\u001b[0mA\u001b[0m\u001b[0;34m)\u001b[0m \u001b[0;34m+\u001b[0m \u001b[0;34m(\u001b[0m\u001b[0;36m1\u001b[0m \u001b[0;34m-\u001b[0m \u001b[0mY\u001b[0m\u001b[0;34m)\u001b[0m \u001b[0;34m*\u001b[0m \u001b[0mnp\u001b[0m\u001b[0;34m.\u001b[0m\u001b[0mlog\u001b[0m\u001b[0;34m(\u001b[0m\u001b[0;36m1\u001b[0m \u001b[0;34m-\u001b[0m \u001b[0mA\u001b[0m\u001b[0;34m)\u001b[0m\u001b[0;34m)\u001b[0m \u001b[0;34m+\u001b[0m \u001b[0ml2\u001b[0m\u001b[0;34m\u001b[0m\u001b[0m\n",
      "\u001b[0;32m~/asc19/wyf/0code/pyml/linear_model/classification.py\u001b[0m in \u001b[0;36mpropagate\u001b[0;34m(self, w, b, X, Y)\u001b[0m\n\u001b[1;32m     61\u001b[0m         self.information = {\n\u001b[1;32m     62\u001b[0m             \u001b[0;34m'test_loss'\u001b[0m \u001b[0;34m:\u001b[0m \u001b[0;34m[\u001b[0m\u001b[0;34m]\u001b[0m\u001b[0;34m,\u001b[0m\u001b[0;34m\u001b[0m\u001b[0m\n\u001b[0;32m---> 63\u001b[0;31m             \u001b[0;34m'train_loss'\u001b[0m \u001b[0;34m:\u001b[0m \u001b[0;34m[\u001b[0m\u001b[0;34m]\u001b[0m\u001b[0;34m,\u001b[0m\u001b[0;34m\u001b[0m\u001b[0m\n\u001b[0m\u001b[1;32m     64\u001b[0m             \u001b[0;34m'cost'\u001b[0m \u001b[0;34m:\u001b[0m \u001b[0;34m[\u001b[0m\u001b[0;34m]\u001b[0m\u001b[0;34m\u001b[0m\u001b[0m\n\u001b[1;32m     65\u001b[0m         }\n",
      "\u001b[0;31mKeyboardInterrupt\u001b[0m: "
     ]
    }
   ],
   "source": [
    "learning_rate_range = [0.15, 0.2]\n",
    "num_iteration = 2000\n",
    "mini_batch = 0\n",
    "n_splits = 1\n",
    "ms = ShuffleSplit(n_splits=n_splits,test_size=0.2)\n",
    "models_3 = []\n",
    "for i,learning_rate in enumerate(learning_rate_range):\n",
    "    for train_indices, test_indices in ms.split(train_X):\n",
    "        clf = LogisticClassifier(learning_rate=learning_rate, num_iterations=num_iteration, mini_batch=mini_batch)\n",
    "        clf.fit_and_valid(train_X[train_indices], train_Y[train_indices], train_X[test_indices], train_Y[test_indices])\n",
    "        y_pred = clf.predict(train_X[test_indices])\n",
    "        score = precision_score(train_Y[test_indices], y_pred)\n",
    "        print('i : {} score: {}'.format(i, score))\n",
    "        models_3.append(clf)"
   ]
  },
  {
   "cell_type": "code",
   "execution_count": null,
   "metadata": {},
   "outputs": [],
   "source": []
  }
 ],
 "metadata": {
  "kernelspec": {
   "display_name": "Python 3",
   "language": "python",
   "name": "python3"
  },
  "language_info": {
   "codemirror_mode": {
    "name": "ipython",
    "version": 3
   },
   "file_extension": ".py",
   "mimetype": "text/x-python",
   "name": "python",
   "nbconvert_exporter": "python",
   "pygments_lexer": "ipython3",
   "version": "3.6.5"
  }
 },
 "nbformat": 4,
 "nbformat_minor": 2
}
