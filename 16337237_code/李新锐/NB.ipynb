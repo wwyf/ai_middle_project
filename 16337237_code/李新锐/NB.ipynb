{
 "cells": [
  {
   "cell_type": "code",
   "execution_count": 4,
   "metadata": {
    "ExecuteTime": {
     "end_time": "2018-10-20T15:27:57.784086Z",
     "start_time": "2018-10-20T15:27:57.782204Z"
    }
   },
   "outputs": [],
   "source": [
    "from ai_base import *"
   ]
  },
  {
   "cell_type": "code",
   "execution_count": 5,
   "metadata": {
    "ExecuteTime": {
     "end_time": "2018-10-20T15:27:58.364550Z",
     "start_time": "2018-10-20T15:27:58.357851Z"
    }
   },
   "outputs": [],
   "source": [
    "from collections import OrderedDict\n",
    "from typing import List, Tuple\n",
    "\n",
    "def _getOneHot(fdata: List[List], word_dict: OrderedDict) -> np.array:\n",
    "    D = len(fdata)\n",
    "    if len(word_dict) is 0:\n",
    "        for row in fdata:\n",
    "            for word in row:\n",
    "                if not word in word_dict:\n",
    "                    word_dict[word] = 1\n",
    "        word_dict[None] = 0\n",
    "    else:\n",
    "        word_dict = dict(zip(word_dict.keys(), [0 for _ in word_dict.values()]))\n",
    "        for row in fdata:\n",
    "            for word in row:\n",
    "                if word in word_dict:\n",
    "                    word_dict[word] = 1\n",
    "                else:\n",
    "                    word_dict[None] = 1\n",
    "    word_vec = word_dict.keys()\n",
    "    word_order = dict(zip(word_vec,range(len(word_vec))))\n",
    "    oneHot = np.zeros((D,len(word_dict)), dtype=np.int8)\n",
    "    for i,row in enumerate(fdata):\n",
    "        for word in row:\n",
    "            if word in word_order:\n",
    "                oneHot[i][word_order[word]] = 1\n",
    "            else:\n",
    "                oneHot[i][word_order[None]] = 1\n",
    "    return oneHot\n",
    "def OneHot(trainData: List[List], testData: List[List], savePath=\"\")-> Tuple[np.array, np.array]:\n",
    "    wdict = OrderedDict()\n",
    "    trainX = _getOneHot(trainData, wdict)\n",
    "    testX = _getOneHot(testData, wdict)\n",
    "    if savePath != \"-1\":\n",
    "        List2CSV(savePath + \"onehot\" + \"TrainSet\" + str(len(wdict)) + \"D\" + str(len(trainData)) + \"L.csv\", trainX)\n",
    "        List2CSV(savePath + \"onehot\" + \"TestSet\" + str(len(wdict)) + \"D\" + str(len(testData)) + \"L.csv\", testData)\n",
    "    return trainX, testX\n"
   ]
  },
  {
   "cell_type": "code",
   "execution_count": 3,
   "metadata": {
    "ExecuteTime": {
     "end_time": "2018-10-20T14:04:45.603250Z",
     "start_time": "2018-10-20T14:04:44.974871Z"
    }
   },
   "outputs": [],
   "source": [
    "trainData = CSV2List2('data/2/clean/trainDataclean.csv')\n",
    "testData = CSV2List2('data/2/clean/testDataclean.csv')"
   ]
  },
  {
   "cell_type": "code",
   "execution_count": 4,
   "metadata": {
    "ExecuteTime": {
     "end_time": "2018-10-20T14:04:51.613887Z",
     "start_time": "2018-10-20T14:04:49.723909Z"
    }
   },
   "outputs": [],
   "source": [
    "X, _ = OneHot(trainData, testData, \"-1\")"
   ]
  },
  {
   "cell_type": "code",
   "execution_count": null,
   "metadata": {},
   "outputs": [],
   "source": []
  },
  {
   "cell_type": "code",
   "execution_count": null,
   "metadata": {},
   "outputs": [],
   "source": []
  },
  {
   "cell_type": "code",
   "execution_count": 6,
   "metadata": {
    "ExecuteTime": {
     "end_time": "2018-10-20T15:28:02.582548Z",
     "start_time": "2018-10-20T15:28:02.549370Z"
    }
   },
   "outputs": [
    {
     "ename": "NameError",
     "evalue": "name 'X' is not defined",
     "output_type": "error",
     "traceback": [
      "\u001b[0;31m---------------------------------------------------------------------------\u001b[0m",
      "\u001b[0;31mNameError\u001b[0m                                 Traceback (most recent call last)",
      "\u001b[0;32m<ipython-input-6-178e94407aea>\u001b[0m in \u001b[0;36m<module>\u001b[0;34m()\u001b[0m\n\u001b[1;32m      2\u001b[0m \u001b[0mY\u001b[0m \u001b[0;34m=\u001b[0m \u001b[0mnp\u001b[0m\u001b[0;34m.\u001b[0m\u001b[0muint8\u001b[0m\u001b[0;34m(\u001b[0m\u001b[0mCSV2List2\u001b[0m\u001b[0;34m(\u001b[0m\u001b[0;34m'data/2/clean/trainLabel.txt'\u001b[0m\u001b[0;34m)\u001b[0m\u001b[0;34m)\u001b[0m\u001b[0;34m\u001b[0m\u001b[0m\n\u001b[1;32m      3\u001b[0m \u001b[0;31m#数据集\u001b[0m\u001b[0;34m\u001b[0m\u001b[0;34m\u001b[0m\u001b[0m\n\u001b[0;32m----> 4\u001b[0;31m \u001b[0mD\u001b[0m \u001b[0;34m=\u001b[0m \u001b[0mnp\u001b[0m\u001b[0;34m.\u001b[0m\u001b[0mc_\u001b[0m\u001b[0;34m[\u001b[0m\u001b[0mX\u001b[0m\u001b[0;34m,\u001b[0m \u001b[0mY\u001b[0m\u001b[0;34m]\u001b[0m\u001b[0;34m\u001b[0m\u001b[0m\n\u001b[0m\u001b[1;32m      5\u001b[0m \u001b[0;34m\u001b[0m\u001b[0m\n\u001b[1;32m      6\u001b[0m \u001b[0mD\u001b[0m \u001b[0;34m=\u001b[0m \u001b[0mnp\u001b[0m\u001b[0;34m.\u001b[0m\u001b[0mfloat32\u001b[0m\u001b[0;34m(\u001b[0m\u001b[0mCSV2List2\u001b[0m\u001b[0;34m(\u001b[0m\u001b[0;34m'pima-indians-diabetes.csv'\u001b[0m\u001b[0;34m)\u001b[0m\u001b[0;34m)\u001b[0m\u001b[0;34m\u001b[0m\u001b[0m\n",
      "\u001b[0;31mNameError\u001b[0m: name 'X' is not defined"
     ]
    }
   ],
   "source": [
    "X = np.float64(CSV2List2('doc2vecTrainSet50D24000L.csv'))\n",
    "Y = np.uint8(CSV2List2('data/2/clean/trainLabel.txt'))\n",
    "#数据集\n",
    "D = np.c_[X, Y]\n"
   ]
  },
  {
   "cell_type": "code",
   "execution_count": 52,
   "metadata": {
    "ExecuteTime": {
     "end_time": "2018-10-20T16:39:38.187261Z",
     "start_time": "2018-10-20T16:39:38.180094Z"
    }
   },
   "outputs": [],
   "source": [
    "## D_parted[k] 对应分类为k的样本集\n",
    "D_parted = list(range(K))\n",
    "for k in range(2):\n",
    "    ## 通过filter函数筛选\n",
    "    D_parted[k] = np.array(list(filter(lambda v: v[-1] == k, D)))\n",
    "    ## 计算先验概率\n",
    "    P_Y[k] = len(D_parted[k]) / len(D)"
   ]
  },
  {
   "cell_type": "code",
   "execution_count": 53,
   "metadata": {
    "ExecuteTime": {
     "end_time": "2018-10-20T16:39:39.180195Z",
     "start_time": "2018-10-20T16:39:39.175597Z"
    }
   },
   "outputs": [
    {
     "data": {
      "text/plain": [
       "array([[0.65104167],\n",
       "       [0.34895833]])"
      ]
     },
     "execution_count": 53,
     "metadata": {},
     "output_type": "execute_result"
    }
   ],
   "source": [
    "P_Y"
   ]
  },
  {
   "cell_type": "code",
   "execution_count": 54,
   "metadata": {
    "ExecuteTime": {
     "end_time": "2018-10-20T16:39:41.427129Z",
     "start_time": "2018-10-20T16:39:41.421841Z"
    }
   },
   "outputs": [],
   "source": [
    "## 定义高斯分布类\n",
    "class Guass:\n",
    "    # 均值\n",
    "    mean  = 0\n",
    "    #标准差\n",
    "    stdev = 0\n",
    "    def __init__(self, stats):\n",
    "        self.mean, self.stdev = stats\n",
    "    # 计算x处的概率\n",
    "    def P(self, x):\n",
    "        t1 = np.exp(-(np.power(x-self.mean,2)/(2*np.power(self.stdev,2))))\n",
    "        return (1 / (np.sqrt(2*np.pi) * self.stdev)) * t1"
   ]
  },
  {
   "cell_type": "code",
   "execution_count": 55,
   "metadata": {
    "ExecuteTime": {
     "end_time": "2018-10-20T16:39:42.873134Z",
     "start_time": "2018-10-20T16:39:42.869402Z"
    }
   },
   "outputs": [],
   "source": [
    "guass = list(range(K))\n",
    "for k in range(K):\n",
    "    # 统计每一维度特征在K种类别上的均值和方差，并依此构造高斯分布\n",
    "    guass[k] = [Guass((np.mean(attr), np.std(attr))) for attr in zip(*D_parted[k])]\n",
    "    del guass[k][-1]"
   ]
  },
  {
   "cell_type": "code",
   "execution_count": 18,
   "metadata": {
    "ExecuteTime": {
     "end_time": "2018-10-20T14:29:45.161468Z",
     "start_time": "2018-10-20T14:25:42.645873Z"
    }
   },
   "outputs": [
    {
     "data": {
      "application/vnd.jupyter.widget-view+json": {
       "model_id": "b396cfe5e0914c75a9fa518f162c3bc6",
       "version_major": 2,
       "version_minor": 0
      },
      "text/plain": [
       "HBox(children=(IntProgress(value=1, bar_style='info', max=1), HTML(value='')))"
      ]
     },
     "metadata": {},
     "output_type": "display_data"
    },
    {
     "name": "stdout",
     "output_type": "stream",
     "text": [
      "\n"
     ]
    },
    {
     "data": {
      "application/vnd.jupyter.widget-view+json": {
       "model_id": "a8b97269c36a460abd9aba9af957eaa9",
       "version_major": 2,
       "version_minor": 0
      },
      "text/plain": [
       "HBox(children=(IntProgress(value=1, bar_style='info', max=1), HTML(value='')))"
      ]
     },
     "metadata": {},
     "output_type": "display_data"
    },
    {
     "name": "stdout",
     "output_type": "stream",
     "text": [
      "\n"
     ]
    }
   ],
   "source": [
    "\n",
    "onehotPXY = list(range(K))\n",
    "for k in range(K):\n",
    "    l = list(range(len(X[0]) + 1))\n",
    "    z = zip(*D_parted[k])\n",
    "    for i, attr in enumerate(tqdm_notebook(z)):\n",
    "        l[i] = (1-(sum(attr)+1)/(len(D_parted[k])+2), (sum(attr)+1)/(len(D_parted[k])))\n",
    "    del l[-1]\n",
    "    onehotPXY[k] = l\n",
    "        "
   ]
  },
  {
   "cell_type": "code",
   "execution_count": 30,
   "metadata": {
    "ExecuteTime": {
     "end_time": "2018-10-20T14:37:15.947344Z",
     "start_time": "2018-10-20T14:37:15.734598Z"
    }
   },
   "outputs": [],
   "source": [
    "List2CSV(\"NB_onehotPXY.csv\", onehotPXY)"
   ]
  },
  {
   "cell_type": "code",
   "execution_count": 56,
   "metadata": {
    "ExecuteTime": {
     "end_time": "2018-10-20T16:40:04.544547Z",
     "start_time": "2018-10-20T16:40:04.539897Z"
    }
   },
   "outputs": [],
   "source": [
    "def split(s, t, X, Y):\n",
    "    piece = int(N / s)\n",
    "    vaildX = []\n",
    "    vaildY = []\n",
    "    if t == s - 1:\n",
    "        vaildX = X[t * piece:]\n",
    "        vaildY = Y[t * piece:]\n",
    "    else:\n",
    "        vaildX = X[t * piece: (t+1) * piece]\n",
    "        vaildY = Y[t * piece: (t+1) * piece]\n",
    "    return vaildX, vaildY"
   ]
  },
  {
   "cell_type": "code",
   "execution_count": null,
   "metadata": {},
   "outputs": [],
   "source": [
    "import random\n",
    "def splitDataset(dataset, splitRatio):\n",
    "\ttrainSize = int(len(dataset) * splitRatio)\n",
    "\ttrainSet = []\n",
    "\tcopy = list(dataset)\n",
    "\twhile len(trainSet) < trainSize:\n",
    "\t\tindex = random.randrange(len(copy))\n",
    "\t\ttrainSet.append(copy.pop(index))\n",
    "\treturn [trainSet, copy]\n",
    "splitRatio = 0.67\n",
    "train, test = splitDataset(dataset, splitRatio)"
   ]
  },
  {
   "cell_type": "code",
   "execution_count": 57,
   "metadata": {
    "ExecuteTime": {
     "end_time": "2018-10-20T16:41:19.358276Z",
     "start_time": "2018-10-20T16:41:19.349949Z"
    }
   },
   "outputs": [],
   "source": [
    "def predict(X):\n",
    "    _PY = deepcopy(P_Y)\n",
    "    for k in range(K):\n",
    "        for i in range(M):\n",
    "            ret = np.log(guass[k][i].P(X[i]))\n",
    "            _PY[k] += ret\n",
    "    return np.argmax(_PY)"
   ]
  },
  {
   "cell_type": "code",
   "execution_count": 20,
   "metadata": {
    "ExecuteTime": {
     "end_time": "2018-10-20T14:29:58.031512Z",
     "start_time": "2018-10-20T14:29:58.029645Z"
    }
   },
   "outputs": [],
   "source": [
    "def onehot_predict(X):\n",
    "    _PY = deepcopy(P_Y)\n",
    "    for k in range(K):\n",
    "        for i in range(M):\n",
    "            if X[i] == 1:\n",
    "                ret = np.log(onehotPXY[k][i][X[i]])\n",
    "                _PY[k] += ret\n",
    "    return np.argmax(_PY)"
   ]
  },
  {
   "cell_type": "code",
   "execution_count": 28,
   "metadata": {
    "ExecuteTime": {
     "end_time": "2018-10-20T14:32:06.434624Z",
     "start_time": "2018-10-20T14:32:06.429769Z"
    }
   },
   "outputs": [],
   "source": [
    "import os\n",
    "def onehot_predicts(Xs):\n",
    "    print('Run task (%s)...' % (os.getpid()))\n",
    "    return [onehot_predict(X) for X in Xs]"
   ]
  },
  {
   "cell_type": "code",
   "execution_count": null,
   "metadata": {},
   "outputs": [],
   "source": []
  },
  {
   "cell_type": "code",
   "execution_count": 59,
   "metadata": {
    "ExecuteTime": {
     "end_time": "2018-10-20T16:42:14.940185Z",
     "start_time": "2018-10-20T16:42:14.932122Z"
    }
   },
   "outputs": [
    {
     "ename": "NameError",
     "evalue": "name 'onehot_predicts' is not defined",
     "output_type": "error",
     "traceback": [
      "\u001b[0;31m---------------------------------------------------------------------------\u001b[0m",
      "\u001b[0;31mNameError\u001b[0m                                 Traceback (most recent call last)",
      "\u001b[0;32m<ipython-input-59-4c34bccaf87a>\u001b[0m in \u001b[0;36m<module>\u001b[0;34m()\u001b[0m\n\u001b[1;32m      8\u001b[0m \u001b[0;31m#         for i in tnrange(len(predictY)):\u001b[0m\u001b[0;34m\u001b[0m\u001b[0;34m\u001b[0m\u001b[0m\n\u001b[1;32m      9\u001b[0m \u001b[0;31m#             predictY[i] = onehot_predict(vaildX[i], P_Y)\u001b[0m\u001b[0;34m\u001b[0m\u001b[0;34m\u001b[0m\u001b[0m\n\u001b[0;32m---> 10\u001b[0;31m         \u001b[0mlist_multiprocess\u001b[0m\u001b[0;34m(\u001b[0m\u001b[0mvaildX\u001b[0m\u001b[0;34m,\u001b[0m \u001b[0monehot_predicts\u001b[0m\u001b[0;34m,\u001b[0m \u001b[0;36m12\u001b[0m\u001b[0;34m)\u001b[0m\u001b[0;34m\u001b[0m\u001b[0m\n\u001b[0m\u001b[1;32m     11\u001b[0m         \u001b[0mcorrect\u001b[0m \u001b[0;34m=\u001b[0m \u001b[0;36m0\u001b[0m\u001b[0;34m\u001b[0m\u001b[0m\n\u001b[1;32m     12\u001b[0m         \u001b[0;32mfor\u001b[0m \u001b[0mi\u001b[0m \u001b[0;32min\u001b[0m \u001b[0mrange\u001b[0m\u001b[0;34m(\u001b[0m\u001b[0mlen\u001b[0m\u001b[0;34m(\u001b[0m\u001b[0mpredictY\u001b[0m\u001b[0;34m)\u001b[0m\u001b[0;34m)\u001b[0m\u001b[0;34m:\u001b[0m\u001b[0;34m\u001b[0m\u001b[0m\n",
      "\u001b[0;31mNameError\u001b[0m: name 'onehot_predicts' is not defined"
     ]
    }
   ],
   "source": [
    "from tqdm import tnrange\n",
    "from copy import deepcopy\n",
    "for s in range(5, 6):\n",
    "    acc = 0\n",
    "    for t in range(1):\n",
    "        vaildX, vaildY = split(s, t, X, Y)\n",
    "        predictY = np.zeros_like(vaildY)\n",
    "        list_multiprocess(vaildX, onehot_predicts, 12)\n",
    "        correct = 0\n",
    "        for i in range(len(predictY)):\n",
    "            if(predictY[i] == vaildY[i]):\n",
    "                correct += 1\n",
    "        acc += correct / len(predictY)\n",
    "    print(s, acc / s)"
   ]
  },
  {
   "cell_type": "code",
   "execution_count": 68,
   "metadata": {
    "ExecuteTime": {
     "end_time": "2018-10-20T16:46:31.058992Z",
     "start_time": "2018-10-20T16:46:30.873633Z"
    }
   },
   "outputs": [
    {
     "data": {
      "application/vnd.jupyter.widget-view+json": {
       "model_id": "3b585a26531149158ac9400be8e9de22",
       "version_major": 2,
       "version_minor": 0
      },
      "text/plain": [
       "HBox(children=(IntProgress(value=0, max=153), HTML(value='')))"
      ]
     },
     "metadata": {},
     "output_type": "display_data"
    },
    {
     "name": "stdout",
     "output_type": "stream",
     "text": [
      "\n"
     ]
    },
    {
     "data": {
      "application/vnd.jupyter.widget-view+json": {
       "model_id": "24dac27998a14832a98a9ba29c431617",
       "version_major": 2,
       "version_minor": 0
      },
      "text/plain": [
       "HBox(children=(IntProgress(value=0, max=153), HTML(value='')))"
      ]
     },
     "metadata": {},
     "output_type": "display_data"
    },
    {
     "name": "stdout",
     "output_type": "stream",
     "text": [
      "\n"
     ]
    },
    {
     "data": {
      "application/vnd.jupyter.widget-view+json": {
       "model_id": "ef9cb02c8928401aaed2c588f7651f81",
       "version_major": 2,
       "version_minor": 0
      },
      "text/plain": [
       "HBox(children=(IntProgress(value=0, max=153), HTML(value='')))"
      ]
     },
     "metadata": {},
     "output_type": "display_data"
    },
    {
     "name": "stdout",
     "output_type": "stream",
     "text": [
      "\n"
     ]
    },
    {
     "data": {
      "application/vnd.jupyter.widget-view+json": {
       "model_id": "1fa8ceb6f67543e682c3abd4a0fd127d",
       "version_major": 2,
       "version_minor": 0
      },
      "text/plain": [
       "HBox(children=(IntProgress(value=0, max=153), HTML(value='')))"
      ]
     },
     "metadata": {},
     "output_type": "display_data"
    },
    {
     "name": "stdout",
     "output_type": "stream",
     "text": [
      "\n"
     ]
    },
    {
     "data": {
      "application/vnd.jupyter.widget-view+json": {
       "model_id": "7a67d3a31e614568842bb1c5727610e1",
       "version_major": 2,
       "version_minor": 0
      },
      "text/plain": [
       "HBox(children=(IntProgress(value=0, max=156), HTML(value='')))"
      ]
     },
     "metadata": {},
     "output_type": "display_data"
    },
    {
     "name": "stdout",
     "output_type": "stream",
     "text": [
      "\n",
      "5 0.7512317747611865\n"
     ]
    }
   ],
   "source": [
    "from tqdm import tnrange\n",
    "from copy import deepcopy\n",
    "for s in range(5, 6):\n",
    "    acc = 0\n",
    "    for t in range(s):\n",
    "        vaildX, vaildY = split(s, t, X, Y)\n",
    "        predictY = np.zeros_like(vaildY)\n",
    "        for i in tnrange(len(predictY)):\n",
    "            predictY[i] = predict(vaildX[i])\n",
    "        correct = 0\n",
    "        for i in range(len(predictY)):\n",
    "            if(predictY[i] == vaildY[i]):\n",
    "                correct += 1\n",
    "        acc += correct / len(predictY)\n",
    "    print(s, acc / s)"
   ]
  },
  {
   "cell_type": "code",
   "execution_count": null,
   "metadata": {},
   "outputs": [],
   "source": []
  }
 ],
 "metadata": {
  "kernelspec": {
   "display_name": "Python 3",
   "language": "python",
   "name": "python3"
  },
  "language_info": {
   "codemirror_mode": {
    "name": "ipython",
    "version": 3
   },
   "file_extension": ".py",
   "mimetype": "text/x-python",
   "name": "python",
   "nbconvert_exporter": "python",
   "pygments_lexer": "ipython3",
   "version": "3.7.0"
  },
  "varInspector": {
   "cols": {
    "lenName": 16,
    "lenType": 16,
    "lenVar": 40
   },
   "kernels_config": {
    "python": {
     "delete_cmd_postfix": "",
     "delete_cmd_prefix": "del ",
     "library": "var_list.py",
     "varRefreshCmd": "print(var_dic_list())"
    },
    "r": {
     "delete_cmd_postfix": ") ",
     "delete_cmd_prefix": "rm(",
     "library": "var_list.r",
     "varRefreshCmd": "cat(var_dic_list()) "
    }
   },
   "oldHeight": 0,
   "position": {
    "height": "261px",
    "left": "359px",
    "right": "20px",
    "top": "-5px",
    "width": "288px"
   },
   "types_to_exclude": [
    "module",
    "function",
    "builtin_function_or_method",
    "instance",
    "_Feature"
   ],
   "varInspector_section_display": "none",
   "window_display": false
  }
 },
 "nbformat": 4,
 "nbformat_minor": 2
}
