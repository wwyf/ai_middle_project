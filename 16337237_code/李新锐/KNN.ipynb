{
 "cells": [
  {
   "cell_type": "code",
   "execution_count": 4,
   "metadata": {
    "ExecuteTime": {
     "end_time": "2018-10-21T12:32:08.538043Z",
     "start_time": "2018-10-21T12:32:07.821382Z"
    }
   },
   "outputs": [],
   "source": [
    "from ai_base import List2CSV, CSV2List2\n",
    "from typing import List, Tuple\n",
    "import csv\n",
    "import numpy as np\n",
    "trainX = np.float_(CSV2List2('doc2vecTrainSet50D24000L.csv'))\n",
    "trainYData = CSV2List2('data/2/clean/trainLabel.txt')\n",
    "testData = np.float_(CSV2List2('doc2vecTestSet50D6000L.csv'))\n",
    "KNNtrainX = np.array(trainX[0:20000])\n",
    "KNNvaildX = np.array(trainX[20000:24000])\n",
    "KNNtrainY = np.array(np.float_(trainYData[0:20000]))\n",
    "KNNvaildY = np.array(np.float_(trainYData[20000:24000]))\n"
   ]
  },
  {
   "cell_type": "code",
   "execution_count": 5,
   "metadata": {
    "ExecuteTime": {
     "end_time": "2018-10-21T12:32:11.394327Z",
     "start_time": "2018-10-21T12:32:11.382049Z"
    }
   },
   "outputs": [],
   "source": [
    "import ai_base\n",
    "import numpy as np\n",
    "from typing import List, Tuple, Callable\n",
    "from tqdm import tnrange, tqdm_notebook\n",
    "from scipy.stats.stats import pearsonr\n",
    "from time import time\n",
    "from collections import OrderedDict\n",
    "\n",
    "# 一范数\n",
    "Dis1 = lambda v1, v2: np.linalg.norm(v1 - v2, 1)\n",
    "# 二范数\n",
    "Dis2 = lambda v1, v2: np.linalg.norm(v1 - v2, 2)\n",
    "# 无穷范数\n",
    "DisInf = lambda v1, v2: np.linalg.norm(v1 - v2, np.inf)\n",
    "# 余弦距离（1-余弦相关度）\n",
    "def DisCosine(v1, v2):\n",
    "    t1 = np.dot(v1,v2)\n",
    "    t2 = np.linalg.norm(v1)\n",
    "    t3 = np.linalg.norm(v2)\n",
    "    ret = 1 - t1 / (t2*t3)\n",
    "    return ret\n",
    "    \n",
    "def DisInvNormAvg(distances: np.array, Y: np.array) -> np.array:\n",
    "    '''\n",
    "    按照归一化的距离倒数加权求和，返回均值\n",
    "    '''\n",
    "    # 如果训练集中有向量距离和待预测向量完全一致（距离为0）\n",
    "    for idx, dis in enumerate(distances):\n",
    "        if np.isclose(dis, 0):\n",
    "            # 则直接返回该训练集向量对应的Y\n",
    "            return Y[idx]\n",
    "    # 求距离的倒数\n",
    "    distances = np.array(1.0) / distances\n",
    "    # 归一化\n",
    "    s = np.sum(distances)\n",
    "    distances = distances / s\n",
    "    # 分别作为权值乘以K个最邻近的训练集向量对应的Y\n",
    "    tmp = np.diag(distances) @ Y  \n",
    "    # 加权后Y的个分量求和\n",
    "    if len(tmp.shape) is 1:\n",
    "        return np.array([tmp])\n",
    "    else:\n",
    "        return np.sum(tmp,  axis = (0))\n",
    "\n",
    "def classifyParseY(ydata: List[str], n: int)->np.array:\n",
    "    '''\n",
    "    Convert Y data from raw string list to matrix consisted of Y vectors\n",
    "    e.g.\n",
    "    [\"anger\", \"disgust\", ..., \"surprise\"] -> \n",
    "    |1, 0, 0, 0, 0, 0|\n",
    "    |0, 1, 0, 0, 0, 0|\n",
    "    |0, 0, ...,  0, 0|\n",
    "    |0, 0, 0, 0, 1, 0|\n",
    "    |0, 0, 0, 0, 0, 1|\n",
    "    '''\n",
    "    D = len(ydata)\n",
    "    \n",
    "    #fast hash ydata from strings [\"anger\", \"disgust\", ...] to [1, 2, ...]^T\n",
    "    #ydata = np.array(ydata).reshape((-1,1))\n",
    "    \n",
    "    '''\n",
    "    ymat is the column-wise repeat of ydata.\n",
    "    e.g.\n",
    "    |0|      |0, 0, 0, 0, 0, 0|\n",
    "    |1|   -> |1, 1, 1, 1, 1, 1|\n",
    "    ...      |................|\n",
    "    |5|      |5, 5, 5, 5, 5, 5|\n",
    "    ydata -> ymat\n",
    "    '''\n",
    "    ymat  = np.tile(ydata, (1, n))\n",
    "    \n",
    "    '''\n",
    "    ycmp is a matrix of which each row is [0, 1, 2, 3, 4, 5]\n",
    "    |0, 1, 2, 3, 4, 5|\n",
    "    |0, 1, 2, 3, 4, 5|\n",
    "    |................|\n",
    "    |0, 1, 2, 3, 4, 5|\n",
    "    '''\n",
    "    ycmp  = np.tile(np.array(range(n)), (D, 1))\n",
    "    return np.int_(np.equal(ymat, ycmp))\n",
    "def KNN_old(trainSet: Tuple[np.array, np.array],\n",
    "        testVec: np.array,\n",
    "        DisFunc: Callable[[np.array, np.array], float],\n",
    "        K: int,\n",
    "        WeightFunc: Callable[[np.array, np.array], float]) -> np.array: \n",
    "    '''\n",
    "    一个通用的KNN接口\n",
    "    trainSet: 二元元组，第一个元素是训练集的X，第二个是Y\n",
    "    testVec: 待预测向量\n",
    "    DisFunc: 距离函数\n",
    "    K: K值\n",
    "    WeightFunc: 依据第一个参数list<距离>,对第二个参数list<Y值>进行加权，返回预测值\n",
    "    '''\n",
    "    #对于多个要预测的值，逐一预测\n",
    "    if len(testVec.shape) > 1:\n",
    "        return np.array([KNN(trainSet, vec, DisFunc, K, WeightFunc) for vec in testVec])\n",
    "    else:\n",
    "        #测量待预测向量到训练集中每个向量的距离\n",
    "        #distances是一个list<tuple(index, distance)>\n",
    "        distances = list(enumerate(map(lambda trainVec: DisFunc(trainVec, testVec), trainSet[0])))\n",
    "        #依据距离从小到大排序\n",
    "        distances.sort(key=lambda t: t[1])\n",
    "        #获取最临近的K个训练样本的下标和对应的距离，输出值\n",
    "        tmp = list(zip(*distances[:K]))\n",
    "        kNearIdx = list(tmp[0])\n",
    "        kNearDis = list(tmp[1])\n",
    "        kNearY   = trainSet[1][kNearIdx, :]\n",
    "        #对输出值根据距离加权作为预测输出\n",
    "        return WeightFunc(kNearDis, kNearY)\n",
    "    \n",
    "def KNN(trainSet: Tuple[np.array, np.array],\n",
    "        testVec: np.array,\n",
    "        DisFunc: Callable[[np.array, np.array], float],\n",
    "        K: int,\n",
    "        WeightFunc: Callable[[np.array, np.array], float]) -> np.array: \n",
    "    '''\n",
    "    一个通用的KNN接口\n",
    "    trainSet: 二元元组，第一个元素是训练集的X，第二个是Y\n",
    "    testVec: 待预测向量\n",
    "    DisFunc: 距离函数\n",
    "    K: K值\n",
    "    WeightFunc: 依据第一个参数list<距离>,对第二个参数list<Y值>进行加权，返回预测值\n",
    "    '''\n",
    "    #对于多个要预测的值，逐一预测\n",
    "#     if len(testVec.shape) > 1:\n",
    "#         n = len(testVec)\n",
    "#         ret = list(range(n))\n",
    "#         for i in tnrange(n):\n",
    "#             ret[i] = KNN(trainSet, testVec[i], DisFunc, K, WeightFunc)\n",
    "#         return np.array(ret)\n",
    "#     else:\n",
    "        #测量待预测向量到训练集中每个向量的距离\n",
    "        #distances是一个list<tuple(index, distance)>\n",
    "        \n",
    "#     distances = list(enumerate(map(lambda trainVec: DisFunc(trainVec, testVec), trainSet[0])))\n",
    "    \n",
    "    trainSum = np.sum(np.square(trainSet[0]), axis=1)\n",
    "    testSum = np.sum(np.square(testVec), axis=1) \n",
    "    t0 = np.dot(testVec, trainSet[0].T)\n",
    "    dists = np.sqrt(-2 * t0 + testSum.reshape(-1, 1)+ trainSum)\n",
    "    n = len(testVec)\n",
    "    ret = list(range(n))\n",
    "    for i in tnrange(n):\n",
    "        distances = list(enumerate(dists[i]))\n",
    "        #依据距离从小到大排序\n",
    "        distances.sort(key=lambda t: t[1])\n",
    "        #获取最临近的K个训练样本的下标和对应的距离，输出值\n",
    "        tmp = list(zip(*distances[:K]))\n",
    "        kNearIdx = list(tmp[0])\n",
    "        kNearDis = list(tmp[1])\n",
    "        kNearY   = trainSet[1][kNearIdx, :]\n",
    "        #对输出值根据距离加权作为预测输出\n",
    "        ret[i] = WeightFunc(kNearDis, kNearY)\n",
    "    return np.array(ret)\n",
    "\n",
    "def get_regress(predictY, vaildY):\n",
    "    r = [pearsonr(predictY[:, i], vaildY[:, i])[0] for i in range(vaildY.shape[1])]\n",
    "    average = np.average(r)\n",
    "    print(\"Correlation Coefficient: \", average)\n",
    "    return average\n",
    "\n",
    "def get_classify(predictY, vaildY):\n",
    "    classifyY = np.zeros_like(predictY)\n",
    "#     for i, row in enumerate(predictY):\n",
    "#         m = 0\n",
    "#         idx = 0\n",
    "#         for j, v in enumerate(row):\n",
    "#             if v > m:\n",
    "#                 m = v\n",
    "#                 idx = j\n",
    "#         classifyY[i][idx] = 1\n",
    "    for i in range(len(predictY)):\n",
    "        if predictY[i][0] > 0.5:\n",
    "            classifyY[i][0] = 1\n",
    "        else:\n",
    "            classifyY[i][0] = 0\n",
    "    ret = np.sum(np.logical_and(classifyY, vaildY)) / vaildY.shape[0]\n",
    "    print(\"Classification Accuracy: \", ret)\n",
    "    return ret\n",
    "\n",
    "def autoTrain(trainSet: Tuple, vaildSet:Tuple):\n",
    "    trainX, trainY = trainSet\n",
    "    vaildX, vaildY = vaildSet\n",
    "    print(\"Start training...\")\n",
    "    t = time()\n",
    "    K_val = range(1, 20)\n",
    "#     DisFuncs = {\"Dis1\": Dis1, \"Dis2\": Dis2, \"DisInf\": DisInf, \"DisCosine\": DisCosine}\n",
    "    DisFuncs = {\"Dis2\": Dis2}\n",
    "    results_reg = OrderedDict()\n",
    "    results_cla = OrderedDict()\n",
    "    for K in K_val:\n",
    "        for dfname, DisFunc in DisFuncs.items():\n",
    "            predictY = KNN((trainX,trainY), vaildX, DisFunc, K, DisInvNormAvg)\n",
    "            cla_ret = get_classify(predictY, vaildY)\n",
    "            reg_ret = get_regress(predictY, vaildY)\n",
    "            results_reg[(K, dfname)] = reg_ret\n",
    "            results_cla[(K, dfname)] = cla_ret\n",
    "            print(K, dfname, \":\", cla_ret, reg_ret)\n",
    "    print(\"{} groups of argument tested, spent {}s\".format(len(K_val) * len(DisFuncs), time() - t))\n",
    "    return results_cla, results_reg\n",
    "\n",
    "def vaild(trainSet: Tuple, vaildSet: Tuple, K, DisFunc):\n",
    "    trainX, trainY = trainSet\n",
    "    vaildX, vaildY = vaildSet\n",
    "    predictY = KNN(trainSet,vaildX,DisFunc,K,DisInvNormAvg)\n",
    "    cla_ret = get_classify(predictY, vaildY)\n",
    "    reg_ret = get_regress(predictY, vaildY)\n",
    "    print(pfname, K, dfname, \":\", cla_ret, reg_ret)\n"
   ]
  },
  {
   "cell_type": "code",
   "execution_count": 6,
   "metadata": {
    "ExecuteTime": {
     "end_time": "2018-10-21T12:44:37.597563Z",
     "start_time": "2018-10-21T12:32:15.099070Z"
    }
   },
   "outputs": [
    {
     "name": "stdout",
     "output_type": "stream",
     "text": [
      "Start training...\n"
     ]
    },
    {
     "data": {
      "application/vnd.jupyter.widget-view+json": {
       "model_id": "d8e767b9feab4b92aa668c97da4834c7",
       "version_major": 2,
       "version_minor": 0
      },
      "text/plain": [
       "HBox(children=(IntProgress(value=0, max=4000), HTML(value='')))"
      ]
     },
     "metadata": {},
     "output_type": "display_data"
    },
    {
     "name": "stdout",
     "output_type": "stream",
     "text": [
      "\n",
      "Classification Accuracy:  0.347\n",
      "Correlation Coefficient:  0.3233941870744647\n",
      "1 Dis2 : 0.347 0.3233941870744647\n"
     ]
    },
    {
     "data": {
      "application/vnd.jupyter.widget-view+json": {
       "model_id": "913c64dea6a04d6496e05b11c91b3884",
       "version_major": 2,
       "version_minor": 0
      },
      "text/plain": [
       "HBox(children=(IntProgress(value=0, max=4000), HTML(value='')))"
      ]
     },
     "metadata": {},
     "output_type": "display_data"
    },
    {
     "name": "stdout",
     "output_type": "stream",
     "text": [
      "\n",
      "Classification Accuracy:  0.347\n",
      "Correlation Coefficient:  0.39860719582398535\n",
      "2 Dis2 : 0.347 0.39860719582398535\n"
     ]
    },
    {
     "data": {
      "application/vnd.jupyter.widget-view+json": {
       "model_id": "6d6c032fc62145f28b0a975fef74579c",
       "version_major": 2,
       "version_minor": 0
      },
      "text/plain": [
       "HBox(children=(IntProgress(value=0, max=4000), HTML(value='')))"
      ]
     },
     "metadata": {},
     "output_type": "display_data"
    },
    {
     "name": "stdout",
     "output_type": "stream",
     "text": [
      "\n",
      "Classification Accuracy:  0.36875\n",
      "Correlation Coefficient:  0.45443114629809883\n",
      "3 Dis2 : 0.36875 0.45443114629809883\n"
     ]
    },
    {
     "data": {
      "application/vnd.jupyter.widget-view+json": {
       "model_id": "e1ec49f4edeb4da2bcac2c363fa7c624",
       "version_major": 2,
       "version_minor": 0
      },
      "text/plain": [
       "HBox(children=(IntProgress(value=0, max=4000), HTML(value='')))"
      ]
     },
     "metadata": {},
     "output_type": "display_data"
    },
    {
     "name": "stdout",
     "output_type": "stream",
     "text": [
      "\n",
      "Classification Accuracy:  0.372\n",
      "Correlation Coefficient:  0.4879191160267574\n",
      "4 Dis2 : 0.372 0.4879191160267574\n"
     ]
    },
    {
     "data": {
      "application/vnd.jupyter.widget-view+json": {
       "model_id": "e9e0b9e865fc4588baa2e1315f632d8a",
       "version_major": 2,
       "version_minor": 0
      },
      "text/plain": [
       "HBox(children=(IntProgress(value=0, max=4000), HTML(value='')))"
      ]
     },
     "metadata": {},
     "output_type": "display_data"
    },
    {
     "name": "stdout",
     "output_type": "stream",
     "text": [
      "\n",
      "Classification Accuracy:  0.379\n",
      "Correlation Coefficient:  0.5065701726232688\n",
      "5 Dis2 : 0.379 0.5065701726232688\n"
     ]
    },
    {
     "data": {
      "application/vnd.jupyter.widget-view+json": {
       "model_id": "556cc8f76d9743aebf81f84080c7a2c1",
       "version_major": 2,
       "version_minor": 0
      },
      "text/plain": [
       "HBox(children=(IntProgress(value=0, max=4000), HTML(value='')))"
      ]
     },
     "metadata": {},
     "output_type": "display_data"
    },
    {
     "name": "stdout",
     "output_type": "stream",
     "text": [
      "\n",
      "Classification Accuracy:  0.38075\n",
      "Correlation Coefficient:  0.5196372992684534\n",
      "6 Dis2 : 0.38075 0.5196372992684534\n"
     ]
    },
    {
     "data": {
      "application/vnd.jupyter.widget-view+json": {
       "model_id": "6cc852f1b56c4536883ea5b8376619c4",
       "version_major": 2,
       "version_minor": 0
      },
      "text/plain": [
       "HBox(children=(IntProgress(value=0, max=4000), HTML(value='')))"
      ]
     },
     "metadata": {},
     "output_type": "display_data"
    },
    {
     "name": "stdout",
     "output_type": "stream",
     "text": [
      "\n",
      "Classification Accuracy:  0.3905\n",
      "Correlation Coefficient:  0.5314685203001267\n",
      "7 Dis2 : 0.3905 0.5314685203001267\n"
     ]
    },
    {
     "data": {
      "application/vnd.jupyter.widget-view+json": {
       "model_id": "c790ffb9dd884f8984e7e4706381e43b",
       "version_major": 2,
       "version_minor": 0
      },
      "text/plain": [
       "HBox(children=(IntProgress(value=0, max=4000), HTML(value='')))"
      ]
     },
     "metadata": {},
     "output_type": "display_data"
    },
    {
     "name": "stdout",
     "output_type": "stream",
     "text": [
      "\n",
      "Classification Accuracy:  0.39175\n",
      "Correlation Coefficient:  0.5413212439310982\n",
      "8 Dis2 : 0.39175 0.5413212439310982\n"
     ]
    },
    {
     "data": {
      "application/vnd.jupyter.widget-view+json": {
       "model_id": "6a30a7ec9acb41548ab0d9f03af9bbb4",
       "version_major": 2,
       "version_minor": 0
      },
      "text/plain": [
       "HBox(children=(IntProgress(value=0, max=4000), HTML(value='')))"
      ]
     },
     "metadata": {},
     "output_type": "display_data"
    },
    {
     "name": "stdout",
     "output_type": "stream",
     "text": [
      "\n",
      "Classification Accuracy:  0.39175\n",
      "Correlation Coefficient:  0.5472540995187428\n",
      "9 Dis2 : 0.39175 0.5472540995187428\n"
     ]
    },
    {
     "data": {
      "application/vnd.jupyter.widget-view+json": {
       "model_id": "4d711359444d48489e98f54e09fe811d",
       "version_major": 2,
       "version_minor": 0
      },
      "text/plain": [
       "HBox(children=(IntProgress(value=0, max=4000), HTML(value='')))"
      ]
     },
     "metadata": {},
     "output_type": "display_data"
    },
    {
     "name": "stdout",
     "output_type": "stream",
     "text": [
      "\n",
      "Classification Accuracy:  0.392\n",
      "Correlation Coefficient:  0.5526629747277266\n",
      "10 Dis2 : 0.392 0.5526629747277266\n"
     ]
    },
    {
     "data": {
      "application/vnd.jupyter.widget-view+json": {
       "model_id": "ab6ce5c350204c4b8e3970681f0c9ea5",
       "version_major": 2,
       "version_minor": 0
      },
      "text/plain": [
       "HBox(children=(IntProgress(value=0, max=4000), HTML(value='')))"
      ]
     },
     "metadata": {},
     "output_type": "display_data"
    },
    {
     "name": "stdout",
     "output_type": "stream",
     "text": [
      "\n",
      "Classification Accuracy:  0.39975\n",
      "Correlation Coefficient:  0.5603469705151668\n",
      "11 Dis2 : 0.39975 0.5603469705151668\n"
     ]
    },
    {
     "data": {
      "application/vnd.jupyter.widget-view+json": {
       "model_id": "24db1a1e0a34451e84d5de081bffa00a",
       "version_major": 2,
       "version_minor": 0
      },
      "text/plain": [
       "HBox(children=(IntProgress(value=0, max=4000), HTML(value='')))"
      ]
     },
     "metadata": {},
     "output_type": "display_data"
    },
    {
     "name": "stdout",
     "output_type": "stream",
     "text": [
      "\n",
      "Classification Accuracy:  0.39725\n",
      "Correlation Coefficient:  0.5657200898999728\n",
      "12 Dis2 : 0.39725 0.5657200898999728\n"
     ]
    },
    {
     "data": {
      "application/vnd.jupyter.widget-view+json": {
       "model_id": "cf8cfaba02304c6b96f53dd0346a97c8",
       "version_major": 2,
       "version_minor": 0
      },
      "text/plain": [
       "HBox(children=(IntProgress(value=0, max=4000), HTML(value='')))"
      ]
     },
     "metadata": {},
     "output_type": "display_data"
    },
    {
     "name": "stdout",
     "output_type": "stream",
     "text": [
      "\n",
      "Classification Accuracy:  0.40025\n",
      "Correlation Coefficient:  0.5679477213125027\n",
      "13 Dis2 : 0.40025 0.5679477213125027\n"
     ]
    },
    {
     "data": {
      "application/vnd.jupyter.widget-view+json": {
       "model_id": "f54b75c5e5794b5ca0b69057ad3d5e9e",
       "version_major": 2,
       "version_minor": 0
      },
      "text/plain": [
       "HBox(children=(IntProgress(value=0, max=4000), HTML(value='')))"
      ]
     },
     "metadata": {},
     "output_type": "display_data"
    },
    {
     "name": "stdout",
     "output_type": "stream",
     "text": [
      "\n",
      "Classification Accuracy:  0.39875\n",
      "Correlation Coefficient:  0.5697925043946138\n",
      "14 Dis2 : 0.39875 0.5697925043946138\n"
     ]
    },
    {
     "data": {
      "application/vnd.jupyter.widget-view+json": {
       "model_id": "92368a1a1a644ddaba65b3e5784af98e",
       "version_major": 2,
       "version_minor": 0
      },
      "text/plain": [
       "HBox(children=(IntProgress(value=0, max=4000), HTML(value='')))"
      ]
     },
     "metadata": {},
     "output_type": "display_data"
    },
    {
     "name": "stdout",
     "output_type": "stream",
     "text": [
      "\n",
      "Classification Accuracy:  0.4015\n",
      "Correlation Coefficient:  0.5700461673219002\n",
      "15 Dis2 : 0.4015 0.5700461673219002\n"
     ]
    },
    {
     "data": {
      "application/vnd.jupyter.widget-view+json": {
       "model_id": "7a8aa012a0e447debb051ba5e6616879",
       "version_major": 2,
       "version_minor": 0
      },
      "text/plain": [
       "HBox(children=(IntProgress(value=0, max=4000), HTML(value='')))"
      ]
     },
     "metadata": {},
     "output_type": "display_data"
    },
    {
     "name": "stdout",
     "output_type": "stream",
     "text": [
      "\n",
      "Classification Accuracy:  0.4005\n",
      "Correlation Coefficient:  0.57462938753293\n",
      "16 Dis2 : 0.4005 0.57462938753293\n"
     ]
    },
    {
     "data": {
      "application/vnd.jupyter.widget-view+json": {
       "model_id": "0a1a03fbeae348268abcc6ed7449d667",
       "version_major": 2,
       "version_minor": 0
      },
      "text/plain": [
       "HBox(children=(IntProgress(value=0, max=4000), HTML(value='')))"
      ]
     },
     "metadata": {},
     "output_type": "display_data"
    },
    {
     "name": "stdout",
     "output_type": "stream",
     "text": [
      "\n",
      "Classification Accuracy:  0.4025\n",
      "Correlation Coefficient:  0.5779907098574331\n",
      "17 Dis2 : 0.4025 0.5779907098574331\n"
     ]
    },
    {
     "data": {
      "application/vnd.jupyter.widget-view+json": {
       "model_id": "ece139183cc64f49aa089e9d6b7d1f93",
       "version_major": 2,
       "version_minor": 0
      },
      "text/plain": [
       "HBox(children=(IntProgress(value=0, max=4000), HTML(value='')))"
      ]
     },
     "metadata": {},
     "output_type": "display_data"
    },
    {
     "name": "stdout",
     "output_type": "stream",
     "text": [
      "\n",
      "Classification Accuracy:  0.4005\n",
      "Correlation Coefficient:  0.5802634337323745\n",
      "18 Dis2 : 0.4005 0.5802634337323745\n"
     ]
    },
    {
     "data": {
      "application/vnd.jupyter.widget-view+json": {
       "model_id": "4b6dd4b93e6b47369c3e9bb631f7fb2b",
       "version_major": 2,
       "version_minor": 0
      },
      "text/plain": [
       "HBox(children=(IntProgress(value=0, max=4000), HTML(value='')))"
      ]
     },
     "metadata": {},
     "output_type": "display_data"
    },
    {
     "name": "stdout",
     "output_type": "stream",
     "text": [
      "\n",
      "Classification Accuracy:  0.40325\n",
      "Correlation Coefficient:  0.5819222581213568\n",
      "19 Dis2 : 0.40325 0.5819222581213568\n",
      "19 groups of argument tested, spent 742.4912481307983s\n"
     ]
    },
    {
     "data": {
      "text/plain": [
       "(OrderedDict([((1, 'Dis2'), 0.347),\n",
       "              ((2, 'Dis2'), 0.347),\n",
       "              ((3, 'Dis2'), 0.36875),\n",
       "              ((4, 'Dis2'), 0.372),\n",
       "              ((5, 'Dis2'), 0.379),\n",
       "              ((6, 'Dis2'), 0.38075),\n",
       "              ((7, 'Dis2'), 0.3905),\n",
       "              ((8, 'Dis2'), 0.39175),\n",
       "              ((9, 'Dis2'), 0.39175),\n",
       "              ((10, 'Dis2'), 0.392),\n",
       "              ((11, 'Dis2'), 0.39975),\n",
       "              ((12, 'Dis2'), 0.39725),\n",
       "              ((13, 'Dis2'), 0.40025),\n",
       "              ((14, 'Dis2'), 0.39875),\n",
       "              ((15, 'Dis2'), 0.4015),\n",
       "              ((16, 'Dis2'), 0.4005),\n",
       "              ((17, 'Dis2'), 0.4025),\n",
       "              ((18, 'Dis2'), 0.4005),\n",
       "              ((19, 'Dis2'), 0.40325)]),\n",
       " OrderedDict([((1, 'Dis2'), 0.3233941870744647),\n",
       "              ((2, 'Dis2'), 0.39860719582398535),\n",
       "              ((3, 'Dis2'), 0.45443114629809883),\n",
       "              ((4, 'Dis2'), 0.4879191160267574),\n",
       "              ((5, 'Dis2'), 0.5065701726232688),\n",
       "              ((6, 'Dis2'), 0.5196372992684534),\n",
       "              ((7, 'Dis2'), 0.5314685203001267),\n",
       "              ((8, 'Dis2'), 0.5413212439310982),\n",
       "              ((9, 'Dis2'), 0.5472540995187428),\n",
       "              ((10, 'Dis2'), 0.5526629747277266),\n",
       "              ((11, 'Dis2'), 0.5603469705151668),\n",
       "              ((12, 'Dis2'), 0.5657200898999728),\n",
       "              ((13, 'Dis2'), 0.5679477213125027),\n",
       "              ((14, 'Dis2'), 0.5697925043946138),\n",
       "              ((15, 'Dis2'), 0.5700461673219002),\n",
       "              ((16, 'Dis2'), 0.57462938753293),\n",
       "              ((17, 'Dis2'), 0.5779907098574331),\n",
       "              ((18, 'Dis2'), 0.5802634337323745),\n",
       "              ((19, 'Dis2'), 0.5819222581213568)]))"
      ]
     },
     "execution_count": 6,
     "metadata": {},
     "output_type": "execute_result"
    }
   ],
   "source": [
    "autoTrain((KNNtrainX, KNNtrainY), (KNNvaildX, KNNvaildY))"
   ]
  },
  {
   "cell_type": "code",
   "execution_count": null,
   "metadata": {},
   "outputs": [],
   "source": []
  }
 ],
 "metadata": {
  "kernelspec": {
   "display_name": "Python 3",
   "language": "python",
   "name": "python3"
  },
  "language_info": {
   "codemirror_mode": {
    "name": "ipython",
    "version": 3
   },
   "file_extension": ".py",
   "mimetype": "text/x-python",
   "name": "python",
   "nbconvert_exporter": "python",
   "pygments_lexer": "ipython3",
   "version": "3.7.0"
  },
  "varInspector": {
   "cols": {
    "lenName": 16,
    "lenType": 16,
    "lenVar": 40
   },
   "kernels_config": {
    "python": {
     "delete_cmd_postfix": "",
     "delete_cmd_prefix": "del ",
     "library": "var_list.py",
     "varRefreshCmd": "print(var_dic_list())"
    },
    "r": {
     "delete_cmd_postfix": ") ",
     "delete_cmd_prefix": "rm(",
     "library": "var_list.r",
     "varRefreshCmd": "cat(var_dic_list()) "
    }
   },
   "types_to_exclude": [
    "module",
    "function",
    "builtin_function_or_method",
    "instance",
    "_Feature"
   ],
   "window_display": false
  }
 },
 "nbformat": 4,
 "nbformat_minor": 2
}
